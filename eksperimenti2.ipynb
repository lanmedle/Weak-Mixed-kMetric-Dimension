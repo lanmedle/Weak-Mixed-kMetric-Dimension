{
 "cells": [
  {
   "cell_type": "markdown",
   "metadata": {},
   "source": [
    "# CLP program"
   ]
  },
  {
   "cell_type": "code",
   "execution_count": 1,
   "metadata": {
    "vscode": {
     "languageId": "sage"
    }
   },
   "outputs": [
    {
     "name": "stdout",
     "output_type": "stream",
     "text": [
      "povezave: [(0, 1, None), (0, 4, None), (1, 2, None), (2, 3, None), (3, 4, None)]\n",
      "vozlisca: [0, 1, 2, 3, 4]\n"
     ]
    }
   ],
   "source": [
    "print(f'povezave: {graphs.CycleGraph(5).edges()}')\n",
    "print(f'vozlisca: {graphs.CycleGraph(5).vertices()}')"
   ]
  },
  {
   "cell_type": "code",
   "execution_count": 2,
   "metadata": {
    "vscode": {
     "languageId": "sage"
    }
   },
   "outputs": [],
   "source": [
    "from sage.numerical.mip import MixedIntegerLinearProgram\n",
    "\n",
    "# najprej bi rada definirala razdaljo - različne možnosti, glede na to kaj dobiš\n",
    "# vse skupaj 4 moznosti povezava-povezava, povezava-vozlišče, vozlišče-povezava, vozlišče-vozlišče\n",
    "def razdalja(moznost1, moznost2, G):\n",
    "    # če imamo dve povezavi\n",
    "    if isinstance(moznost1, tuple) and isinstance(moznost2, tuple):\n",
    "        U, V = moznost1\n",
    "        W, X = moznost2\n",
    "        return min(G.distance(U, W), G.distance(U, X), G.distance(V, W), G.distance(V, X))\n",
    "    # prva povezava, druga ne\n",
    "    elif isinstance(moznost1, tuple):\n",
    "        U, V = moznost1\n",
    "        return min(G.distance(U, moznost2), G.distance(V, moznost2))\n",
    "    # druga povezava, prva ne\n",
    "    elif isinstance(moznost2, tuple):\n",
    "        U, V = moznost2\n",
    "        return min(G.distance(U, moznost1), G.distance(V, moznost1))\n",
    "    # ce mamo dve vozlisci\n",
    "    else:\n",
    "        return G.distance(moznost1, moznost2)"
   ]
  },
  {
   "cell_type": "code",
   "execution_count": 3,
   "metadata": {
    "vscode": {
     "languageId": "sage"
    }
   },
   "outputs": [
    {
     "data": {
      "text/plain": [
       "2"
      ]
     },
     "execution_count": 3,
     "metadata": {},
     "output_type": "execute_result"
    }
   ],
   "source": [
    "G = graphs.CycleGraph(6)\n",
    "razdalja((0, 1), 3, G)"
   ]
  },
  {
   "cell_type": "code",
   "execution_count": 4,
   "metadata": {
    "vscode": {
     "languageId": "sage"
    }
   },
   "outputs": [],
   "source": [
    "def CLP_weak_k_dim(G, k):\n",
    "    p = MixedIntegerLinearProgram(maximization=False)\n",
    "    x = p.new_variable(binary=True)\n",
    "\n",
    "    V = G.vertices()\n",
    "    E = G.edges(labels=False)\n",
    "\n",
    "    moznosti = V + E\n",
    "    n = len(moznosti)\n",
    "\n",
    "    p.set_objective(sum(x[i] for i in range(n)))\n",
    "\n",
    "    for a in range(n):\n",
    "        for b in range(a + 1, n):\n",
    "            p.add_constraint(\n",
    "                sum(abs(razdalja(moznosti[a], moznosti[i], G) - razdalja(moznosti[b], moznosti[i], G)) * x[i] for i in range(n)) >= k\n",
    "            )\n",
    "\n",
    "    wmdim_k = p.solve()\n",
    "    mnozica_S = [moznosti[i] for i in range(n) if p.get_values(x[i]) > 0.5]\n",
    "\n",
    "    return (wmdim_k, mnozica_S)"
   ]
  },
  {
   "cell_type": "code",
   "execution_count": 5,
   "metadata": {
    "vscode": {
     "languageId": "sage"
    }
   },
   "outputs": [
    {
     "name": "stdout",
     "output_type": "stream",
     "text": [
      "(14.0, [0, 1, 2, 3, 4, 5, 6, (0, 1), (0, 6), (1, 2), (2, 3), (3, 4), (4, 5), (5, 6)])\n"
     ]
    }
   ],
   "source": [
    "G = graphs.CycleGraph(7)\n",
    "# ta graf bi imel takole: V = [0,1,2,3,4,5,6] in E = [((0,1),(1,2),(2,3),(3,4),(4,5),(5,6),(6,0)]\n",
    "k = 6\n",
    "\n",
    "print(f'{CLP_weak_k_dim(G,k)}') # - vrne S = [6, (0, 1), (1, 2), (3, 4), (4, 5)], torej zadnje vozlišče in te 4 povezave."
   ]
  },
  {
   "cell_type": "code",
   "execution_count": 6,
   "metadata": {
    "vscode": {
     "languageId": "sage"
    }
   },
   "outputs": [],
   "source": [
    "def kappa_2_crti(G):\n",
    "    k = 1\n",
    "    while True:\n",
    "        try:\n",
    "            CLP_weak_k_dim(G, k)\n",
    "            k += 1\n",
    "        except:\n",
    "            return k - 1"
   ]
  },
  {
   "cell_type": "code",
   "execution_count": 7,
   "metadata": {
    "vscode": {
     "languageId": "sage"
    }
   },
   "outputs": [
    {
     "data": {
      "text/plain": [
       "6"
      ]
     },
     "execution_count": 7,
     "metadata": {},
     "output_type": "execute_result"
    }
   ],
   "source": [
    "kappa_2_crti(G)"
   ]
  },
  {
   "cell_type": "markdown",
   "metadata": {},
   "source": [
    "# CIKLI"
   ]
  },
  {
   "cell_type": "code",
   "execution_count": 8,
   "metadata": {
    "vscode": {
     "languageId": "sage"
    }
   },
   "outputs": [],
   "source": [
    "def cikli_do_n(n):\n",
    "    for i in range(3, n + 1):\n",
    "        G = graphs.CycleGraph(i) \n",
    "        kappa_2crti = kappa_2_crti(G)\n",
    "        print(f\"- velikost: {i} : kappa = {kappa_2crti}\")\n",
    "        for k in range(1, kappa_2crti + 1):\n",
    "            wmdim, _ = CLP_weak_k_dim(G, k)\n",
    "            print(f\"  k = {k}, wmdim = {wmdim}\")"
   ]
  },
  {
   "cell_type": "code",
   "execution_count": 9,
   "metadata": {
    "vscode": {
     "languageId": "sage"
    }
   },
   "outputs": [],
   "source": [
    "#G = graphs.CycleGraph(13)\n",
    "#k = 6\n",
    "\n",
    "#print(f'{CLP_weak_k_dim(G,k)}')\n",
    "#print(f'{kappa_2_crti(G)}')"
   ]
  },
  {
   "cell_type": "code",
   "execution_count": 10,
   "metadata": {
    "vscode": {
     "languageId": "sage"
    }
   },
   "outputs": [
    {
     "name": "stdout",
     "output_type": "stream",
     "text": [
      "- velikost: 3 : kappa = 2\n",
      "  k = 1, wmdim = 3.0\n",
      "  k = 2, wmdim = 6.0\n",
      "- velikost: 4 : kappa = 3\n",
      "  k = 1, wmdim = 3.0\n",
      "  k = 2, wmdim = 4.0\n",
      "  k = 3, wmdim = 8.0\n",
      "- velikost: 5 : kappa = 4\n",
      "  k = 1, wmdim = 3.0\n",
      "  k = 2, wmdim = 5.0\n",
      "  k = 3, wmdim = 8.0\n",
      "  k = 4, wmdim = 10.0\n",
      "- velikost: 6 : kappa = 5\n",
      "  k = 1, wmdim = 3.0\n",
      "  k = 2, wmdim = 4.0\n",
      "  k = 3, wmdim = 6.0\n",
      "  k = 4, wmdim = 9.0\n",
      "  k = 5, wmdim = 12.0\n",
      "- velikost: 7 : kappa = 6\n",
      "  k = 1, wmdim = 3.0\n",
      "  k = 2, wmdim = 5.0\n",
      "  k = 3, wmdim = 7.0\n",
      "  k = 4, wmdim = 10.0\n",
      "  k = 5, wmdim = 12.0\n",
      "  k = 6, wmdim = 14.0\n",
      "- velikost: 8 : kappa = 7\n",
      "  k = 1, wmdim = 3.0\n",
      "  k = 2, wmdim = 4.0\n",
      "  k = 3, wmdim = 6.0\n",
      "  k = 4, wmdim = 8.0\n",
      "  k = 5, wmdim = 11.0\n",
      "  k = 6, wmdim = 14.0\n",
      "  k = 7, wmdim = 16.0\n",
      "- velikost: 9 : kappa = 8\n",
      "  k = 1, wmdim = 3.0\n",
      "  k = 2, wmdim = 5.0\n",
      "  k = 3, wmdim = 7.0\n",
      "  k = 4, wmdim = 9.0\n",
      "  k = 5, wmdim = 12.0\n",
      "  k = 6, wmdim = 14.0\n",
      "  k = 7, wmdim = 16.0\n",
      "  k = 8, wmdim = 18.0\n",
      "- velikost: 10 : kappa = 9\n",
      "  k = 1, wmdim = 3.0\n",
      "  k = 2, wmdim = 4.0\n",
      "  k = 3, wmdim = 6.0\n",
      "  k = 4, wmdim = 8.0\n",
      "  k = 5, wmdim = 10.0\n",
      "  k = 6, wmdim = 13.0\n",
      "  k = 7, wmdim = 15.0\n",
      "  k = 8, wmdim = 18.0\n",
      "  k = 9, wmdim = 20.0\n",
      "- velikost: 11 : kappa = 10\n",
      "  k = 1, wmdim = 3.0\n",
      "  k = 2, wmdim = 5.0\n",
      "  k = 3, wmdim = 7.0\n",
      "  k = 4, wmdim = 9.0\n",
      "  k = 5, wmdim = 11.0\n",
      "  k = 6, wmdim = 14.0\n",
      "  k = 7, wmdim = 16.0\n",
      "  k = 8, wmdim = 18.0\n",
      "  k = 9, wmdim = 20.0\n",
      "  k = 10, wmdim = 22.0\n",
      "- velikost: 12 : kappa = 11\n",
      "  k = 1, wmdim = 3.0\n",
      "  k = 2, wmdim = 4.0\n",
      "  k = 3, wmdim = 6.0\n",
      "  k = 4, wmdim = 8.0\n",
      "  k = 5, wmdim = 10.0\n",
      "  k = 6, wmdim = 12.0\n",
      "  k = 7, wmdim = 15.0\n",
      "  k = 8, wmdim = 17.0\n",
      "  k = 9, wmdim = 20.0\n",
      "  k = 10, wmdim = 22.0\n",
      "  k = 11, wmdim = 24.0\n",
      "- velikost: 13 : kappa = 12\n",
      "  k = 1, wmdim = 3.0\n",
      "  k = 2, wmdim = 5.0\n",
      "  k = 3, wmdim = 7.0\n",
      "  k = 4, wmdim = 9.0\n",
      "  k = 5, wmdim = 11.0\n",
      "  k = 6, wmdim = 13.0\n",
      "  k = 7, wmdim = 16.0\n",
      "  k = 8, wmdim = 18.0\n",
      "  k = 9, wmdim = 20.0\n",
      "  k = 10, wmdim = 22.0\n",
      "  k = 11, wmdim = 24.0\n",
      "  k = 12, wmdim = 26.0\n",
      "- velikost: 14 : kappa = 13\n",
      "  k = 1, wmdim = 3.0\n",
      "  k = 2, wmdim = 4.0\n",
      "  k = 3, wmdim = 6.0\n",
      "  k = 4, wmdim = 8.0\n",
      "  k = 5, wmdim = 10.0\n",
      "  k = 6, wmdim = 12.0\n",
      "  k = 7, wmdim = 14.0\n",
      "  k = 8, wmdim = 17.0\n",
      "  k = 9, wmdim = 19.0\n",
      "  k = 10, wmdim = 21.0\n",
      "  k = 11, wmdim = 24.0\n",
      "  k = 12, wmdim = 26.0\n",
      "  k = 13, wmdim = 28.0\n",
      "- velikost: 15 : kappa = 14\n",
      "  k = 1, wmdim = 3.0\n",
      "  k = 2, wmdim = 5.0\n",
      "  k = 3, wmdim = 7.0\n",
      "  k = 4, wmdim = 9.0\n",
      "  k = 5, wmdim = 11.0\n",
      "  k = 6, wmdim = 13.0\n",
      "  k = 7, wmdim = 15.0\n",
      "  k = 8, wmdim = 18.0\n",
      "  k = 9, wmdim = 20.0\n",
      "  k = 10, wmdim = 22.0\n",
      "  k = 11, wmdim = 24.0\n",
      "  k = 12, wmdim = 26.0\n",
      "  k = 13, wmdim = 28.0\n",
      "  k = 14, wmdim = 30.0\n",
      "- velikost: 16 : kappa = 15\n",
      "  k = 1, wmdim = 3.0\n",
      "  k = 2, wmdim = 4.0\n",
      "  k = 3, wmdim = 6.0\n",
      "  k = 4, wmdim = 8.0\n",
      "  k = 5, wmdim = 10.0\n",
      "  k = 6, wmdim = 12.0\n",
      "  k = 7, wmdim = 14.0\n",
      "  k = 8, wmdim = 16.0\n",
      "  k = 9, wmdim = 19.0\n",
      "  k = 10, wmdim = 21.0\n",
      "  k = 11, wmdim = 23.0\n",
      "  k = 12, wmdim = 26.0\n",
      "  k = 13, wmdim = 28.0\n",
      "  k = 14, wmdim = 30.0\n",
      "  k = 15, wmdim = 32.0\n",
      "- velikost: 17 : kappa = 16\n",
      "  k = 1, wmdim = 3.0\n",
      "  k = 2, wmdim = 5.0\n",
      "  k = 3, wmdim = 7.0\n",
      "  k = 4, wmdim = 9.0\n",
      "  k = 5, wmdim = 11.0\n",
      "  k = 6, wmdim = 13.0\n",
      "  k = 7, wmdim = 15.0\n",
      "  k = 8, wmdim = 17.0\n",
      "  k = 9, wmdim = 20.0\n",
      "  k = 10, wmdim = 22.0\n",
      "  k = 11, wmdim = 24.0\n",
      "  k = 12, wmdim = 26.0\n",
      "  k = 13, wmdim = 28.0\n",
      "  k = 14, wmdim = 30.0\n",
      "  k = 15, wmdim = 32.0\n",
      "  k = 16, wmdim = 34.0\n",
      "- velikost: 18 : kappa = 17\n",
      "  k = 1, wmdim = 3.0\n",
      "  k = 2, wmdim = 4.0\n",
      "  k = 3, wmdim = 6.0\n",
      "  k = 4, wmdim = 8.0\n",
      "  k = 5, wmdim = 10.0\n",
      "  k = 6, wmdim = 12.0\n",
      "  k = 7, wmdim = 14.0\n",
      "  k = 8, wmdim = 16.0\n",
      "  k = 9, wmdim = 18.0\n",
      "  k = 10, wmdim = 21.0\n",
      "  k = 11, wmdim = 23.0\n",
      "  k = 12, wmdim = 25.0\n",
      "  k = 13, wmdim = 27.0\n",
      "  k = 14, wmdim = 30.0\n",
      "  k = 15, wmdim = 32.0\n",
      "  k = 16, wmdim = 34.0\n",
      "  k = 17, wmdim = 36.0\n",
      "- velikost: 19 : kappa = 18\n",
      "  k = 1, wmdim = 3.0\n",
      "  k = 2, wmdim = 5.0\n",
      "  k = 3, wmdim = 7.0\n",
      "  k = 4, wmdim = 9.0\n",
      "  k = 5, wmdim = 11.0\n",
      "  k = 6, wmdim = 13.0\n",
      "  k = 7, wmdim = 15.0\n",
      "  k = 8, wmdim = 17.0\n",
      "  k = 9, wmdim = 19.0\n",
      "  k = 10, wmdim = 22.0\n",
      "  k = 11, wmdim = 24.0\n",
      "  k = 12, wmdim = 26.0\n",
      "  k = 13, wmdim = 28.0\n",
      "  k = 14, wmdim = 30.0\n",
      "  k = 15, wmdim = 32.0\n",
      "  k = 16, wmdim = 34.0\n",
      "  k = 17, wmdim = 36.0\n",
      "  k = 18, wmdim = 38.0\n",
      "- velikost: 20 : kappa = 19\n",
      "  k = 1, wmdim = 3.0\n",
      "  k = 2, wmdim = 4.0\n",
      "  k = 3, wmdim = 6.0\n",
      "  k = 4, wmdim = 8.0\n",
      "  k = 5, wmdim = 10.0\n",
      "  k = 6, wmdim = 12.0\n",
      "  k = 7, wmdim = 14.0\n",
      "  k = 8, wmdim = 16.0\n",
      "  k = 9, wmdim = 18.0\n",
      "  k = 10, wmdim = 20.0\n",
      "  k = 11, wmdim = 23.0\n",
      "  k = 12, wmdim = 25.0\n",
      "  k = 13, wmdim = 27.0\n",
      "  k = 14, wmdim = 29.0\n",
      "  k = 15, wmdim = 32.0\n",
      "  k = 16, wmdim = 34.0\n",
      "  k = 17, wmdim = 36.0\n",
      "  k = 18, wmdim = 38.0\n",
      "  k = 19, wmdim = 40.0\n"
     ]
    }
   ],
   "source": [
    "cikli_do_n(20)"
   ]
  },
  {
   "cell_type": "markdown",
   "metadata": {},
   "source": [
    "Zgleda, da je za cikle $\\kappa''(G) = n-1,$ kjer je $n$ red cikla `G = graphs.CycleGraph(n)`. Glede $wmdim_k(G)$ bi rekla, da je za $k = 1$ ta vedno enaka $3$, za višje $k$ pa zgleda, kot, da se vedno povečuje za $2$, razen, ko je $k = \\lfloor \\frac{velikost}{2} \\rfloor + 1$. Takrat se $wmdim_k(G)$ poveča za $3$. Če bi to napisala malo bolj matematično, bi zgledalo nekako tako: $$wmdim(1) = 3,$$\n",
    "$$wmdim(k) = \n",
    "\\begin{cases} \n",
    "wmdim(k-1) + 2, & \\text{če} \\, k \\neq \\left\\lfloor \\frac{\\text{velikost}}{2} \\right\\rfloor + 1 \\\\\n",
    "wmdim(k-1) + 3, & \\text{če} \\, k = \\left\\lfloor \\frac{\\text{velikost}}{2} \\right\\rfloor + 1\n",
    "\\end{cases}$$"
   ]
  },
  {
   "cell_type": "markdown",
   "metadata": {},
   "source": [
    "# Hiperkocke"
   ]
  },
  {
   "cell_type": "code",
   "execution_count": 11,
   "metadata": {
    "vscode": {
     "languageId": "sage"
    }
   },
   "outputs": [],
   "source": [
    "def hiperkocke_do_n(n):\n",
    "    for i in range(1, n + 1):\n",
    "        G = graphs.CubeGraph(i)\n",
    "        kappa_2crti = kappa_2_crti(G)\n",
    "        print(f\"- velikost: {i} : kappa = {kappa_2crti}\")\n",
    "        for k in range(kappa_2crti + 1):\n",
    "            wmdim, _ = CLP_weak_k_dim(G, k)\n",
    "            print(f\"  k = {k}, wmdim = {wmdim}\")"
   ]
  },
  {
   "cell_type": "code",
   "execution_count": 12,
   "metadata": {
    "vscode": {
     "languageId": "sage"
    }
   },
   "outputs": [
    {
     "data": {
      "text/plain": [
       "(3.0, ['000', '101', '110'])"
      ]
     },
     "execution_count": 12,
     "metadata": {},
     "output_type": "execute_result"
    }
   ],
   "source": [
    "k = 1\n",
    "H = graphs.CubeGraph(3)\n",
    "CLP_weak_k_dim(H, k)"
   ]
  },
  {
   "cell_type": "code",
   "execution_count": 13,
   "metadata": {
    "vscode": {
     "languageId": "sage"
    }
   },
   "outputs": [
    {
     "name": "stdout",
     "output_type": "stream",
     "text": [
      "- velikost: 1 : kappa = 1\n",
      "  k = 0, wmdim = 0.0\n",
      "  k = 1, wmdim = 2.0\n",
      "- velikost: 2 : kappa = 3\n",
      "  k = 0, wmdim = 0.0\n",
      "  k = 1, wmdim = 3.0\n",
      "  k = 2, wmdim = 4.0\n",
      "  k = 3, wmdim = 8.0\n",
      "- velikost: 3 : kappa = 8\n",
      "  k = 0, wmdim = 0.0\n",
      "  k = 1, wmdim = 3.0\n",
      "  k = 2, wmdim = 4.0\n",
      "  k = 3, wmdim = 7.0\n",
      "  k = 4, wmdim = 8.0\n",
      "  k = 5, wmdim = 12.0\n",
      "  k = 6, wmdim = 14.0\n",
      "  k = 7, wmdim = 17.0\n",
      "  k = 8, wmdim = 20.0\n",
      "- velikost: 4 : kappa = 20\n",
      "  k = 0, wmdim = 0.0\n",
      "  k = 1, wmdim = 4.0\n",
      "  k = 2, wmdim = 5.0\n",
      "  k = 3, wmdim = 7.0\n",
      "  k = 4, wmdim = 8.0\n",
      "  k = 5, wmdim = 11.0\n",
      "  k = 6, wmdim = 13.0\n",
      "  k = 7, wmdim = 15.0\n",
      "  k = 8, wmdim = 16.0\n",
      "  k = 9, wmdim = 20.0\n",
      "  k = 10, wmdim = 22.0\n",
      "  k = 11, wmdim = 24.0\n",
      "  k = 12, wmdim = 27.0\n",
      "  k = 13, wmdim = 30.0\n",
      "  k = 14, wmdim = 32.0\n",
      "  k = 15, wmdim = 35.0\n",
      "  k = 16, wmdim = 38.0\n",
      "  k = 17, wmdim = 40.0\n",
      "  k = 18, wmdim = 43.0\n",
      "  k = 19, wmdim = 46.0\n",
      "  k = 20, wmdim = 48.0\n"
     ]
    }
   ],
   "source": [
    "hiperkocke_do_n(4)"
   ]
  }
 ],
 "metadata": {
  "kernelspec": {
   "display_name": "SageMath 10.4",
   "language": "sage",
   "name": "sagemath"
  },
  "language_info": {
   "codemirror_mode": {
    "name": "ipython",
    "version": 3
   },
   "file_extension": ".py",
   "mimetype": "text/x-python",
   "name": "python",
   "nbconvert_exporter": "python",
   "pygments_lexer": "ipython3",
   "version": "3.10.16"
  }
 },
 "nbformat": 4,
 "nbformat_minor": 2
}

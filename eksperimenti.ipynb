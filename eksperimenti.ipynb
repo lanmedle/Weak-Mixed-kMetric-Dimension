{
 "cells": [
  {
   "cell_type": "markdown",
   "id": "7100f1dc",
   "metadata": {},
   "source": [
    "### Pregled nekaterih funkcij sagea in neka osnovna ideja formul za resolving set"
   ]
  },
  {
   "cell_type": "code",
   "execution_count": 2,
   "id": "8b0a3011-a676-4626-9796-6bdf2660a188",
   "metadata": {
    "vscode": {
     "languageId": "sage"
    }
   },
   "outputs": [],
   "source": [
    "k5 = graphs.CycleGraph(5)"
   ]
  },
  {
   "cell_type": "code",
   "execution_count": 3,
   "id": "8d086ad2-f2b7-45a6-9f4c-e9dcb2705266",
   "metadata": {
    "vscode": {
     "languageId": "sage"
    }
   },
   "outputs": [
    {
     "data": {
      "image/png": "[encoded data removed]",
      "text/plain": [
       "Graphics object consisting of 11 graphics primitives"
      ]
     },
     "metadata": {},
     "output_type": "display_data"
    }
   ],
   "source": [
    "k5.show()"
   ]
  },
  {
   "cell_type": "code",
   "execution_count": 4,
   "id": "8aff9d7d-f875-4f12-becb-93ddbb312a6d",
   "metadata": {
    "vscode": {
     "languageId": "sage"
    }
   },
   "outputs": [
    {
     "data": {
      "text/plain": [
       "[0 1 2 2 1]\n",
       "[1 0 1 2 2]\n",
       "[2 1 0 1 2]\n",
       "[2 2 1 0 1]\n",
       "[1 2 2 1 0]"
      ]
     },
     "execution_count": 4,
     "metadata": {},
     "output_type": "execute_result"
    }
   ],
   "source": [
    "k5.distance_matrix() # najkrajše poti med vozlišči"
   ]
  },
  {
   "cell_type": "code",
   "execution_count": 5,
   "id": "ac2b3fcf-6c3f-406a-91c6-2a7b0f98d5bd",
   "metadata": {
    "vscode": {
     "languageId": "sage"
    }
   },
   "outputs": [],
   "source": [
    "def ali_weak_k_resolving_set(G, S, k):\n",
    "    dist = G.distance_matrix() # izračunamo matriko razdalj z vgrajeno funkcijo\n",
    "    vertices = G.vertices()\n",
    "    n = len(vertices)\n",
    "    # gremo čez vse pare vozlišč\n",
    "    for a in range(n):\n",
    "        for b in range(n):\n",
    "            if a != b:\n",
    "                vsota = sum(abs(dist[a,i]-dist[b,i]) for i in S)\n",
    "                if vsota < k:\n",
    "                    return False\n",
    "    return True"
   ]
  },
  {
   "cell_type": "code",
   "execution_count": 6,
   "id": "c8e240f6-e0e9-4038-a1a3-d014af9c8a1c",
   "metadata": {
    "vscode": {
     "languageId": "sage"
    }
   },
   "outputs": [],
   "source": [
    "# v veliko pomoč: https://doc.sagemath.org/pdf/en/reference/graphs/graphs.pdf"
   ]
  },
  {
   "cell_type": "markdown",
   "id": "fc8b8b31",
   "metadata": {},
   "source": [
    "Okej, spodej je dejanska koda, ki se mi zdi, da bi mogla bit okej? Nevem pa kok je ekonomična + ni zares CLP??"
   ]
  },
  {
   "cell_type": "code",
   "execution_count": 7,
   "id": "3faa4342-3c8b-411a-a642-1853e6b495d6",
   "metadata": {
    "vscode": {
     "languageId": "sage"
    }
   },
   "outputs": [],
   "source": [
    "from itertools import combinations\n",
    "\n",
    "def poisci_weak_k_resolving_set(G, k):\n",
    "    vertices = G.vertices()\n",
    "    n = len(vertices)\n",
    "    for v in range(1, n + 1):\n",
    "        for komb in combinations(range(n), v):\n",
    "            if ali_weak_k_resolving_set(G, komb, k):\n",
    "                return [vertices[i] for i in komb], v\n",
    "    return [], 0 "
   ]
  },
  {
   "cell_type": "code",
   "execution_count": 8,
   "id": "6aececb6-f1ee-4034-9adb-8c9d718ad03c",
   "metadata": {
    "vscode": {
     "languageId": "sage"
    }
   },
   "outputs": [
    {
     "name": "stdout",
     "output_type": "stream",
     "text": [
      "Najmanjša šibka k-resolventna množica: [0, 1, 2, 3, 4]\n",
      "wdim_k(G): 5\n"
     ]
    }
   ],
   "source": [
    "# malo za hec, testirala kaj kej dobim z zgornjo kodo\n",
    "\n",
    "G = graphs.CycleGraph(5)\n",
    "k = 4   # tukej za 1 zamaknjeno od spodaj??\n",
    "resolvent_set, wdim_k = poisci_weak_k_resolving_set(G, k)\n",
    "print(f\"Najmanjša šibka k-resolventna množica: {resolvent_set}\")\n",
    "print(f\"wdim_k(G): {wdim_k}\")"
   ]
  },
  {
   "cell_type": "code",
   "execution_count": 9,
   "id": "85af1413-cef8-4348-b25d-c1fbf0ce8a61",
   "metadata": {
    "vscode": {
     "languageId": "sage"
    }
   },
   "outputs": [],
   "source": [
    "# poiščimo \\kappa''(G)\n",
    "def poisci_kappa_2crti(G):\n",
    "    k = 1\n",
    "    while True:\n",
    "        resolvent_set, size = poisci_weak_k_resolving_set(G, k)\n",
    "        if not resolvent_set:  # če vrne prazno množico, končamo\n",
    "            break\n",
    "        k += 1\n",
    "    return k - 1"
   ]
  },
  {
   "cell_type": "code",
   "execution_count": 10,
   "id": "4d7358d7",
   "metadata": {
    "vscode": {
     "languageId": "sage"
    }
   },
   "outputs": [],
   "source": [
    "def poisci_wmdim_k(G, k):\n",
    "    resolvent_set, size = poisci_weak_k_resolving_set(G, k)\n",
    "    return size if resolvent_set else None"
   ]
  },
  {
   "cell_type": "code",
   "execution_count": 11,
   "id": "be08b2ef",
   "metadata": {
    "vscode": {
     "languageId": "sage"
    }
   },
   "outputs": [
    {
     "name": "stdout",
     "output_type": "stream",
     "text": [
      "4, 5\n"
     ]
    }
   ],
   "source": [
    "# še en eksperiment, ki se ujema z zgornjo kodo \n",
    "\n",
    "print(f'{poisci_kappa_2crti(G)}, {poisci_wmdim_k(G, k)}')"
   ]
  },
  {
   "cell_type": "markdown",
   "id": "13615ef4",
   "metadata": {},
   "source": [
    "# CLP\n",
    "Če probamo napisat še CLP za to isto stvar (again - eksperiment).\n",
    "Probala si bom pomagat z https://doc.sagemath.org/html/en/reference/numerical/sage/numerical/mip.html in https://arxiv.org/abs/2309.00922"
   ]
  },
  {
   "cell_type": "code",
   "execution_count": 12,
   "id": "fc7c0973",
   "metadata": {
    "vscode": {
     "languageId": "sage"
    }
   },
   "outputs": [],
   "source": [
    "from sage.numerical.mip import MixedIntegerLinearProgram\n",
    "\n",
    "def CLP_weak_k_dim(G, k):\n",
    "    p = MixedIntegerLinearProgram(maximization=False)\n",
    "    x = p.new_variable(binary=True)\n",
    "\n",
    "    V = G.vertices()\n",
    "    n = len(V)\n",
    "\n",
    "    p.set_objective(sum(x[i] for i in range(n)))\n",
    "\n",
    "    for a in range(n):\n",
    "        for b in range(a + 1, n):\n",
    "            p.add_constraint(\n",
    "                sum(abs(G.distance(V[a], V[i]) - G.distance(V[b], V[i])) * x[i] for i in range(n)) >= k\n",
    "            )\n",
    "            \n",
    "    wmdim_k = p.solve()\n",
    "    mnozica_S = [V[i] for i in range(n) if p.get_values(x[i]) > 0.5]\n",
    "\n",
    "    return (wmdim_k, mnozica_S)\n"
   ]
  },
  {
   "cell_type": "code",
   "execution_count": 13,
   "id": "3b97ea4a",
   "metadata": {
    "vscode": {
     "languageId": "sage"
    }
   },
   "outputs": [
    {
     "name": "stdout",
     "output_type": "stream",
     "text": [
      "(3.0, [0, 1, 3])\n"
     ]
    }
   ],
   "source": [
    "G = graphs.CycleGraph(20)\n",
    "G = graphs.CompleteGraph(4)\n",
    "k = 1\n",
    "\n",
    "print(f'{CLP_weak_k_dim(G,k)}')"
   ]
  },
  {
   "cell_type": "code",
   "execution_count": 14,
   "id": "b138a1c2",
   "metadata": {
    "vscode": {
     "languageId": "sage"
    }
   },
   "outputs": [],
   "source": [
    "def kappa_2_crti(G):\n",
    "    k = 1\n",
    "    while True:\n",
    "        try:\n",
    "            CLP_weak_k_dim(G, k)\n",
    "            k += 1\n",
    "        except:\n",
    "            return k - 1"
   ]
  },
  {
   "cell_type": "code",
   "execution_count": 15,
   "id": "5d01c46d",
   "metadata": {
    "vscode": {
     "languageId": "sage"
    }
   },
   "outputs": [
    {
     "name": "stdout",
     "output_type": "stream",
     "text": [
      "(2.0, [2, 6])\n",
      "6\n"
     ]
    }
   ],
   "source": [
    "G = graphs.CycleGraph(7)\n",
    "\n",
    "H = graphs.CompleteGraph(4)\n",
    "k = 1\n",
    "\n",
    "I = graphs.CompleteBipartiteGraph(2,5)\n",
    "\n",
    "# ostale oblike grafov so na https://doc.sagemath.org/html/en/reference/graphs/sage/graphs/graph_generators.html\n",
    "\n",
    "# predlog: najprej probej za k = 1, da dobiš kappa'', in potem izbiraj poljuben 0 <= k<= kappa''\n",
    "print(f'{CLP_weak_k_dim(G,k)}')\n",
    "print(f'{kappa_2_crti(G)}')"
   ]
  },
  {
   "cell_type": "markdown",
   "id": "93116408",
   "metadata": {},
   "source": [
    "# Poskus ugibanja formule\n",
    "Od tu naprej se začenja poskus ugibanja formule."
   ]
  },
  {
   "cell_type": "code",
   "execution_count": 19,
   "id": "9e292037",
   "metadata": {
    "vscode": {
     "languageId": "sage"
    }
   },
   "outputs": [],
   "source": [
    "def cikli_do_n(n):\n",
    "    for i in range(3, n + 1):\n",
    "        G = graphs.CycleGraph(i)\n",
    "        kappa_2crti = kappa_2_crti(G)\n",
    "        print(f\"- velikost: {i} : kappa = {kappa_2crti}\")\n",
    "        for k in range(kappa_2crti):\n",
    "            wmdim, _ = CLP_weak_k_dim(G, k)\n",
    "            print(f\"  k = {k}, wmdim = {wmdim}\")\n"
   ]
  },
  {
   "cell_type": "code",
   "execution_count": null,
   "id": "6b0e7764",
   "metadata": {
    "vscode": {
     "languageId": "sage"
    }
   },
   "outputs": [],
   "source": [
    "cikli_do_n(20) "
   ]
  },
  {
   "cell_type": "markdown",
   "id": "44814abf",
   "metadata": {},
   "source": [
    "Na podlagi zgornje funkcije za prvih 20 ciklov bi sklepala, da je $\\kappa''(C_n) = \\begin{cases}\n",
    "n - 1, & \\text{če je } n \\text{ liho,} \\\\\n",
    "n, & \\text{če je } n \\text{ sodo.}\n",
    "\\end{cases}$\n",
    "\n",
    "Prav tako bi sklepala na $wmdim_k(C_n)$. Za sode $n$ (glede na zgornje rezultate) je $wmdim_k(G) = k$, za lihe pa (ko $k>0$) $wmdim_k(G) = k + 1$."
   ]
  }
 ],
 "metadata": {
  "kernelspec": {
   "display_name": "SageMath 10.4",
   "language": "sage",
   "name": "sagemath"
  },
  "language_info": {
   "codemirror_mode": {
    "name": "ipython",
    "version": 3
   },
   "file_extension": ".py",
   "mimetype": "text/x-python",
   "name": "python",
   "nbconvert_exporter": "python",
   "pygments_lexer": "ipython3",
   "version": "3.10.16"
  }
 },
 "nbformat": 4,
 "nbformat_minor": 5
}

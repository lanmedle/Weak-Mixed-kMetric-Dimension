{
 "cells": [
  {
   "cell_type": "markdown",
   "id": "7100f1dc",
   "metadata": {},
   "source": [
    "### Pregled nekaterih funkcij sagea in neka osnovna ideja formul za resolving set"
   ]
  },
  {
   "cell_type": "code",
   "execution_count": 1,
   "id": "8b0a3011-a676-4626-9796-6bdf2660a188",
   "metadata": {
    "vscode": {
     "languageId": "sage"
    }
   },
   "outputs": [],
   "source": [
    "k5 = graphs.CycleGraph(5)"
   ]
  },
  {
   "cell_type": "code",
   "execution_count": 2,
   "id": "8d086ad2-f2b7-45a6-9f4c-e9dcb2705266",
   "metadata": {
    "vscode": {
     "languageId": "sage"
    }
   },
   "outputs": [
    {
     "data": {
      "image/png": "[encoded data removed]",
      "text/plain": [
       "Graphics object consisting of 11 graphics primitives"
      ]
     },
     "metadata": {},
     "output_type": "display_data"
    }
   ],
   "source": [
    "k5.show()"
   ]
  },
  {
   "cell_type": "code",
   "execution_count": 3,
   "id": "8aff9d7d-f875-4f12-becb-93ddbb312a6d",
   "metadata": {
    "vscode": {
     "languageId": "sage"
    }
   },
   "outputs": [
    {
     "data": {
      "text/plain": [
       "[0 1 2 2 1]\n",
       "[1 0 1 2 2]\n",
       "[2 1 0 1 2]\n",
       "[2 2 1 0 1]\n",
       "[1 2 2 1 0]"
      ]
     },
     "execution_count": 3,
     "metadata": {},
     "output_type": "execute_result"
    }
   ],
   "source": [
    "k5.distance_matrix() # najkrajše poti med vozlišči"
   ]
  },
  {
   "cell_type": "code",
   "execution_count": 4,
   "id": "ac2b3fcf-6c3f-406a-91c6-2a7b0f98d5bd",
   "metadata": {
    "vscode": {
     "languageId": "sage"
    }
   },
   "outputs": [],
   "source": [
    "def ali_weak_k_resolving_set(G, S, k):\n",
    "    dist = G.distance_matrix() # izračunamo matriko razdalj z vgrajeno funkcijo\n",
    "    vertices = G.vertices()\n",
    "    n = len(vertices)\n",
    "    # gremo čez vse pare vozlišč\n",
    "    for a in range(n):\n",
    "        for b in range(n):\n",
    "            if a != b:\n",
    "                vsota = sum(abs(dist[a,i]-dist[b,i]) for i in S)\n",
    "                if vsota < k:\n",
    "                    return False\n",
    "    return True"
   ]
  },
  {
   "cell_type": "code",
   "execution_count": 5,
   "id": "c8e240f6-e0e9-4038-a1a3-d014af9c8a1c",
   "metadata": {
    "vscode": {
     "languageId": "sage"
    }
   },
   "outputs": [],
   "source": [
    "# v veliko pomoč: https://doc.sagemath.org/pdf/en/reference/graphs/graphs.pdf"
   ]
  },
  {
   "cell_type": "markdown",
   "id": "fc8b8b31",
   "metadata": {},
   "source": [
    "Okej, spodej je dejanska koda, ki se mi zdi, da bi mogla bit okej? Nevem pa kok je ekonomična + ni zares CLP??"
   ]
  },
  {
   "cell_type": "code",
   "execution_count": 6,
   "id": "3faa4342-3c8b-411a-a642-1853e6b495d6",
   "metadata": {
    "vscode": {
     "languageId": "sage"
    }
   },
   "outputs": [],
   "source": [
    "from itertools import combinations\n",
    "\n",
    "def poisci_weak_k_resolving_set(G, k):\n",
    "    vertices = G.vertices()\n",
    "    n = len(vertices)\n",
    "    for v in range(1, n + 1):\n",
    "        for komb in combinations(range(n), v):\n",
    "            if ali_weak_k_resolving_set(G, komb, k):\n",
    "                return [vertices[i] for i in komb], v\n",
    "    return [], 0 "
   ]
  },
  {
   "cell_type": "code",
   "execution_count": 7,
   "id": "6aececb6-f1ee-4034-9adb-8c9d718ad03c",
   "metadata": {
    "vscode": {
     "languageId": "sage"
    }
   },
   "outputs": [
    {
     "name": "stdout",
     "output_type": "stream",
     "text": [
      "Najmanjša šibka k-resolventna množica: [0, 1, 2, 3, 4]\n",
      "wdim_k(G): 5\n"
     ]
    }
   ],
   "source": [
    "# malo za hec, testirala kaj kej dobim z zgornjo kodo\n",
    "\n",
    "G = graphs.CycleGraph(5)\n",
    "k = 4   # tukej za 1 zamaknjeno od spodaj??\n",
    "resolvent_set, wdim_k = poisci_weak_k_resolving_set(G, k)\n",
    "print(f\"Najmanjša šibka k-resolventna množica: {resolvent_set}\")\n",
    "print(f\"wdim_k(G): {wdim_k}\")"
   ]
  },
  {
   "cell_type": "code",
   "execution_count": 8,
   "id": "85af1413-cef8-4348-b25d-c1fbf0ce8a61",
   "metadata": {
    "vscode": {
     "languageId": "sage"
    }
   },
   "outputs": [],
   "source": [
    "# poiščimo \\kappa''(G)\n",
    "def poisci_kappa_2crti(G):\n",
    "    k = 1\n",
    "    while True:\n",
    "        resolvent_set, size = poisci_weak_k_resolving_set(G, k)\n",
    "        if not resolvent_set:  # če vrne prazno množico, končamo\n",
    "            break\n",
    "        k += 1\n",
    "    return k - 1"
   ]
  },
  {
   "cell_type": "code",
   "execution_count": 9,
   "id": "4d7358d7",
   "metadata": {
    "vscode": {
     "languageId": "sage"
    }
   },
   "outputs": [],
   "source": [
    "def poisci_wmdim_k(G, k):\n",
    "    resolvent_set, size = poisci_weak_k_resolving_set(G, k)\n",
    "    return size if resolvent_set else None"
   ]
  },
  {
   "cell_type": "code",
   "execution_count": 10,
   "id": "be08b2ef",
   "metadata": {
    "vscode": {
     "languageId": "sage"
    }
   },
   "outputs": [
    {
     "name": "stdout",
     "output_type": "stream",
     "text": [
      "4, 5\n"
     ]
    }
   ],
   "source": [
    "# še en eksperiment, ki se ujema z zgornjo kodo \n",
    "\n",
    "print(f'{poisci_kappa_2crti(G)}, {poisci_wmdim_k(G, k)}')"
   ]
  },
  {
   "cell_type": "markdown",
   "id": "13615ef4",
   "metadata": {},
   "source": [
    "# CLP\n",
    "Če probamo napisat še CLP za to isto stvar (again - eksperiment).\n",
    "Probala si bom pomagat z https://doc.sagemath.org/html/en/reference/numerical/sage/numerical/mip.html in https://arxiv.org/abs/2309.00922"
   ]
  },
  {
   "cell_type": "code",
   "execution_count": 11,
   "id": "fc7c0973",
   "metadata": {
    "vscode": {
     "languageId": "sage"
    }
   },
   "outputs": [],
   "source": [
    "from sage.numerical.mip import MixedIntegerLinearProgram\n",
    "\n",
    "def CLP_weak_k_dim(G, k):\n",
    "    p = MixedIntegerLinearProgram(maximization=False)\n",
    "    x = p.new_variable(binary=True)\n",
    "\n",
    "    V = G.vertices()\n",
    "    n = len(V)\n",
    "\n",
    "    p.set_objective(sum(x[i] for i in range(n)))\n",
    "\n",
    "    for a in range(n):\n",
    "        for b in range(a + 1, n):\n",
    "            p.add_constraint(\n",
    "                sum(abs(G.distance(V[a], V[i]) - G.distance(V[b], V[i])) * x[i] for i in range(n)) >= k\n",
    "            )\n",
    "            \n",
    "    wmdim_k = p.solve()\n",
    "    mnozica_S = [V[i] for i in range(n) if p.get_values(x[i]) > 0.5]\n",
    "\n",
    "    return (wmdim_k, mnozica_S)\n"
   ]
  },
  {
   "cell_type": "code",
   "execution_count": 12,
   "id": "3b97ea4a",
   "metadata": {
    "vscode": {
     "languageId": "sage"
    }
   },
   "outputs": [
    {
     "name": "stdout",
     "output_type": "stream",
     "text": [
      "(3.0, [0, 1, 3])\n"
     ]
    }
   ],
   "source": [
    "G = graphs.CycleGraph(20)\n",
    "G = graphs.CompleteGraph(4)\n",
    "k = 1\n",
    "\n",
    "print(f'{CLP_weak_k_dim(G,k)}')"
   ]
  },
  {
   "cell_type": "code",
   "execution_count": 13,
   "id": "b138a1c2",
   "metadata": {
    "vscode": {
     "languageId": "sage"
    }
   },
   "outputs": [],
   "source": [
    "def kappa_2_crti(G):\n",
    "    k = 1\n",
    "    while True:\n",
    "        try:\n",
    "            CLP_weak_k_dim(G, k)\n",
    "            k += 1\n",
    "        except:\n",
    "            return k - 1"
   ]
  },
  {
   "cell_type": "code",
   "execution_count": 14,
   "id": "5d01c46d",
   "metadata": {
    "vscode": {
     "languageId": "sage"
    }
   },
   "outputs": [
    {
     "name": "stdout",
     "output_type": "stream",
     "text": [
      "(2.0, [2, 6])\n",
      "6\n"
     ]
    }
   ],
   "source": [
    "G = graphs.CycleGraph(7)\n",
    "\n",
    "H = graphs.CompleteGraph(4)\n",
    "k = 1\n",
    "\n",
    "I = graphs.CompleteBipartiteGraph(2,5)\n",
    "\n",
    "# ostale oblike grafov so na https://doc.sagemath.org/html/en/reference/graphs/sage/graphs/graph_generators.html\n",
    "\n",
    "# predlog: najprej probej za k = 1, da dobiš kappa'', in potem izbiraj poljuben 0 <= k<= kappa''\n",
    "print(f'{CLP_weak_k_dim(G,k)}')\n",
    "print(f'{kappa_2_crti(G)}')"
   ]
  },
  {
   "cell_type": "markdown",
   "id": "93116408",
   "metadata": {},
   "source": [
    "# Poskus ugibanja formule\n",
    "## Za cikle\n",
    "Od tu naprej se začenja poskus ugibanja formule."
   ]
  },
  {
   "cell_type": "code",
   "execution_count": 15,
   "id": "9e292037",
   "metadata": {
    "vscode": {
     "languageId": "sage"
    }
   },
   "outputs": [],
   "source": [
    "def cikli_do_n(n):\n",
    "    for i in range(3, n + 1):\n",
    "        G = graphs.CycleGraph(i)\n",
    "        kappa_2crti = kappa_2_crti(G)\n",
    "        print(f\"- velikost: {i} : kappa = {kappa_2crti}\")\n",
    "        for k in range(kappa_2crti):\n",
    "            wmdim, _ = CLP_weak_k_dim(G, k)\n",
    "            print(f\"  k = {k}, wmdim = {wmdim}\")\n"
   ]
  },
  {
   "cell_type": "code",
   "execution_count": 16,
   "id": "6b0e7764",
   "metadata": {
    "vscode": {
     "languageId": "sage"
    }
   },
   "outputs": [],
   "source": [
    "cikli_do_n(20) "
   ]
  },
  {
   "cell_type": "markdown",
   "id": "44814abf",
   "metadata": {},
   "source": [
    "Na podlagi zgornje funkcije za prvih 20 ciklov bi sklepala, da je $\\kappa''(C_n) = \\begin{cases}\n",
    "n - 1, & \\text{če je } n \\text{ liho,} \\\\\n",
    "n, & \\text{če je } n \\text{ sodo.}\n",
    "\\end{cases}$\n",
    "\n",
    "Prav tako bi sklepala na $wmdim_k(C_n)$. Za sode $n$ (glede na zgornje rezultate) je $wmdim_k(G) = k$, za lihe pa (ko $k>0$) $wmdim_k(G) = k + 1$."
   ]
  },
  {
   "cell_type": "markdown",
   "id": "842497f8",
   "metadata": {},
   "source": [
    "## Za hiperkocke"
   ]
  },
  {
   "cell_type": "code",
   "execution_count": 26,
   "id": "4464339f",
   "metadata": {
    "vscode": {
     "languageId": "sage"
    }
   },
   "outputs": [
    {
     "data": {
      "text/html": [
       "\n",
       "<iframe srcdoc=\"&lt;!DOCTYPE html&gt;\n",
       "&lt;html&gt;\n",
       "&lt;head&gt;\n",
       "&lt;title&gt;&lt;/title&gt;\n",
       "&lt;meta charset=&quot;utf-8&quot;&gt;\n",
       "&lt;meta name=viewport content=&quot;width=device-width, user-scalable=no, minimum-scale=1.0, maximum-scale=1.0&quot;&gt;\n",
       "&lt;style&gt;\n",
       "\n",
       "    body { margin: 0px; overflow: hidden; }\n",
       "\n",
       "    #menu-container { position: absolute; bottom: 30px; right: 40px; cursor: default; }\n",
       "\n",
       "    #menu-message { position: absolute; bottom: 0px; right: 0px; white-space: nowrap;\n",
       "                    display: none; background-color: #F5F5F5; padding: 10px; }\n",
       "\n",
       "    #menu-content { position: absolute; bottom: 0px; right: 0px;\n",
       "                    display: none; background-color: #F5F5F5; border-bottom: 1px solid black;\n",
       "                    border-right: 1px solid black; border-left: 1px solid black; }\n",
       "\n",
       "    #menu-content div { border-top: 1px solid black; padding: 10px; white-space: nowrap; }\n",
       "\n",
       "    #menu-content div:hover { background-color: #FEFEFE; }\n",
       "\n",
       "    .dark-theme #menu-container { color: white; }\n",
       "\n",
       "    .dark-theme #menu-message { background-color: #181818; }\n",
       "\n",
       "    .dark-theme #menu-content { background-color: #181818; border-color: white; }\n",
       "\n",
       "    .dark-theme #menu-content div { border-color: white; }\n",
       "\n",
       "    .dark-theme #menu-content div:hover { background-color: #303030; }\n",
       "\n",
       "&lt;/style&gt;\n",
       "\n",
       "&lt;/head&gt;\n",
       "\n",
       "&lt;body&gt;\n",
       "\n",
       "&lt;script src=&quot;/nbextensions/threejs-sage/r122/three.min.js&quot;&gt;&lt;/script&gt;\n",
       "&lt;script&gt;\n",
       "  if ( !window.THREE ) document.write(&#x27; \\\n",
       "&lt;script src=&quot;https://cdn.jsdelivr.net/gh/sagemath/threejs-sage@r122/build/three.min.js&quot;&gt;&lt;\\/script&gt; \\\n",
       "            &#x27;);\n",
       "&lt;/script&gt;\n",
       "        \n",
       "&lt;script&gt;\n",
       "\n",
       "    var options = {&quot;animate&quot;: false, &quot;animationControls&quot;: true, &quot;aspectRatio&quot;: [1.0, 1.0, 1.0], &quot;autoScaling&quot;: [false, false, false], &quot;autoPlay&quot;: true, &quot;axes&quot;: false, &quot;axesLabels&quot;: false, &quot;axesLabelsStyle&quot;: null, &quot;decimals&quot;: 2, &quot;delay&quot;: 20, &quot;frame&quot;: false, &quot;loop&quot;: true, &quot;projection&quot;: &quot;perspective&quot;, &quot;theme&quot;: &quot;light&quot;, &quot;viewpoint&quot;: false};\n",
       "    var animate = options.animate;\n",
       "\n",
       "    if ( options.theme === &#x27;dark&#x27; )\n",
       "        document.body.className = &#x27;dark-theme&#x27;;\n",
       "\n",
       "    var scene = new THREE.Scene();\n",
       "\n",
       "    var renderer = new THREE.WebGLRenderer( { antialias: true, preserveDrawingBuffer: true } );\n",
       "    renderer.setPixelRatio( window.devicePixelRatio );\n",
       "    renderer.setSize( window.innerWidth, window.innerHeight );\n",
       "    renderer.setClearColor( options.theme === &#x27;dark&#x27; ? 0 : 0xffffff, 1 );\n",
       "    document.body.appendChild( renderer.domElement );\n",
       "\n",
       "    var b = [{&quot;x&quot;:0.94, &quot;y&quot;:-0.9643994479380253, &quot;z&quot;:-0.8885246731531153}, {&quot;x&quot;:2.6664533512306163, &quot;y&quot;:1.0079747791333455, &quot;z&quot;:0.9006661663234086}]; // bounds\n",
       "\n",
       "    if ( b[0].x === b[1].x ) {\n",
       "        b[0].x -= 1;\n",
       "        b[1].x += 1;\n",
       "    }\n",
       "    if ( b[0].y === b[1].y ) {\n",
       "        b[0].y -= 1;\n",
       "        b[1].y += 1;\n",
       "    }\n",
       "    if ( b[0].z === b[1].z ) {\n",
       "        b[0].z -= 1;\n",
       "        b[1].z += 1;\n",
       "    }\n",
       "\n",
       "    var rxRange = Math.sqrt( Math.pow( b[1].z - b[0].z, 2 )\n",
       "                            + Math.pow( b[1].y - b[0].y, 2 ) );\n",
       "    var ryRange = Math.sqrt( Math.pow( b[1].x - b[0].x, 2 )\n",
       "                            + Math.pow( b[1].z - b[0].z, 2 ) );\n",
       "    var rzRange = Math.sqrt( Math.pow( b[1].x - b[0].x, 2 )\n",
       "                            + Math.pow( b[1].y - b[0].y, 2 ) );\n",
       "    var xRange = b[1].x - b[0].x;\n",
       "    var yRange = b[1].y - b[0].y;\n",
       "    var zRange = b[1].z - b[0].z;\n",
       "\n",
       "    var ar = options.aspectRatio;\n",
       "    var a = [ ar[0], ar[1], ar[2] ]; // aspect multipliers\n",
       "\n",
       "    var autoScaling = options.autoScaling;\n",
       "    var autoAspect = 2.5;\n",
       "    if ( xRange &gt; autoAspect * rxRange &amp;&amp; autoScaling[0] ) a[0] = autoAspect * rxRange / xRange;\n",
       "    if ( yRange &gt; autoAspect * ryRange &amp;&amp; autoScaling[1] ) a[1] = autoAspect * ryRange / yRange;\n",
       "    if ( zRange &gt; autoAspect * rzRange &amp;&amp; autoScaling[2] ) a[2] = autoAspect * rzRange / zRange;\n",
       "\n",
       "    // Distance from (xMid,yMid,zMid) to any corner of the bounding box, after applying aspectRatio\n",
       "    var midToCorner = Math.sqrt( a[0]*a[0]*xRange*xRange + a[1]*a[1]*yRange*yRange + a[2]*a[2]*zRange*zRange ) / 2;\n",
       "\n",
       "    var xMid = ( b[0].x + b[1].x ) / 2;\n",
       "    var yMid = ( b[0].y + b[1].y ) / 2;\n",
       "    var zMid = ( b[0].z + b[1].z ) / 2;\n",
       "\n",
       "    var box = new THREE.Geometry();\n",
       "    box.vertices.push( new THREE.Vector3( a[0]*b[0].x, a[1]*b[0].y, a[2]*b[0].z ) );\n",
       "    box.vertices.push( new THREE.Vector3( a[0]*b[1].x, a[1]*b[1].y, a[2]*b[1].z ) );\n",
       "    var boxMesh = new THREE.Line( box );\n",
       "    var boxColor = options.theme === &#x27;dark&#x27; ? &#x27;white&#x27; : &#x27;black&#x27;;\n",
       "    if ( options.frame ) scene.add( new THREE.BoxHelper( boxMesh, boxColor ) );\n",
       "\n",
       "    if ( options.axesLabels ) {\n",
       "\n",
       "        var d = options.decimals; // decimals\n",
       "        var offsetRatio = 0.1;\n",
       "        var al = options.axesLabels;\n",
       "        var als = options.axesLabelsStyle || [{}, {}, {}];\n",
       "\n",
       "        var offset = offsetRatio * a[1]*( b[1].y - b[0].y );\n",
       "        var xm = xMid.toFixed(d);\n",
       "        if ( /^-0.?0*$/.test(xm) ) xm = xm.substr(1);\n",
       "        addLabel( al[0] + &#x27;=&#x27; + xm, a[0]*xMid, a[1]*b[1].y+offset, a[2]*b[0].z, als[0] );\n",
       "        addLabel( ( b[0].x ).toFixed(d), a[0]*b[0].x, a[1]*b[1].y+offset, a[2]*b[0].z, als[0] );\n",
       "        addLabel( ( b[1].x ).toFixed(d), a[0]*b[1].x, a[1]*b[1].y+offset, a[2]*b[0].z, als[0] );\n",
       "\n",
       "        var offset = offsetRatio * a[0]*( b[1].x - b[0].x );\n",
       "        var ym = yMid.toFixed(d);\n",
       "        if ( /^-0.?0*$/.test(ym) ) ym = ym.substr(1);\n",
       "        addLabel( al[1] + &#x27;=&#x27; + ym, a[0]*b[1].x+offset, a[1]*yMid, a[2]*b[0].z, als[1] );\n",
       "        addLabel( ( b[0].y ).toFixed(d), a[0]*b[1].x+offset, a[1]*b[0].y, a[2]*b[0].z, als[1] );\n",
       "        addLabel( ( b[1].y ).toFixed(d), a[0]*b[1].x+offset, a[1]*b[1].y, a[2]*b[0].z, als[1] );\n",
       "\n",
       "        var offset = offsetRatio * a[1]*( b[1].y - b[0].y );\n",
       "        var zm = zMid.toFixed(d);\n",
       "        if ( /^-0.?0*$/.test(zm) ) zm = zm.substr(1);\n",
       "        addLabel( al[2] + &#x27;=&#x27; + zm, a[0]*b[1].x, a[1]*b[0].y-offset, a[2]*zMid, als[2] );\n",
       "        addLabel( ( b[0].z ).toFixed(d), a[0]*b[1].x, a[1]*b[0].y-offset, a[2]*b[0].z, als[2] );\n",
       "        addLabel( ( b[1].z ).toFixed(d), a[0]*b[1].x, a[1]*b[0].y-offset, a[2]*b[1].z, als[2] );\n",
       "\n",
       "    }\n",
       "\n",
       "    function addLabel( text, x, y, z, style ) {\n",
       "\n",
       "        var color = style.color || &#x27;black&#x27;;\n",
       "        var fontSize = style.fontSize || 14;\n",
       "        var fontFamily = style.fontFamily || &#x27;monospace&#x27;;\n",
       "        var fontStyle = style.fontStyle || &#x27;normal&#x27;;\n",
       "        var fontWeight = style.fontWeight || &#x27;normal&#x27;;\n",
       "        var opacity = style.opacity || 1;\n",
       "\n",
       "        if ( options.theme === &#x27;dark&#x27; )\n",
       "            if ( color === &#x27;black&#x27; || color === &#x27;#000000&#x27; )\n",
       "                color = &#x27;white&#x27;;\n",
       "\n",
       "        if ( Array.isArray( fontStyle ) ) {\n",
       "            fontFamily = fontFamily.map( function( f ) {\n",
       "                // Need to put quotes around fonts that have whitespace in their names.\n",
       "                return /\\s/.test( f ) ? &#x27;&quot;&#x27; + f + &#x27;&quot;&#x27; : f;\n",
       "            }).join(&#x27;, &#x27;);\n",
       "        }\n",
       "\n",
       "        var canvas = document.createElement( &#x27;canvas&#x27; );\n",
       "        var context = canvas.getContext( &#x27;2d&#x27; );\n",
       "        var pixelRatio = Math.round( window.devicePixelRatio );\n",
       "\n",
       "        // For example: italic bold 20px &quot;Times New Roman&quot;, Georgia, serif\n",
       "        var font = [fontStyle, fontWeight, fontSize + &#x27;px&#x27;, fontFamily].join(&#x27; &#x27;);\n",
       "\n",
       "        context.font = font;\n",
       "        var width = context.measureText( text ).width;\n",
       "        var height = fontSize;\n",
       "\n",
       "        // The dimensions of the canvas&#x27;s underlying image data need to be powers\n",
       "        // of two in order for the resulting texture to support mipmapping.\n",
       "        canvas.width = THREE.MathUtils.ceilPowerOfTwo( width * pixelRatio );\n",
       "        canvas.height = THREE.MathUtils.ceilPowerOfTwo( height * pixelRatio );\n",
       "\n",
       "        // Re-compute the unscaled dimensions after the power of two conversion.\n",
       "        width = canvas.width / pixelRatio;\n",
       "        height = canvas.height / pixelRatio;\n",
       "\n",
       "        canvas.style.width = width + &#x27;px&#x27;;\n",
       "        canvas.style.height = height + &#x27;px&#x27;;\n",
       "\n",
       "        context.scale( pixelRatio, pixelRatio );\n",
       "        context.fillStyle = color;\n",
       "        context.font = font; // Must be set again after measureText.\n",
       "        context.textAlign = &#x27;center&#x27;;\n",
       "        context.textBaseline = &#x27;middle&#x27;;\n",
       "        context.fillText( text, width/2, height/2 );\n",
       "\n",
       "        var texture = new THREE.Texture( canvas );\n",
       "        texture.needsUpdate = true;\n",
       "\n",
       "        var materialOptions = { map: texture, sizeAttenuation: false, depthWrite: false };\n",
       "        if ( opacity &lt; 1 ) {\n",
       "            // Setting opacity=1 would cause the texture&#x27;s alpha component to be\n",
       "            // discarded, giving the text a black background instead of the\n",
       "            // background being transparent.\n",
       "            materialOptions.opacity = opacity;\n",
       "        }\n",
       "        var sprite = new THREE.Sprite( new THREE.SpriteMaterial( materialOptions ) );\n",
       "        sprite.position.set( x, y, z );\n",
       "\n",
       "        // Scaling factor, chosen somewhat arbitrarily so that the size of the text\n",
       "        // is consistent with previously generated plots.\n",
       "        var scale = 1/625;\n",
       "        if ( options.projection === &#x27;orthographic&#x27; ) {\n",
       "            scale = midToCorner/256; // Needs to scale along with the plot itself.\n",
       "        }\n",
       "        sprite.scale.set( scale * width, scale * height, 1 );\n",
       "\n",
       "        scene.add( sprite );\n",
       "\n",
       "        return sprite;\n",
       "\n",
       "    }\n",
       "\n",
       "    if ( options.axes ) scene.add( new THREE.AxesHelper( Math.min( a[0]*b[1].x, a[1]*b[1].y, a[2]*b[1].z ) ) );\n",
       "\n",
       "    var camera = createCamera();\n",
       "    camera.up.set( 0, 0, 1 );\n",
       "    camera.position.set( a[0]*xMid, a[1]*yMid, a[2]*zMid );\n",
       "\n",
       "    // camera is positioned so that the line from the camera to the center\n",
       "    // of the bounding sphere of the objects makes an angle of 60 degrees with x-axis\n",
       "    // and an angle of 30 degrees with z-axis and the field of view of the camera looking\n",
       "    // at the center has an angle of 45 degrees.\n",
       "    const sin8 = Math.sin(Math.PI / 8);\n",
       "    const sin5 = Math.sin(Math.PI / 5);\n",
       "    const cos5 = Math.cos(Math.PI / 5);\n",
       "    const sin3 = Math.sin(Math.PI / 3);\n",
       "    const cos3 = Math.cos(Math.PI / 3);\n",
       "    var r = midToCorner / sin8;\n",
       "    var offset = new THREE.Vector3( r * sin3 * cos5, r * sin3 * sin5, r * cos3 );\n",
       "\n",
       "    if ( options.viewpoint ) {\n",
       "\n",
       "        var aa = options.viewpoint;\n",
       "        var axis = new THREE.Vector3( aa[0][0], aa[0][1], aa[0][2] ).normalize();\n",
       "        var angle = aa[1] * Math.PI / 180;\n",
       "        var q = new THREE.Quaternion().setFromAxisAngle( axis, angle ).inverse();\n",
       "\n",
       "        offset.set( 0, 0, offset.length() );\n",
       "        offset.applyQuaternion( q );\n",
       "\n",
       "    }\n",
       "\n",
       "    camera.position.add( offset );\n",
       "\n",
       "    function createCamera() {\n",
       "\n",
       "        var aspect = window.innerWidth / window.innerHeight;\n",
       "\n",
       "        // Scale the near and far clipping planes along with the overall plot size.\n",
       "        var nearClip = 0.01 * midToCorner;\n",
       "        var farClip = 100 * midToCorner;\n",
       "\n",
       "        if ( options.projection === &#x27;orthographic&#x27; ) {\n",
       "            var camera = new THREE.OrthographicCamera( -1, 1, 1, -1, -farClip, farClip );\n",
       "            updateCameraAspect( camera, aspect );\n",
       "            return camera;\n",
       "        }\n",
       "\n",
       "        return new THREE.PerspectiveCamera( 45, aspect, nearClip, farClip );\n",
       "\n",
       "    }\n",
       "\n",
       "    function updateCameraAspect( camera, aspect ) {\n",
       "\n",
       "        if ( camera.isPerspectiveCamera ) {\n",
       "            camera.aspect = aspect;\n",
       "        } else if ( camera.isOrthographicCamera ) {\n",
       "            // Fit the camera frustum to the bounding box&#x27;s diagonal so that the entire plot fits\n",
       "            // within at the default zoom level and camera position.\n",
       "            if ( aspect &gt; 1 ) { // Wide window\n",
       "                camera.top = midToCorner;\n",
       "                camera.right = midToCorner * aspect;\n",
       "            } else { // Tall or square window\n",
       "                camera.top = midToCorner / aspect;\n",
       "                camera.right = midToCorner;\n",
       "            }\n",
       "            camera.bottom = -camera.top;\n",
       "            camera.left = -camera.right;\n",
       "        }\n",
       "\n",
       "        camera.updateProjectionMatrix();\n",
       "\n",
       "    }\n",
       "\n",
       "    var lights = [{&quot;x&quot;:-5, &quot;y&quot;:3, &quot;z&quot;:0, &quot;color&quot;:&quot;#7f7f7f&quot;, &quot;parent&quot;:&quot;camera&quot;}];\n",
       "    for ( var i=0 ; i &lt; lights.length ; i++ ) {\n",
       "        var light = new THREE.DirectionalLight( lights[i].color, 1 );\n",
       "        light.position.set( a[0]*lights[i].x, a[1]*lights[i].y, a[2]*lights[i].z );\n",
       "        if ( lights[i].parent === &#x27;camera&#x27; ) {\n",
       "            light.target.position.set( a[0]*xMid, a[1]*yMid, a[2]*zMid );\n",
       "            scene.add( light.target );\n",
       "            camera.add( light );\n",
       "        } else scene.add( light );\n",
       "    }\n",
       "    scene.add( camera );\n",
       "\n",
       "    var ambient = {&quot;color&quot;:&quot;#7f7f7f&quot;};\n",
       "    scene.add( new THREE.AmbientLight( ambient.color, 1 ) );\n",
       "\n",
       "    var controls = new THREE.OrbitControls( camera, renderer.domElement );\n",
       "    controls.target.set( a[0]*xMid, a[1]*yMid, a[2]*zMid );\n",
       "    controls.addEventListener( &#x27;change&#x27;, function() { if ( !animate ) render(); } );\n",
       "\n",
       "    window.addEventListener( &#x27;resize&#x27;, function() {\n",
       "\n",
       "        renderer.setSize( window.innerWidth, window.innerHeight );\n",
       "        updateCameraAspect( camera, window.innerWidth / window.innerHeight );\n",
       "        if ( window.rescaleFatLines ) rescaleFatLines();\n",
       "        if ( !animate ) render();\n",
       "\n",
       "    } );\n",
       "\n",
       "    var texts = [];\n",
       "    for ( var i=0 ; i &lt; texts.length ; i++ ) addText( texts[i] );\n",
       "\n",
       "    function addText( json ) {\n",
       "        var sprite = addLabel( json.text, a[0]*json.x, a[1]*json.y, a[2]*json.z, json );\n",
       "        sprite.userData = json;\n",
       "    }\n",
       "\n",
       "    var points = [];\n",
       "    for ( var i=0 ; i &lt; points.length ; i++ ) addPoint( points[i] );\n",
       "\n",
       "    function addPoint( json ) {\n",
       "\n",
       "        var geometry = new THREE.Geometry();\n",
       "        var v = json.point;\n",
       "        geometry.vertices.push( new THREE.Vector3( a[0]*v[0], a[1]*v[1], a[2]*v[2] ) );\n",
       "\n",
       "        var canvas = document.createElement( &#x27;canvas&#x27; );\n",
       "        canvas.width = 128;\n",
       "        canvas.height = 128;\n",
       "\n",
       "        var context = canvas.getContext( &#x27;2d&#x27; );\n",
       "        context.arc( 64, 64, 64, 0, 2 * Math.PI );\n",
       "        context.fillStyle = json.color;\n",
       "        context.fill();\n",
       "\n",
       "        var texture = new THREE.Texture( canvas );\n",
       "        texture.needsUpdate = true;\n",
       "\n",
       "        var transparent = json.opacity &lt; 1 ? true : false;\n",
       "        var size = camera.isOrthographicCamera ? json.size : json.size/100;\n",
       "        var material = new THREE.PointsMaterial( { size: size, map: texture,\n",
       "                                                   transparent: transparent, opacity: json.opacity,\n",
       "                                                   alphaTest: .1 } );\n",
       "\n",
       "        var c = new THREE.Vector3();\n",
       "        geometry.computeBoundingBox();\n",
       "        geometry.boundingBox.getCenter( c );\n",
       "        geometry.translate( -c.x, -c.y, -c.z );\n",
       "\n",
       "        var mesh = new THREE.Points( geometry, material );\n",
       "        mesh.position.set( c.x, c.y, c.z );\n",
       "        mesh.userData = json;\n",
       "        scene.add( mesh );\n",
       "\n",
       "    }\n",
       "\n",
       "    var lines = [];\n",
       "    for ( var i=0 ; i &lt; lines.length ; i++ ) addLine( lines[i] );\n",
       "\n",
       "    function addLine( json ) {\n",
       "\n",
       "        var geometry = new THREE.Geometry();\n",
       "        for ( var i=0 ; i &lt; json.points.length ; i++ ) {\n",
       "            var v = json.points[i];\n",
       "            geometry.vertices.push( new THREE.Vector3( a[0]*v[0], a[1]*v[1], a[2]*v[2] ) );\n",
       "        }\n",
       "\n",
       "        var c = new THREE.Vector3();\n",
       "        geometry.computeBoundingBox();\n",
       "        geometry.boundingBox.getCenter( c );\n",
       "        geometry.translate( -c.x, -c.y, -c.z );\n",
       "\n",
       "        var transparent = json.opacity &lt; 1 ? true : false;\n",
       "        var materialOptions = { color: json.color, linewidth: json.linewidth,\n",
       "                                transparent: transparent, opacity: json.opacity };\n",
       "\n",
       "        var mesh;\n",
       "        if ( json.linewidth &gt; 1 &amp;&amp; window.createFatLineStrip ) {\n",
       "            mesh = createFatLineStrip( geometry, materialOptions );\n",
       "        } else {\n",
       "            var material = new THREE.LineBasicMaterial( materialOptions );\n",
       "            mesh = new THREE.Line( geometry, material );\n",
       "        }\n",
       "\n",
       "        mesh.position.set( c.x, c.y, c.z );\n",
       "        mesh.userData = json;\n",
       "        scene.add( mesh );\n",
       "\n",
       "    }\n",
       "\n",
       "    var surfaces = [{&quot;vertices&quot;: [{&quot;x&quot;: 2.0817563260223584, &quot;y&quot;: -0.4659063241766115, &quot;z&quot;: 0.7806661663234085}, {&quot;x&quot;: 2.0967563260223585, &quot;y&quot;: -0.4399255620630783, &quot;z&quot;: 0.7887046420963422}, {&quot;x&quot;: 2.111756326022358, &quot;y&quot;: -0.4659063241766115, &quot;z&quot;: 0.7887046420963422}, {&quot;x&quot;: 2.0667563260223583, &quot;y&quot;: -0.4399255620630783, &quot;z&quot;: 0.7887046420963422}, {&quot;x&quot;: 2.0517563260223586, &quot;y&quot;: -0.4659063241766115, &quot;z&quot;: 0.7887046420963422}, {&quot;x&quot;: 2.0667563260223583, &quot;y&quot;: -0.4918870862901446, &quot;z&quot;: 0.7887046420963422}, {&quot;x&quot;: 2.0967563260223585, &quot;y&quot;: -0.49188708629014466, &quot;z&quot;: 0.7887046420963422}, {&quot;x&quot;: 2.1077370881358917, &quot;y&quot;: -0.4209063241766115, &quot;z&quot;: 0.8106661663234085}, {&quot;x&quot;: 2.1337178502494245, &quot;y&quot;: -0.4659063241766115, &quot;z&quot;: 0.8106661663234085}, {&quot;x&quot;: 2.055775563908825, &quot;y&quot;: -0.4209063241766115, &quot;z&quot;: 0.8106661663234085}, {&quot;x&quot;: 2.0297948017952923, &quot;y&quot;: -0.4659063241766115, &quot;z&quot;: 0.8106661663234085}, {&quot;x&quot;: 2.055775563908825, &quot;y&quot;: -0.5109063241766114, &quot;z&quot;: 0.8106661663234085}, {&quot;x&quot;: 2.1077370881358917, &quot;y&quot;: -0.5109063241766115, &quot;z&quot;: 0.8106661663234085}, {&quot;x&quot;: 2.111756326022358, &quot;y&quot;: -0.4139447999495452, &quot;z&quot;: 0.8406661663234085}, {&quot;x&quot;: 2.1417563260223584, &quot;y&quot;: -0.4659063241766115, &quot;z&quot;: 0.8406661663234085}, {&quot;x&quot;: 2.0517563260223586, &quot;y&quot;: -0.41394479994954514, &quot;z&quot;: 0.8406661663234085}, {&quot;x&quot;: 2.0217563260223583, &quot;y&quot;: -0.4659063241766115, &quot;z&quot;: 0.8406661663234085}, {&quot;x&quot;: 2.0517563260223586, &quot;y&quot;: -0.5178678484036778, &quot;z&quot;: 0.8406661663234085}, {&quot;x&quot;: 2.111756326022358, &quot;y&quot;: -0.5178678484036778, &quot;z&quot;: 0.8406661663234085}, {&quot;x&quot;: 2.1077370881358917, &quot;y&quot;: -0.4209063241766115, &quot;z&quot;: 0.8706661663234085}, {&quot;x&quot;: 2.1337178502494245, &quot;y&quot;: -0.4659063241766115, &quot;z&quot;: 0.8706661663234085}, {&quot;x&quot;: 2.055775563908825, &quot;y&quot;: -0.4209063241766115, &quot;z&quot;: 0.8706661663234085}, {&quot;x&quot;: 2.0297948017952923, &quot;y&quot;: -0.4659063241766115, &quot;z&quot;: 0.8706661663234085}, {&quot;x&quot;: 2.055775563908825, &quot;y&quot;: -0.5109063241766114, &quot;z&quot;: 0.8706661663234085}, {&quot;x&quot;: 2.1077370881358917, &quot;y&quot;: -0.5109063241766115, &quot;z&quot;: 0.8706661663234085}, {&quot;x&quot;: 2.0967563260223585, &quot;y&quot;: -0.4399255620630783, &quot;z&quot;: 0.8926276905504749}, {&quot;x&quot;: 2.111756326022358, &quot;y&quot;: -0.4659063241766115, &quot;z&quot;: 0.8926276905504749}, {&quot;x&quot;: 2.0667563260223583, &quot;y&quot;: -0.4399255620630783, &quot;z&quot;: 0.8926276905504749}, {&quot;x&quot;: 2.0517563260223586, &quot;y&quot;: -0.4659063241766115, &quot;z&quot;: 0.8926276905504749}, {&quot;x&quot;: 2.0667563260223583, &quot;y&quot;: -0.4918870862901446, &quot;z&quot;: 0.8926276905504749}, {&quot;x&quot;: 2.0967563260223585, &quot;y&quot;: -0.49188708629014466, &quot;z&quot;: 0.8926276905504749}, {&quot;x&quot;: 2.0817563260223584, &quot;y&quot;: -0.4659063241766115, &quot;z&quot;: 0.9006661663234086}], &quot;faces&quot;: [[0, 1, 2], [0, 3, 1], [0, 4, 3], [0, 5, 4], [0, 6, 5], [0, 2, 6], [2, 1, 7, 8], [1, 3, 9, 7], [3, 4, 10, 9], [4, 5, 11, 10], [5, 6, 12, 11], [6, 2, 8, 12], [8, 7, 13, 14], [7, 9, 15, 13], [9, 10, 16, 15], [10, 11, 17, 16], [11, 12, 18, 17], [12, 8, 14, 18], [14, 13, 19, 20], [13, 15, 21, 19], [15, 16, 22, 21], [16, 17, 23, 22], [17, 18, 24, 23], [18, 14, 20, 24], [20, 19, 25, 26], [19, 21, 27, 25], [21, 22, 28, 27], [22, 23, 29, 28], [23, 24, 30, 29], [24, 20, 26, 30], [26, 25, 31], [25, 27, 31], [27, 28, 31], [28, 29, 31], [29, 30, 31], [30, 26, 31]], &quot;color&quot;: &quot;#ff0000&quot;, &quot;opacity&quot;: 1.0}, {&quot;vertices&quot;: [{&quot;x&quot;: 2.6064533512306163, &quot;y&quot;: -0.0680898848651263, &quot;z&quot;: 0.25878806710613994}, {&quot;x&quot;: 2.6214533512306164, &quot;y&quot;: -0.04210912275159315, &quot;z&quot;: 0.2668265428790736}, {&quot;x&quot;: 2.636453351230616, &quot;y&quot;: -0.0680898848651263, &quot;z&quot;: 0.2668265428790736}, {&quot;x&quot;: 2.591453351230616, &quot;y&quot;: -0.04210912275159314, &quot;z&quot;: 0.2668265428790736}, {&quot;x&quot;: 2.5764533512306165, &quot;y&quot;: -0.0680898848651263, &quot;z&quot;: 0.2668265428790736}, {&quot;x&quot;: 2.591453351230616, &quot;y&quot;: -0.09407064697865944, &quot;z&quot;: 0.2668265428790736}, {&quot;x&quot;: 2.6214533512306164, &quot;y&quot;: -0.09407064697865944, &quot;z&quot;: 0.2668265428790736}, {&quot;x&quot;: 2.6324341133441496, &quot;y&quot;: -0.023089884865126302, &quot;z&quot;: 0.2887880671061399}, {&quot;x&quot;: 2.6584148754576824, &quot;y&quot;: -0.0680898848651263, &quot;z&quot;: 0.2887880671061399}, {&quot;x&quot;: 2.580472589117083, &quot;y&quot;: -0.023089884865126295, &quot;z&quot;: 0.2887880671061399}, {&quot;x&quot;: 2.55449182700355, &quot;y&quot;: -0.0680898848651263, &quot;z&quot;: 0.2887880671061399}, {&quot;x&quot;: 2.580472589117083, &quot;y&quot;: -0.11308988486512628, &quot;z&quot;: 0.2887880671061399}, {&quot;x&quot;: 2.6324341133441496, &quot;y&quot;: -0.11308988486512628, &quot;z&quot;: 0.2887880671061399}, {&quot;x&quot;: 2.636453351230616, &quot;y&quot;: -0.01612836063805998, &quot;z&quot;: 0.31878806710613994}, {&quot;x&quot;: 2.6664533512306163, &quot;y&quot;: -0.0680898848651263, &quot;z&quot;: 0.31878806710613994}, {&quot;x&quot;: 2.5764533512306165, &quot;y&quot;: -0.016128360638059974, &quot;z&quot;: 0.31878806710613994}, {&quot;x&quot;: 2.5464533512306162, &quot;y&quot;: -0.06808988486512628, &quot;z&quot;: 0.31878806710613994}, {&quot;x&quot;: 2.576453351230616, &quot;y&quot;: -0.12005140909219258, &quot;z&quot;: 0.31878806710613994}, {&quot;x&quot;: 2.636453351230616, &quot;y&quot;: -0.12005140909219261, &quot;z&quot;: 0.31878806710613994}, {&quot;x&quot;: 2.6324341133441496, &quot;y&quot;: -0.023089884865126295, &quot;z&quot;: 0.3487880671061399}, {&quot;x&quot;: 2.6584148754576824, &quot;y&quot;: -0.0680898848651263, &quot;z&quot;: 0.3487880671061399}, {&quot;x&quot;: 2.580472589117083, &quot;y&quot;: -0.023089884865126288, &quot;z&quot;: 0.3487880671061399}, {&quot;x&quot;: 2.55449182700355, &quot;y&quot;: -0.0680898848651263, &quot;z&quot;: 0.3487880671061399}, {&quot;x&quot;: 2.580472589117083, &quot;y&quot;: -0.11308988486512628, &quot;z&quot;: 0.3487880671061399}, {&quot;x&quot;: 2.6324341133441496, &quot;y&quot;: -0.11308988486512629, &quot;z&quot;: 0.3487880671061399}, {&quot;x&quot;: 2.6214533512306164, &quot;y&quot;: -0.04210912275159315, &quot;z&quot;: 0.3707495913332063}, {&quot;x&quot;: 2.636453351230616, &quot;y&quot;: -0.0680898848651263, &quot;z&quot;: 0.3707495913332063}, {&quot;x&quot;: 2.591453351230616, &quot;y&quot;: -0.04210912275159314, &quot;z&quot;: 0.3707495913332063}, {&quot;x&quot;: 2.5764533512306165, &quot;y&quot;: -0.0680898848651263, &quot;z&quot;: 0.3707495913332063}, {&quot;x&quot;: 2.591453351230616, &quot;y&quot;: -0.09407064697865944, &quot;z&quot;: 0.3707495913332063}, {&quot;x&quot;: 2.6214533512306164, &quot;y&quot;: -0.09407064697865944, &quot;z&quot;: 0.3707495913332063}, {&quot;x&quot;: 2.6064533512306163, &quot;y&quot;: -0.0680898848651263, &quot;z&quot;: 0.37878806710613994}], &quot;faces&quot;: [[0, 1, 2], [0, 3, 1], [0, 4, 3], [0, 5, 4], [0, 6, 5], [0, 2, 6], [2, 1, 7, 8], [1, 3, 9, 7], [3, 4, 10, 9], [4, 5, 11, 10], [5, 6, 12, 11], [6, 2, 8, 12], [8, 7, 13, 14], [7, 9, 15, 13], [9, 10, 16, 15], [10, 11, 17, 16], [11, 12, 18, 17], [12, 8, 14, 18], [14, 13, 19, 20], [13, 15, 21, 19], [15, 16, 22, 21], [16, 17, 23, 22], [17, 18, 24, 23], [18, 14, 20, 24], [20, 19, 25, 26], [19, 21, 27, 25], [21, 22, 28, 27], [22, 23, 29, 28], [23, 24, 30, 29], [24, 20, 26, 30], [26, 25, 31], [25, 27, 31], [27, 28, 31], [28, 29, 31], [29, 30, 31], [30, 26, 31]], &quot;color&quot;: &quot;#ff0000&quot;, &quot;opacity&quot;: 1.0}, {&quot;vertices&quot;: [{&quot;x&quot;: 1.954711865064582, &quot;y&quot;: 0.3408409360690807, &quot;z&quot;: 0.6199782486415311}, {&quot;x&quot;: 1.969711865064582, &quot;y&quot;: 0.3668216981826139, &quot;z&quot;: 0.6280167244144648}, {&quot;x&quot;: 1.984711865064582, &quot;y&quot;: 0.3408409360690807, &quot;z&quot;: 0.6280167244144648}, {&quot;x&quot;: 1.9397118650645822, &quot;y&quot;: 0.3668216981826139, &quot;z&quot;: 0.6280167244144648}, {&quot;x&quot;: 1.924711865064582, &quot;y&quot;: 0.3408409360690807, &quot;z&quot;: 0.6280167244144648}, {&quot;x&quot;: 1.9397118650645822, &quot;y&quot;: 0.3148601739555476, &quot;z&quot;: 0.6280167244144648}, {&quot;x&quot;: 1.969711865064582, &quot;y&quot;: 0.31486017395554755, &quot;z&quot;: 0.6280167244144648}, {&quot;x&quot;: 1.9806926271781151, &quot;y&quot;: 0.3858409360690807, &quot;z&quot;: 0.6499782486415311}, {&quot;x&quot;: 2.0066733892916484, &quot;y&quot;: 0.3408409360690807, &quot;z&quot;: 0.6499782486415311}, {&quot;x&quot;: 1.928731102951049, &quot;y&quot;: 0.3858409360690807, &quot;z&quot;: 0.6499782486415311}, {&quot;x&quot;: 1.9027503408375157, &quot;y&quot;: 0.3408409360690807, &quot;z&quot;: 0.6499782486415311}, {&quot;x&quot;: 1.9287311029510488, &quot;y&quot;: 0.29584093606908074, &quot;z&quot;: 0.6499782486415311}, {&quot;x&quot;: 1.9806926271781151, &quot;y&quot;: 0.29584093606908074, &quot;z&quot;: 0.6499782486415311}, {&quot;x&quot;: 1.984711865064582, &quot;y&quot;: 0.392802460296147, &quot;z&quot;: 0.6799782486415311}, {&quot;x&quot;: 2.014711865064582, &quot;y&quot;: 0.3408409360690807, &quot;z&quot;: 0.6799782486415311}, {&quot;x&quot;: 1.924711865064582, &quot;y&quot;: 0.39280246029614707, &quot;z&quot;: 0.6799782486415311}, {&quot;x&quot;: 1.894711865064582, &quot;y&quot;: 0.3408409360690807, &quot;z&quot;: 0.6799782486415311}, {&quot;x&quot;: 1.924711865064582, &quot;y&quot;: 0.28887941184201443, &quot;z&quot;: 0.6799782486415311}, {&quot;x&quot;: 1.984711865064582, &quot;y&quot;: 0.28887941184201443, &quot;z&quot;: 0.6799782486415311}, {&quot;x&quot;: 1.9806926271781151, &quot;y&quot;: 0.3858409360690807, &quot;z&quot;: 0.7099782486415311}, {&quot;x&quot;: 2.0066733892916484, &quot;y&quot;: 0.3408409360690807, &quot;z&quot;: 0.7099782486415311}, {&quot;x&quot;: 1.928731102951049, &quot;y&quot;: 0.3858409360690807, &quot;z&quot;: 0.7099782486415311}, {&quot;x&quot;: 1.9027503408375157, &quot;y&quot;: 0.3408409360690807, &quot;z&quot;: 0.7099782486415311}, {&quot;x&quot;: 1.9287311029510488, &quot;y&quot;: 0.29584093606908074, &quot;z&quot;: 0.7099782486415311}, {&quot;x&quot;: 1.9806926271781151, &quot;y&quot;: 0.29584093606908074, &quot;z&quot;: 0.7099782486415311}, {&quot;x&quot;: 1.969711865064582, &quot;y&quot;: 0.3668216981826139, &quot;z&quot;: 0.7319397728685975}, {&quot;x&quot;: 1.984711865064582, &quot;y&quot;: 0.3408409360690807, &quot;z&quot;: 0.7319397728685975}, {&quot;x&quot;: 1.9397118650645822, &quot;y&quot;: 0.3668216981826139, &quot;z&quot;: 0.7319397728685975}, {&quot;x&quot;: 1.924711865064582, &quot;y&quot;: 0.3408409360690807, &quot;z&quot;: 0.7319397728685975}, {&quot;x&quot;: 1.9397118650645822, &quot;y&quot;: 0.3148601739555476, &quot;z&quot;: 0.7319397728685975}, {&quot;x&quot;: 1.969711865064582, &quot;y&quot;: 0.31486017395554755, &quot;z&quot;: 0.7319397728685975}, {&quot;x&quot;: 1.954711865064582, &quot;y&quot;: 0.3408409360690807, &quot;z&quot;: 0.7399782486415312}], &quot;faces&quot;: [[0, 1, 2], [0, 3, 1], [0, 4, 3], [0, 5, 4], [0, 6, 5], [0, 2, 6], [2, 1, 7, 8], [1, 3, 9, 7], [3, 4, 10, 9], [4, 5, 11, 10], [5, 6, 12, 11], [6, 2, 8, 12], [8, 7, 13, 14], [7, 9, 15, 13], [9, 10, 16, 15], [10, 11, 17, 16], [11, 12, 18, 17], [12, 8, 14, 18], [14, 13, 19, 20], [13, 15, 21, 19], [15, 16, 22, 21], [16, 17, 23, 22], [17, 18, 24, 23], [18, 14, 20, 24], [20, 19, 25, 26], [19, 21, 27, 25], [21, 22, 28, 27], [22, 23, 29, 28], [23, 24, 30, 29], [24, 20, 26, 30], [26, 25, 31], [25, 27, 31], [27, 28, 31], [28, 29, 31], [29, 30, 31], [30, 26, 31]], &quot;color&quot;: &quot;#ff0000&quot;, &quot;opacity&quot;: 1.0}, {&quot;vertices&quot;: [{&quot;x&quot;: 2.43365179230151, &quot;y&quot;: 0.7057052711612449, &quot;z&quot;: 0.0497918144710397}, {&quot;x&quot;: 2.44865179230151, &quot;y&quot;: 0.7316860332747781, &quot;z&quot;: 0.057830290243973376}, {&quot;x&quot;: 2.4636517923015098, &quot;y&quot;: 0.7057052711612449, &quot;z&quot;: 0.057830290243973376}, {&quot;x&quot;: 2.41865179230151, &quot;y&quot;: 0.7316860332747781, &quot;z&quot;: 0.057830290243973376}, {&quot;x&quot;: 2.40365179230151, &quot;y&quot;: 0.7057052711612449, &quot;z&quot;: 0.057830290243973376}, {&quot;x&quot;: 2.41865179230151, &quot;y&quot;: 0.6797245090477118, &quot;z&quot;: 0.057830290243973376}, {&quot;x&quot;: 2.44865179230151, &quot;y&quot;: 0.6797245090477118, &quot;z&quot;: 0.057830290243973376}, {&quot;x&quot;: 2.4596325544150432, &quot;y&quot;: 0.750705271161245, &quot;z&quot;: 0.0797918144710397}, {&quot;x&quot;: 2.485613316528576, &quot;y&quot;: 0.7057052711612449, &quot;z&quot;: 0.0797918144710397}, {&quot;x&quot;: 2.4076710301879767, &quot;y&quot;: 0.750705271161245, &quot;z&quot;: 0.0797918144710397}, {&quot;x&quot;: 2.381690268074444, &quot;y&quot;: 0.7057052711612449, &quot;z&quot;: 0.0797918144710397}, {&quot;x&quot;: 2.4076710301879767, &quot;y&quot;: 0.660705271161245, &quot;z&quot;: 0.0797918144710397}, {&quot;x&quot;: 2.4596325544150432, &quot;y&quot;: 0.6607052711612449, &quot;z&quot;: 0.0797918144710397}, {&quot;x&quot;: 2.4636517923015098, &quot;y&quot;: 0.7576667953883113, &quot;z&quot;: 0.1097918144710397}, {&quot;x&quot;: 2.49365179230151, &quot;y&quot;: 0.7057052711612449, &quot;z&quot;: 0.1097918144710397}, {&quot;x&quot;: 2.40365179230151, &quot;y&quot;: 0.7576667953883113, &quot;z&quot;: 0.1097918144710397}, {&quot;x&quot;: 2.37365179230151, &quot;y&quot;: 0.7057052711612449, &quot;z&quot;: 0.1097918144710397}, {&quot;x&quot;: 2.4036517923015097, &quot;y&quot;: 0.6537437469341786, &quot;z&quot;: 0.1097918144710397}, {&quot;x&quot;: 2.4636517923015098, &quot;y&quot;: 0.6537437469341786, &quot;z&quot;: 0.1097918144710397}, {&quot;x&quot;: 2.4596325544150432, &quot;y&quot;: 0.750705271161245, &quot;z&quot;: 0.1397918144710397}, {&quot;x&quot;: 2.485613316528576, &quot;y&quot;: 0.7057052711612449, &quot;z&quot;: 0.1397918144710397}, {&quot;x&quot;: 2.4076710301879767, &quot;y&quot;: 0.750705271161245, &quot;z&quot;: 0.1397918144710397}, {&quot;x&quot;: 2.381690268074444, &quot;y&quot;: 0.7057052711612449, &quot;z&quot;: 0.1397918144710397}, {&quot;x&quot;: 2.4076710301879767, &quot;y&quot;: 0.6607052711612449, &quot;z&quot;: 0.1397918144710397}, {&quot;x&quot;: 2.4596325544150432, &quot;y&quot;: 0.6607052711612449, &quot;z&quot;: 0.1397918144710397}, {&quot;x&quot;: 2.44865179230151, &quot;y&quot;: 0.7316860332747781, &quot;z&quot;: 0.16175333869810601}, {&quot;x&quot;: 2.4636517923015098, &quot;y&quot;: 0.7057052711612449, &quot;z&quot;: 0.16175333869810601}, {&quot;x&quot;: 2.41865179230151, &quot;y&quot;: 0.7316860332747781, &quot;z&quot;: 0.16175333869810601}, {&quot;x&quot;: 2.40365179230151, &quot;y&quot;: 0.7057052711612449, &quot;z&quot;: 0.16175333869810601}, {&quot;x&quot;: 2.41865179230151, &quot;y&quot;: 0.6797245090477118, &quot;z&quot;: 0.16175333869810601}, {&quot;x&quot;: 2.44865179230151, &quot;y&quot;: 0.6797245090477118, &quot;z&quot;: 0.16175333869810601}, {&quot;x&quot;: 2.43365179230151, &quot;y&quot;: 0.7057052711612449, &quot;z&quot;: 0.1697918144710397}], &quot;faces&quot;: [[0, 1, 2], [0, 3, 1], [0, 4, 3], [0, 5, 4], [0, 6, 5], [0, 2, 6], [2, 1, 7, 8], [1, 3, 9, 7], [3, 4, 10, 9], [4, 5, 11, 10], [5, 6, 12, 11], [6, 2, 8, 12], [8, 7, 13, 14], [7, 9, 15, 13], [9, 10, 16, 15], [10, 11, 17, 16], [11, 12, 18, 17], [12, 8, 14, 18], [14, 13, 19, 20], [13, 15, 21, 19], [15, 16, 22, 21], [16, 17, 23, 22], [17, 18, 24, 23], [18, 14, 20, 24], [20, 19, 25, 26], [19, 21, 27, 25], [21, 22, 28, 27], [22, 23, 29, 28], [23, 24, 30, 29], [24, 20, 26, 30], [26, 25, 31], [25, 27, 31], [27, 28, 31], [28, 29, 31], [29, 30, 31], [30, 26, 31]], &quot;color&quot;: &quot;#ff0000&quot;, &quot;opacity&quot;: 1.0}, {&quot;vertices&quot;: [{&quot;x&quot;: 1.2651759860714171, &quot;y&quot;: -0.2858442636989025, &quot;z&quot;: 0.5677147823671356}, {&quot;x&quot;: 1.280175986071417, &quot;y&quot;: -0.2598635015853693, &quot;z&quot;: 0.5757532581400692}, {&quot;x&quot;: 1.2951759860714172, &quot;y&quot;: -0.2858442636989025, &quot;z&quot;: 0.5757532581400692}, {&quot;x&quot;: 1.2501759860714172, &quot;y&quot;: -0.2598635015853693, &quot;z&quot;: 0.5757532581400692}, {&quot;x&quot;: 1.235175986071417, &quot;y&quot;: -0.2858442636989025, &quot;z&quot;: 0.5757532581400692}, {&quot;x&quot;: 1.2501759860714172, &quot;y&quot;: -0.3118250258124356, &quot;z&quot;: 0.5757532581400692}, {&quot;x&quot;: 1.280175986071417, &quot;y&quot;: -0.31182502581243565, &quot;z&quot;: 0.5757532581400692}, {&quot;x&quot;: 1.2911567481849502, &quot;y&quot;: -0.2408442636989025, &quot;z&quot;: 0.5977147823671355}, {&quot;x&quot;: 1.3171375102984835, &quot;y&quot;: -0.2858442636989025, &quot;z&quot;: 0.5977147823671355}, {&quot;x&quot;: 1.239195223957884, &quot;y&quot;: -0.2408442636989025, &quot;z&quot;: 0.5977147823671355}, {&quot;x&quot;: 1.2132144618443508, &quot;y&quot;: -0.2858442636989025, &quot;z&quot;: 0.5977147823671355}, {&quot;x&quot;: 1.2391952239578838, &quot;y&quot;: -0.33084426369890246, &quot;z&quot;: 0.5977147823671355}, {&quot;x&quot;: 1.2911567481849502, &quot;y&quot;: -0.33084426369890246, &quot;z&quot;: 0.5977147823671355}, {&quot;x&quot;: 1.2951759860714172, &quot;y&quot;: -0.23388273947183616, &quot;z&quot;: 0.6277147823671355}, {&quot;x&quot;: 1.3251759860714172, &quot;y&quot;: -0.2858442636989025, &quot;z&quot;: 0.6277147823671355}, {&quot;x&quot;: 1.235175986071417, &quot;y&quot;: -0.23388273947183616, &quot;z&quot;: 0.6277147823671355}, {&quot;x&quot;: 1.205175986071417, &quot;y&quot;: -0.2858442636989025, &quot;z&quot;: 0.6277147823671355}, {&quot;x&quot;: 1.235175986071417, &quot;y&quot;: -0.33780578792596877, &quot;z&quot;: 0.6277147823671355}, {&quot;x&quot;: 1.2951759860714172, &quot;y&quot;: -0.33780578792596877, &quot;z&quot;: 0.6277147823671355}, {&quot;x&quot;: 1.2911567481849502, &quot;y&quot;: -0.2408442636989025, &quot;z&quot;: 0.6577147823671355}, {&quot;x&quot;: 1.3171375102984835, &quot;y&quot;: -0.2858442636989025, &quot;z&quot;: 0.6577147823671355}, {&quot;x&quot;: 1.239195223957884, &quot;y&quot;: -0.24084426369890247, &quot;z&quot;: 0.6577147823671355}, {&quot;x&quot;: 1.2132144618443508, &quot;y&quot;: -0.2858442636989025, &quot;z&quot;: 0.6577147823671355}, {&quot;x&quot;: 1.2391952239578838, &quot;y&quot;: -0.33084426369890246, &quot;z&quot;: 0.6577147823671355}, {&quot;x&quot;: 1.2911567481849502, &quot;y&quot;: -0.33084426369890246, &quot;z&quot;: 0.6577147823671355}, {&quot;x&quot;: 1.280175986071417, &quot;y&quot;: -0.2598635015853693, &quot;z&quot;: 0.6796763065942019}, {&quot;x&quot;: 1.2951759860714172, &quot;y&quot;: -0.2858442636989025, &quot;z&quot;: 0.6796763065942019}, {&quot;x&quot;: 1.2501759860714172, &quot;y&quot;: -0.2598635015853693, &quot;z&quot;: 0.6796763065942019}, {&quot;x&quot;: 1.235175986071417, &quot;y&quot;: -0.2858442636989025, &quot;z&quot;: 0.6796763065942019}, {&quot;x&quot;: 1.2501759860714172, &quot;y&quot;: -0.3118250258124356, &quot;z&quot;: 0.6796763065942019}, {&quot;x&quot;: 1.280175986071417, &quot;y&quot;: -0.31182502581243565, &quot;z&quot;: 0.6796763065942019}, {&quot;x&quot;: 1.2651759860714171, &quot;y&quot;: -0.2858442636989025, &quot;z&quot;: 0.6877147823671355}], &quot;faces&quot;: [[0, 1, 2], [0, 3, 1], [0, 4, 3], [0, 5, 4], [0, 6, 5], [0, 2, 6], [2, 1, 7, 8], [1, 3, 9, 7], [3, 4, 10, 9], [4, 5, 11, 10], [5, 6, 12, 11], [6, 2, 8, 12], [8, 7, 13, 14], [7, 9, 15, 13], [9, 10, 16, 15], [10, 11, 17, 16], [11, 12, 18, 17], [12, 8, 14, 18], [14, 13, 19, 20], [13, 15, 21, 19], [15, 16, 22, 21], [16, 17, 23, 22], [17, 18, 24, 23], [18, 14, 20, 24], [20, 19, 25, 26], [19, 21, 27, 25], [21, 22, 28, 27], [22, 23, 29, 28], [23, 24, 30, 29], [24, 20, 26, 30], [26, 25, 31], [25, 27, 31], [27, 28, 31], [28, 29, 31], [29, 30, 31], [30, 26, 31]], &quot;color&quot;: &quot;#ff0000&quot;, &quot;opacity&quot;: 1.0}, {&quot;vertices&quot;: [{&quot;x&quot;: 1.7110247231868008, &quot;y&quot;: 0.24520566566429255, &quot;z&quot;: 0.02114980950538861}, {&quot;x&quot;: 1.7260247231868007, &quot;y&quot;: 0.2711864277778257, &quot;z&quot;: 0.02918828527832229}, {&quot;x&quot;: 1.7410247231868008, &quot;y&quot;: 0.24520566566429255, &quot;z&quot;: 0.02918828527832229}, {&quot;x&quot;: 1.6960247231868009, &quot;y&quot;: 0.2711864277778257, &quot;z&quot;: 0.02918828527832229}, {&quot;x&quot;: 1.6810247231868007, &quot;y&quot;: 0.24520566566429255, &quot;z&quot;: 0.02918828527832229}, {&quot;x&quot;: 1.6960247231868009, &quot;y&quot;: 0.2192249035507594, &quot;z&quot;: 0.02918828527832229}, {&quot;x&quot;: 1.7260247231868007, &quot;y&quot;: 0.2192249035507594, &quot;z&quot;: 0.02918828527832229}, {&quot;x&quot;: 1.7370054853003338, &quot;y&quot;: 0.29020566566429257, &quot;z&quot;: 0.05114980950538861}, {&quot;x&quot;: 1.7629862474138671, &quot;y&quot;: 0.24520566566429255, &quot;z&quot;: 0.05114980950538861}, {&quot;x&quot;: 1.6850439610732677, &quot;y&quot;: 0.29020566566429257, &quot;z&quot;: 0.05114980950538861}, {&quot;x&quot;: 1.6590631989597344, &quot;y&quot;: 0.24520566566429255, &quot;z&quot;: 0.05114980950538861}, {&quot;x&quot;: 1.6850439610732675, &quot;y&quot;: 0.20020566566429257, &quot;z&quot;: 0.05114980950538861}, {&quot;x&quot;: 1.7370054853003338, &quot;y&quot;: 0.20020566566429257, &quot;z&quot;: 0.05114980950538861}, {&quot;x&quot;: 1.7410247231868008, &quot;y&quot;: 0.2971671898913589, &quot;z&quot;: 0.08114980950538861}, {&quot;x&quot;: 1.7710247231868008, &quot;y&quot;: 0.24520566566429255, &quot;z&quot;: 0.08114980950538861}, {&quot;x&quot;: 1.6810247231868007, &quot;y&quot;: 0.2971671898913589, &quot;z&quot;: 0.08114980950538861}, {&quot;x&quot;: 1.6510247231868007, &quot;y&quot;: 0.24520566566429255, &quot;z&quot;: 0.08114980950538861}, {&quot;x&quot;: 1.6810247231868007, &quot;y&quot;: 0.19324414143722626, &quot;z&quot;: 0.08114980950538861}, {&quot;x&quot;: 1.7410247231868008, &quot;y&quot;: 0.19324414143722624, &quot;z&quot;: 0.08114980950538861}, {&quot;x&quot;: 1.7370054853003338, &quot;y&quot;: 0.29020566566429257, &quot;z&quot;: 0.1111498095053886}, {&quot;x&quot;: 1.7629862474138671, &quot;y&quot;: 0.24520566566429255, &quot;z&quot;: 0.1111498095053886}, {&quot;x&quot;: 1.6850439610732677, &quot;y&quot;: 0.29020566566429257, &quot;z&quot;: 0.1111498095053886}, {&quot;x&quot;: 1.6590631989597344, &quot;y&quot;: 0.24520566566429255, &quot;z&quot;: 0.1111498095053886}, {&quot;x&quot;: 1.6850439610732675, &quot;y&quot;: 0.20020566566429257, &quot;z&quot;: 0.1111498095053886}, {&quot;x&quot;: 1.7370054853003338, &quot;y&quot;: 0.20020566566429254, &quot;z&quot;: 0.1111498095053886}, {&quot;x&quot;: 1.7260247231868007, &quot;y&quot;: 0.2711864277778257, &quot;z&quot;: 0.13311133373245493}, {&quot;x&quot;: 1.7410247231868008, &quot;y&quot;: 0.24520566566429255, &quot;z&quot;: 0.13311133373245493}, {&quot;x&quot;: 1.6960247231868009, &quot;y&quot;: 0.2711864277778257, &quot;z&quot;: 0.13311133373245493}, {&quot;x&quot;: 1.6810247231868007, &quot;y&quot;: 0.24520566566429255, &quot;z&quot;: 0.13311133373245493}, {&quot;x&quot;: 1.6960247231868009, &quot;y&quot;: 0.2192249035507594, &quot;z&quot;: 0.13311133373245493}, {&quot;x&quot;: 1.7260247231868007, &quot;y&quot;: 0.2192249035507594, &quot;z&quot;: 0.13311133373245493}, {&quot;x&quot;: 1.7110247231868008, &quot;y&quot;: 0.24520566566429255, &quot;z&quot;: 0.1411498095053886}], &quot;faces&quot;: [[0, 1, 2], [0, 3, 1], [0, 4, 3], [0, 5, 4], [0, 6, 5], [0, 2, 6], [2, 1, 7, 8], [1, 3, 9, 7], [3, 4, 10, 9], [4, 5, 11, 10], [5, 6, 12, 11], [6, 2, 8, 12], [8, 7, 13, 14], [7, 9, 15, 13], [9, 10, 16, 15], [10, 11, 17, 16], [11, 12, 18, 17], [12, 8, 14, 18], [14, 13, 19, 20], [13, 15, 21, 19], [15, 16, 22, 21], [16, 17, 23, 22], [17, 18, 24, 23], [18, 14, 20, 24], [20, 19, 25, 26], [19, 21, 27, 25], [21, 22, 28, 27], [22, 23, 29, 28], [23, 24, 30, 29], [24, 20, 26, 30], [26, 25, 31], [25, 27, 31], [27, 28, 31], [28, 29, 31], [29, 30, 31], [30, 26, 31]], &quot;color&quot;: &quot;#ff0000&quot;, &quot;opacity&quot;: 1.0}, {&quot;vertices&quot;: [{&quot;x&quot;: 1.1223206261689125, &quot;y&quot;: 0.49135729026037456, &quot;z&quot;: 0.3746256622290434}, {&quot;x&quot;: 1.1373206261689124, &quot;y&quot;: 0.5173380523739077, &quot;z&quot;: 0.38266413800197707}, {&quot;x&quot;: 1.1523206261689125, &quot;y&quot;: 0.49135729026037456, &quot;z&quot;: 0.38266413800197707}, {&quot;x&quot;: 1.1073206261689126, &quot;y&quot;: 0.5173380523739077, &quot;z&quot;: 0.38266413800197707}, {&quot;x&quot;: 1.0923206261689125, &quot;y&quot;: 0.49135729026037456, &quot;z&quot;: 0.38266413800197707}, {&quot;x&quot;: 1.1073206261689126, &quot;y&quot;: 0.46537652814684144, &quot;z&quot;: 0.38266413800197707}, {&quot;x&quot;: 1.1373206261689124, &quot;y&quot;: 0.4653765281468414, &quot;z&quot;: 0.38266413800197707}, {&quot;x&quot;: 1.1483013882824455, &quot;y&quot;: 0.5363572902603746, &quot;z&quot;: 0.4046256622290434}, {&quot;x&quot;: 1.1742821503959788, &quot;y&quot;: 0.49135729026037456, &quot;z&quot;: 0.4046256622290434}, {&quot;x&quot;: 1.0963398640553794, &quot;y&quot;: 0.5363572902603746, &quot;z&quot;: 0.4046256622290434}, {&quot;x&quot;: 1.0703591019418461, &quot;y&quot;: 0.49135729026037456, &quot;z&quot;: 0.4046256622290434}, {&quot;x&quot;: 1.0963398640553792, &quot;y&quot;: 0.4463572902603746, &quot;z&quot;: 0.4046256622290434}, {&quot;x&quot;: 1.1483013882824455, &quot;y&quot;: 0.4463572902603746, &quot;z&quot;: 0.4046256622290434}, {&quot;x&quot;: 1.1523206261689125, &quot;y&quot;: 0.5433188144874409, &quot;z&quot;: 0.4346256622290434}, {&quot;x&quot;: 1.1823206261689125, &quot;y&quot;: 0.49135729026037456, &quot;z&quot;: 0.4346256622290434}, {&quot;x&quot;: 1.0923206261689125, &quot;y&quot;: 0.5433188144874409, &quot;z&quot;: 0.4346256622290434}, {&quot;x&quot;: 1.0623206261689124, &quot;y&quot;: 0.49135729026037456, &quot;z&quot;: 0.4346256622290434}, {&quot;x&quot;: 1.0923206261689125, &quot;y&quot;: 0.43939576603330827, &quot;z&quot;: 0.4346256622290434}, {&quot;x&quot;: 1.1523206261689125, &quot;y&quot;: 0.43939576603330827, &quot;z&quot;: 0.4346256622290434}, {&quot;x&quot;: 1.1483013882824455, &quot;y&quot;: 0.5363572902603746, &quot;z&quot;: 0.4646256622290434}, {&quot;x&quot;: 1.1742821503959788, &quot;y&quot;: 0.49135729026037456, &quot;z&quot;: 0.4646256622290434}, {&quot;x&quot;: 1.0963398640553794, &quot;y&quot;: 0.5363572902603746, &quot;z&quot;: 0.4646256622290434}, {&quot;x&quot;: 1.0703591019418461, &quot;y&quot;: 0.49135729026037456, &quot;z&quot;: 0.4646256622290434}, {&quot;x&quot;: 1.0963398640553792, &quot;y&quot;: 0.4463572902603746, &quot;z&quot;: 0.4646256622290434}, {&quot;x&quot;: 1.1483013882824455, &quot;y&quot;: 0.4463572902603746, &quot;z&quot;: 0.4646256622290434}, {&quot;x&quot;: 1.1373206261689124, &quot;y&quot;: 0.5173380523739077, &quot;z&quot;: 0.48658718645610977}, {&quot;x&quot;: 1.1523206261689125, &quot;y&quot;: 0.49135729026037456, &quot;z&quot;: 0.48658718645610977}, {&quot;x&quot;: 1.1073206261689126, &quot;y&quot;: 0.5173380523739077, &quot;z&quot;: 0.48658718645610977}, {&quot;x&quot;: 1.0923206261689125, &quot;y&quot;: 0.49135729026037456, &quot;z&quot;: 0.48658718645610977}, {&quot;x&quot;: 1.1073206261689126, &quot;y&quot;: 0.46537652814684144, &quot;z&quot;: 0.48658718645610977}, {&quot;x&quot;: 1.1373206261689124, &quot;y&quot;: 0.4653765281468414, &quot;z&quot;: 0.48658718645610977}, {&quot;x&quot;: 1.1223206261689125, &quot;y&quot;: 0.49135729026037456, &quot;z&quot;: 0.4946256622290434}], &quot;faces&quot;: [[0, 1, 2], [0, 3, 1], [0, 4, 3], [0, 5, 4], [0, 6, 5], [0, 2, 6], [2, 1, 7, 8], [1, 3, 9, 7], [3, 4, 10, 9], [4, 5, 11, 10], [5, 6, 12, 11], [6, 2, 8, 12], [8, 7, 13, 14], [7, 9, 15, 13], [9, 10, 16, 15], [10, 11, 17, 16], [11, 12, 18, 17], [12, 8, 14, 18], [14, 13, 19, 20], [13, 15, 21, 19], [15, 16, 22, 21], [16, 17, 23, 22], [17, 18, 24, 23], [18, 14, 20, 24], [20, 19, 25, 26], [19, 21, 27, 25], [21, 22, 28, 27], [22, 23, 29, 28], [23, 24, 30, 29], [24, 20, 26, 30], [26, 25, 31], [25, 27, 31], [27, 28, 31], [28, 29, 31], [29, 30, 31], [30, 26, 31]], &quot;color&quot;: &quot;#ff0000&quot;, &quot;opacity&quot;: 1.0}, {&quot;vertices&quot;: [{&quot;x&quot;: 1.6228446410689208, &quot;y&quot;: 0.9479747791333455, &quot;z&quot;: -0.18045356086901237}, {&quot;x&quot;: 1.6378446410689207, &quot;y&quot;: 0.9739555412468787, &quot;z&quot;: -0.17241508509607872}, {&quot;x&quot;: 1.6528446410689208, &quot;y&quot;: 0.9479747791333455, &quot;z&quot;: -0.17241508509607872}, {&quot;x&quot;: 1.6078446410689209, &quot;y&quot;: 0.9739555412468787, &quot;z&quot;: -0.17241508509607872}, {&quot;x&quot;: 1.5928446410689208, &quot;y&quot;: 0.9479747791333455, &quot;z&quot;: -0.17241508509607872}, {&quot;x&quot;: 1.6078446410689209, &quot;y&quot;: 0.9219940170198123, &quot;z&quot;: -0.17241508509607872}, {&quot;x&quot;: 1.6378446410689207, &quot;y&quot;: 0.9219940170198123, &quot;z&quot;: -0.17241508509607872}, {&quot;x&quot;: 1.6488254031824539, &quot;y&quot;: 0.9929747791333455, &quot;z&quot;: -0.1504535608690124}, {&quot;x&quot;: 1.6748061652959871, &quot;y&quot;: 0.9479747791333455, &quot;z&quot;: -0.1504535608690124}, {&quot;x&quot;: 1.5968638789553877, &quot;y&quot;: 0.9929747791333455, &quot;z&quot;: -0.1504535608690124}, {&quot;x&quot;: 1.5708831168418544, &quot;y&quot;: 0.9479747791333455, &quot;z&quot;: -0.1504535608690124}, {&quot;x&quot;: 1.5968638789553875, &quot;y&quot;: 0.9029747791333456, &quot;z&quot;: -0.1504535608690124}, {&quot;x&quot;: 1.6488254031824539, &quot;y&quot;: 0.9029747791333455, &quot;z&quot;: -0.1504535608690124}, {&quot;x&quot;: 1.6528446410689208, &quot;y&quot;: 0.9999363033604118, &quot;z&quot;: -0.12045356086901239}, {&quot;x&quot;: 1.6828446410689208, &quot;y&quot;: 0.9479747791333455, &quot;z&quot;: -0.12045356086901239}, {&quot;x&quot;: 1.5928446410689208, &quot;y&quot;: 0.9999363033604118, &quot;z&quot;: -0.12045356086901239}, {&quot;x&quot;: 1.5628446410689207, &quot;y&quot;: 0.9479747791333455, &quot;z&quot;: -0.12045356086901239}, {&quot;x&quot;: 1.5928446410689208, &quot;y&quot;: 0.8960132549062791, &quot;z&quot;: -0.12045356086901239}, {&quot;x&quot;: 1.6528446410689208, &quot;y&quot;: 0.8960132549062791, &quot;z&quot;: -0.12045356086901239}, {&quot;x&quot;: 1.6488254031824539, &quot;y&quot;: 0.9929747791333455, &quot;z&quot;: -0.0904535608690124}, {&quot;x&quot;: 1.6748061652959871, &quot;y&quot;: 0.9479747791333455, &quot;z&quot;: -0.0904535608690124}, {&quot;x&quot;: 1.5968638789553877, &quot;y&quot;: 0.9929747791333455, &quot;z&quot;: -0.0904535608690124}, {&quot;x&quot;: 1.5708831168418544, &quot;y&quot;: 0.9479747791333455, &quot;z&quot;: -0.0904535608690124}, {&quot;x&quot;: 1.5968638789553875, &quot;y&quot;: 0.9029747791333456, &quot;z&quot;: -0.0904535608690124}, {&quot;x&quot;: 1.6488254031824539, &quot;y&quot;: 0.9029747791333455, &quot;z&quot;: -0.0904535608690124}, {&quot;x&quot;: 1.6378446410689207, &quot;y&quot;: 0.9739555412468787, &quot;z&quot;: -0.06849203664194607}, {&quot;x&quot;: 1.6528446410689208, &quot;y&quot;: 0.9479747791333455, &quot;z&quot;: -0.06849203664194607}, {&quot;x&quot;: 1.6078446410689209, &quot;y&quot;: 0.9739555412468787, &quot;z&quot;: -0.06849203664194607}, {&quot;x&quot;: 1.5928446410689208, &quot;y&quot;: 0.9479747791333455, &quot;z&quot;: -0.06849203664194607}, {&quot;x&quot;: 1.6078446410689209, &quot;y&quot;: 0.9219940170198123, &quot;z&quot;: -0.06849203664194607}, {&quot;x&quot;: 1.6378446410689207, &quot;y&quot;: 0.9219940170198123, &quot;z&quot;: -0.06849203664194607}, {&quot;x&quot;: 1.6228446410689208, &quot;y&quot;: 0.9479747791333455, &quot;z&quot;: -0.06045356086901239}], &quot;faces&quot;: [[0, 1, 2], [0, 3, 1], [0, 4, 3], [0, 5, 4], [0, 6, 5], [0, 2, 6], [2, 1, 7, 8], [1, 3, 9, 7], [3, 4, 10, 9], [4, 5, 11, 10], [5, 6, 12, 11], [6, 2, 8, 12], [8, 7, 13, 14], [7, 9, 15, 13], [9, 10, 16, 15], [10, 11, 17, 16], [11, 12, 18, 17], [12, 8, 14, 18], [14, 13, 19, 20], [13, 15, 21, 19], [15, 16, 22, 21], [16, 17, 23, 22], [17, 18, 24, 23], [18, 14, 20, 24], [20, 19, 25, 26], [19, 21, 27, 25], [21, 22, 28, 27], [22, 23, 29, 28], [23, 24, 30, 29], [24, 20, 26, 30], [26, 25, 31], [25, 27, 31], [27, 28, 31], [28, 29, 31], [29, 30, 31], [30, 26, 31]], &quot;color&quot;: &quot;#ff0000&quot;, &quot;opacity&quot;: 1.0}, {&quot;vertices&quot;: [{&quot;x&quot;: 1.9917624157029574, &quot;y&quot;: -0.9043994479380253, &quot;z&quot;: 0.046423828301213665}, {&quot;x&quot;: 2.0067624157029575, &quot;y&quot;: -0.8784186858244921, &quot;z&quot;: 0.054462304074147344}, {&quot;x&quot;: 2.0217624157029572, &quot;y&quot;: -0.9043994479380253, &quot;z&quot;: 0.054462304074147344}, {&quot;x&quot;: 1.9767624157029575, &quot;y&quot;: -0.8784186858244921, &quot;z&quot;: 0.054462304074147344}, {&quot;x&quot;: 1.9617624157029574, &quot;y&quot;: -0.9043994479380253, &quot;z&quot;: 0.054462304074147344}, {&quot;x&quot;: 1.9767624157029575, &quot;y&quot;: -0.9303802100515585, &quot;z&quot;: 0.054462304074147344}, {&quot;x&quot;: 2.0067624157029575, &quot;y&quot;: -0.9303802100515585, &quot;z&quot;: 0.054462304074147344}, {&quot;x&quot;: 2.0177431778164907, &quot;y&quot;: -0.8593994479380253, &quot;z&quot;: 0.07642382830121366}, {&quot;x&quot;: 2.0437239399300235, &quot;y&quot;: -0.9043994479380253, &quot;z&quot;: 0.07642382830121366}, {&quot;x&quot;: 1.9657816535894244, &quot;y&quot;: -0.8593994479380253, &quot;z&quot;: 0.07642382830121366}, {&quot;x&quot;: 1.939800891475891, &quot;y&quot;: -0.9043994479380253, &quot;z&quot;: 0.07642382830121366}, {&quot;x&quot;: 1.9657816535894241, &quot;y&quot;: -0.9493994479380252, &quot;z&quot;: 0.07642382830121366}, {&quot;x&quot;: 2.0177431778164907, &quot;y&quot;: -0.9493994479380253, &quot;z&quot;: 0.07642382830121366}, {&quot;x&quot;: 2.0217624157029572, &quot;y&quot;: -0.852437923710959, &quot;z&quot;: 0.10642382830121366}, {&quot;x&quot;: 2.0517624157029575, &quot;y&quot;: -0.9043994479380253, &quot;z&quot;: 0.10642382830121366}, {&quot;x&quot;: 1.9617624157029574, &quot;y&quot;: -0.852437923710959, &quot;z&quot;: 0.10642382830121366}, {&quot;x&quot;: 1.9317624157029574, &quot;y&quot;: -0.9043994479380253, &quot;z&quot;: 0.10642382830121366}, {&quot;x&quot;: 1.9617624157029574, &quot;y&quot;: -0.9563609721650916, &quot;z&quot;: 0.10642382830121366}, {&quot;x&quot;: 2.0217624157029572, &quot;y&quot;: -0.9563609721650916, &quot;z&quot;: 0.10642382830121366}, {&quot;x&quot;: 2.0177431778164907, &quot;y&quot;: -0.8593994479380253, &quot;z&quot;: 0.13642382830121366}, {&quot;x&quot;: 2.0437239399300235, &quot;y&quot;: -0.9043994479380253, &quot;z&quot;: 0.13642382830121366}, {&quot;x&quot;: 1.9657816535894244, &quot;y&quot;: -0.8593994479380253, &quot;z&quot;: 0.13642382830121366}, {&quot;x&quot;: 1.939800891475891, &quot;y&quot;: -0.9043994479380253, &quot;z&quot;: 0.13642382830121366}, {&quot;x&quot;: 1.9657816535894241, &quot;y&quot;: -0.9493994479380252, &quot;z&quot;: 0.13642382830121366}, {&quot;x&quot;: 2.0177431778164907, &quot;y&quot;: -0.9493994479380253, &quot;z&quot;: 0.13642382830121366}, {&quot;x&quot;: 2.0067624157029575, &quot;y&quot;: -0.8784186858244921, &quot;z&quot;: 0.15838535252827998}, {&quot;x&quot;: 2.0217624157029572, &quot;y&quot;: -0.9043994479380253, &quot;z&quot;: 0.15838535252827998}, {&quot;x&quot;: 1.9767624157029575, &quot;y&quot;: -0.8784186858244921, &quot;z&quot;: 0.15838535252827998}, {&quot;x&quot;: 1.9617624157029574, &quot;y&quot;: -0.9043994479380253, &quot;z&quot;: 0.15838535252827998}, {&quot;x&quot;: 1.9767624157029575, &quot;y&quot;: -0.9303802100515585, &quot;z&quot;: 0.15838535252827998}, {&quot;x&quot;: 2.0067624157029575, &quot;y&quot;: -0.9303802100515585, &quot;z&quot;: 0.15838535252827998}, {&quot;x&quot;: 1.9917624157029574, &quot;y&quot;: -0.9043994479380253, &quot;z&quot;: 0.16642382830121366}], &quot;faces&quot;: [[0, 1, 2], [0, 3, 1], [0, 4, 3], [0, 5, 4], [0, 6, 5], [0, 2, 6], [2, 1, 7, 8], [1, 3, 9, 7], [3, 4, 10, 9], [4, 5, 11, 10], [5, 6, 12, 11], [6, 2, 8, 12], [8, 7, 13, 14], [7, 9, 15, 13], [9, 10, 16, 15], [10, 11, 17, 16], [11, 12, 18, 17], [12, 8, 14, 18], [14, 13, 19, 20], [13, 15, 21, 19], [15, 16, 22, 21], [16, 17, 23, 22], [17, 18, 24, 23], [18, 14, 20, 24], [20, 19, 25, 26], [19, 21, 27, 25], [21, 22, 28, 27], [22, 23, 29, 28], [23, 24, 30, 29], [24, 20, 26, 30], [26, 25, 31], [25, 27, 31], [27, 28, 31], [28, 29, 31], [29, 30, 31], [30, 26, 31]], &quot;color&quot;: &quot;#ff0000&quot;, &quot;opacity&quot;: 1.0}, {&quot;vertices&quot;: [{&quot;x&quot;: 2.4882330738650973, &quot;y&quot;: -0.4868738572457836, &quot;z&quot;: -0.5107433497837424}, {&quot;x&quot;: 2.5032330738650974, &quot;y&quot;: -0.4608930951322504, &quot;z&quot;: -0.5027048740108088}, {&quot;x&quot;: 2.518233073865097, &quot;y&quot;: -0.4868738572457836, &quot;z&quot;: -0.5027048740108088}, {&quot;x&quot;: 2.473233073865097, &quot;y&quot;: -0.4608930951322504, &quot;z&quot;: -0.5027048740108088}, {&quot;x&quot;: 2.4582330738650975, &quot;y&quot;: -0.4868738572457836, &quot;z&quot;: -0.5027048740108088}, {&quot;x&quot;: 2.473233073865097, &quot;y&quot;: -0.5128546193593168, &quot;z&quot;: -0.5027048740108088}, {&quot;x&quot;: 2.5032330738650974, &quot;y&quot;: -0.5128546193593168, &quot;z&quot;: -0.5027048740108088}, {&quot;x&quot;: 2.5142138359786306, &quot;y&quot;: -0.4418738572457836, &quot;z&quot;: -0.48074334978374245}, {&quot;x&quot;: 2.5401945980921634, &quot;y&quot;: -0.4868738572457836, &quot;z&quot;: -0.48074334978374245}, {&quot;x&quot;: 2.462252311751564, &quot;y&quot;: -0.4418738572457836, &quot;z&quot;: -0.48074334978374245}, {&quot;x&quot;: 2.436271549638031, &quot;y&quot;: -0.4868738572457836, &quot;z&quot;: -0.48074334978374245}, {&quot;x&quot;: 2.462252311751564, &quot;y&quot;: -0.5318738572457835, &quot;z&quot;: -0.48074334978374245}, {&quot;x&quot;: 2.5142138359786306, &quot;y&quot;: -0.5318738572457836, &quot;z&quot;: -0.48074334978374245}, {&quot;x&quot;: 2.518233073865097, &quot;y&quot;: -0.4349123330187173, &quot;z&quot;: -0.4507433497837424}, {&quot;x&quot;: 2.5482330738650973, &quot;y&quot;: -0.4868738572457836, &quot;z&quot;: -0.4507433497837424}, {&quot;x&quot;: 2.4582330738650975, &quot;y&quot;: -0.43491233301871723, &quot;z&quot;: -0.4507433497837424}, {&quot;x&quot;: 2.4282330738650972, &quot;y&quot;: -0.4868738572457836, &quot;z&quot;: -0.4507433497837424}, {&quot;x&quot;: 2.458233073865097, &quot;y&quot;: -0.5388353814728499, &quot;z&quot;: -0.4507433497837424}, {&quot;x&quot;: 2.518233073865097, &quot;y&quot;: -0.5388353814728499, &quot;z&quot;: -0.4507433497837424}, {&quot;x&quot;: 2.5142138359786306, &quot;y&quot;: -0.4418738572457836, &quot;z&quot;: -0.42074334978374245}, {&quot;x&quot;: 2.5401945980921634, &quot;y&quot;: -0.4868738572457836, &quot;z&quot;: -0.42074334978374245}, {&quot;x&quot;: 2.462252311751564, &quot;y&quot;: -0.4418738572457836, &quot;z&quot;: -0.42074334978374245}, {&quot;x&quot;: 2.436271549638031, &quot;y&quot;: -0.4868738572457836, &quot;z&quot;: -0.42074334978374245}, {&quot;x&quot;: 2.462252311751564, &quot;y&quot;: -0.5318738572457835, &quot;z&quot;: -0.42074334978374245}, {&quot;x&quot;: 2.5142138359786306, &quot;y&quot;: -0.5318738572457836, &quot;z&quot;: -0.42074334978374245}, {&quot;x&quot;: 2.5032330738650974, &quot;y&quot;: -0.4608930951322504, &quot;z&quot;: -0.3987818255566761}, {&quot;x&quot;: 2.518233073865097, &quot;y&quot;: -0.4868738572457836, &quot;z&quot;: -0.3987818255566761}, {&quot;x&quot;: 2.473233073865097, &quot;y&quot;: -0.4608930951322504, &quot;z&quot;: -0.3987818255566761}, {&quot;x&quot;: 2.4582330738650975, &quot;y&quot;: -0.4868738572457836, &quot;z&quot;: -0.3987818255566761}, {&quot;x&quot;: 2.473233073865097, &quot;y&quot;: -0.5128546193593168, &quot;z&quot;: -0.3987818255566761}, {&quot;x&quot;: 2.5032330738650974, &quot;y&quot;: -0.5128546193593168, &quot;z&quot;: -0.3987818255566761}, {&quot;x&quot;: 2.4882330738650973, &quot;y&quot;: -0.4868738572457836, &quot;z&quot;: -0.3907433497837424}], &quot;faces&quot;: [[0, 1, 2], [0, 3, 1], [0, 4, 3], [0, 5, 4], [0, 6, 5], [0, 2, 6], [2, 1, 7, 8], [1, 3, 9, 7], [3, 4, 10, 9], [4, 5, 11, 10], [5, 6, 12, 11], [6, 2, 8, 12], [8, 7, 13, 14], [7, 9, 15, 13], [9, 10, 16, 15], [10, 11, 17, 16], [11, 12, 18, 17], [12, 8, 14, 18], [14, 13, 19, 20], [13, 15, 21, 19], [15, 16, 22, 21], [16, 17, 23, 22], [17, 18, 24, 23], [18, 14, 20, 24], [20, 19, 25, 26], [19, 21, 27, 25], [21, 22, 28, 27], [22, 23, 29, 28], [23, 24, 30, 29], [24, 20, 26, 30], [26, 25, 31], [25, 27, 31], [27, 28, 31], [28, 29, 31], [29, 30, 31], [30, 26, 31]], &quot;color&quot;: &quot;#ff0000&quot;, &quot;opacity&quot;: 1.0}, {&quot;vertices&quot;: [{&quot;x&quot;: 1.8645068276984347, &quot;y&quot;: -0.18014329037962812, &quot;z&quot;: -0.15295911822035146}, {&quot;x&quot;: 1.8795068276984346, &quot;y&quot;: -0.15416252826609497, &quot;z&quot;: -0.1449206424474178}, {&quot;x&quot;: 1.8945068276984347, &quot;y&quot;: -0.18014329037962812, &quot;z&quot;: -0.1449206424474178}, {&quot;x&quot;: 1.8495068276984348, &quot;y&quot;: -0.15416252826609497, &quot;z&quot;: -0.1449206424474178}, {&quot;x&quot;: 1.8345068276984347, &quot;y&quot;: -0.18014329037962812, &quot;z&quot;: -0.1449206424474178}, {&quot;x&quot;: 1.8495068276984348, &quot;y&quot;: -0.20612405249316126, &quot;z&quot;: -0.1449206424474178}, {&quot;x&quot;: 1.8795068276984346, &quot;y&quot;: -0.20612405249316126, &quot;z&quot;: -0.1449206424474178}, {&quot;x&quot;: 1.8904875898119677, &quot;y&quot;: -0.13514329037962813, &quot;z&quot;: -0.12295911822035148}, {&quot;x&quot;: 1.916468351925501, &quot;y&quot;: -0.18014329037962812, &quot;z&quot;: -0.12295911822035148}, {&quot;x&quot;: 1.8385260655849016, &quot;y&quot;: -0.13514329037962813, &quot;z&quot;: -0.12295911822035148}, {&quot;x&quot;: 1.8125453034713683, &quot;y&quot;: -0.18014329037962812, &quot;z&quot;: -0.12295911822035148}, {&quot;x&quot;: 1.8385260655849014, &quot;y&quot;: -0.2251432903796281, &quot;z&quot;: -0.12295911822035148}, {&quot;x&quot;: 1.8904875898119677, &quot;y&quot;: -0.2251432903796281, &quot;z&quot;: -0.12295911822035148}, {&quot;x&quot;: 1.8945068276984347, &quot;y&quot;: -0.1281817661525618, &quot;z&quot;: -0.09295911822035148}, {&quot;x&quot;: 1.9245068276984347, &quot;y&quot;: -0.18014329037962812, &quot;z&quot;: -0.09295911822035148}, {&quot;x&quot;: 1.8345068276984347, &quot;y&quot;: -0.1281817661525618, &quot;z&quot;: -0.09295911822035148}, {&quot;x&quot;: 1.8045068276984346, &quot;y&quot;: -0.18014329037962812, &quot;z&quot;: -0.09295911822035148}, {&quot;x&quot;: 1.8345068276984347, &quot;y&quot;: -0.2321048146066944, &quot;z&quot;: -0.09295911822035148}, {&quot;x&quot;: 1.8945068276984347, &quot;y&quot;: -0.23210481460669444, &quot;z&quot;: -0.09295911822035148}, {&quot;x&quot;: 1.8904875898119677, &quot;y&quot;: -0.13514329037962813, &quot;z&quot;: -0.0629591182203515}, {&quot;x&quot;: 1.916468351925501, &quot;y&quot;: -0.18014329037962812, &quot;z&quot;: -0.0629591182203515}, {&quot;x&quot;: 1.8385260655849016, &quot;y&quot;: -0.1351432903796281, &quot;z&quot;: -0.0629591182203515}, {&quot;x&quot;: 1.8125453034713683, &quot;y&quot;: -0.18014329037962812, &quot;z&quot;: -0.0629591182203515}, {&quot;x&quot;: 1.8385260655849014, &quot;y&quot;: -0.2251432903796281, &quot;z&quot;: -0.0629591182203515}, {&quot;x&quot;: 1.8904875898119677, &quot;y&quot;: -0.2251432903796281, &quot;z&quot;: -0.0629591182203515}, {&quot;x&quot;: 1.8795068276984346, &quot;y&quot;: -0.15416252826609497, &quot;z&quot;: -0.04099759399328516}, {&quot;x&quot;: 1.8945068276984347, &quot;y&quot;: -0.18014329037962812, &quot;z&quot;: -0.04099759399328516}, {&quot;x&quot;: 1.8495068276984348, &quot;y&quot;: -0.15416252826609497, &quot;z&quot;: -0.04099759399328516}, {&quot;x&quot;: 1.8345068276984347, &quot;y&quot;: -0.18014329037962812, &quot;z&quot;: -0.04099759399328516}, {&quot;x&quot;: 1.8495068276984348, &quot;y&quot;: -0.20612405249316126, &quot;z&quot;: -0.04099759399328516}, {&quot;x&quot;: 1.8795068276984346, &quot;y&quot;: -0.20612405249316126, &quot;z&quot;: -0.04099759399328516}, {&quot;x&quot;: 1.8645068276984347, &quot;y&quot;: -0.18014329037962812, &quot;z&quot;: -0.03295911822035148}], &quot;faces&quot;: [[0, 1, 2], [0, 3, 1], [0, 4, 3], [0, 5, 4], [0, 6, 5], [0, 2, 6], [2, 1, 7, 8], [1, 3, 9, 7], [3, 4, 10, 9], [4, 5, 11, 10], [5, 6, 12, 11], [6, 2, 8, 12], [8, 7, 13, 14], [7, 9, 15, 13], [9, 10, 16, 15], [10, 11, 17, 16], [11, 12, 18, 17], [12, 8, 14, 18], [14, 13, 19, 20], [13, 15, 21, 19], [15, 16, 22, 21], [16, 17, 23, 22], [17, 18, 24, 23], [18, 14, 20, 24], [20, 19, 25, 26], [19, 21, 27, 25], [21, 22, 28, 27], [22, 23, 29, 28], [23, 24, 30, 29], [24, 20, 26, 30], [26, 25, 31], [25, 27, 31], [27, 28, 31], [28, 29, 31], [29, 30, 31], [30, 26, 31]], &quot;color&quot;: &quot;#ff0000&quot;, &quot;opacity&quot;: 1.0}, {&quot;vertices&quot;: [{&quot;x&quot;: 2.359909591789005, &quot;y&quot;: 0.2609757273975843, &quot;z&quot;: -0.6849982324760813}, {&quot;x&quot;: 2.374909591789005, &quot;y&quot;: 0.28695648951111746, &quot;z&quot;: -0.6769597567031476}, {&quot;x&quot;: 2.3899095917890048, &quot;y&quot;: 0.2609757273975843, &quot;z&quot;: -0.6769597567031476}, {&quot;x&quot;: 2.344909591789005, &quot;y&quot;: 0.28695648951111746, &quot;z&quot;: -0.6769597567031476}, {&quot;x&quot;: 2.329909591789005, &quot;y&quot;: 0.2609757273975843, &quot;z&quot;: -0.6769597567031476}, {&quot;x&quot;: 2.344909591789005, &quot;y&quot;: 0.23499496528405114, &quot;z&quot;: -0.6769597567031476}, {&quot;x&quot;: 2.374909591789005, &quot;y&quot;: 0.23499496528405114, &quot;z&quot;: -0.6769597567031476}, {&quot;x&quot;: 2.3858903539025382, &quot;y&quot;: 0.3059757273975843, &quot;z&quot;: -0.6549982324760812}, {&quot;x&quot;: 2.411871116016071, &quot;y&quot;: 0.2609757273975843, &quot;z&quot;: -0.6549982324760812}, {&quot;x&quot;: 2.3339288296754717, &quot;y&quot;: 0.3059757273975843, &quot;z&quot;: -0.6549982324760812}, {&quot;x&quot;: 2.307948067561939, &quot;y&quot;: 0.2609757273975843, &quot;z&quot;: -0.6549982324760812}, {&quot;x&quot;: 2.3339288296754717, &quot;y&quot;: 0.2159757273975843, &quot;z&quot;: -0.6549982324760812}, {&quot;x&quot;: 2.3858903539025382, &quot;y&quot;: 0.2159757273975843, &quot;z&quot;: -0.6549982324760812}, {&quot;x&quot;: 2.3899095917890048, &quot;y&quot;: 0.3129372516246506, &quot;z&quot;: -0.6249982324760812}, {&quot;x&quot;: 2.419909591789005, &quot;y&quot;: 0.2609757273975843, &quot;z&quot;: -0.6249982324760812}, {&quot;x&quot;: 2.329909591789005, &quot;y&quot;: 0.3129372516246506, &quot;z&quot;: -0.6249982324760812}, {&quot;x&quot;: 2.299909591789005, &quot;y&quot;: 0.2609757273975843, &quot;z&quot;: -0.6249982324760812}, {&quot;x&quot;: 2.329909591789005, &quot;y&quot;: 0.209014203170518, &quot;z&quot;: -0.6249982324760812}, {&quot;x&quot;: 2.3899095917890048, &quot;y&quot;: 0.20901420317051797, &quot;z&quot;: -0.6249982324760812}, {&quot;x&quot;: 2.3858903539025382, &quot;y&quot;: 0.3059757273975843, &quot;z&quot;: -0.5949982324760812}, {&quot;x&quot;: 2.411871116016071, &quot;y&quot;: 0.2609757273975843, &quot;z&quot;: -0.5949982324760812}, {&quot;x&quot;: 2.3339288296754717, &quot;y&quot;: 0.3059757273975843, &quot;z&quot;: -0.5949982324760812}, {&quot;x&quot;: 2.307948067561939, &quot;y&quot;: 0.2609757273975843, &quot;z&quot;: -0.5949982324760812}, {&quot;x&quot;: 2.3339288296754717, &quot;y&quot;: 0.2159757273975843, &quot;z&quot;: -0.5949982324760812}, {&quot;x&quot;: 2.3858903539025382, &quot;y&quot;: 0.2159757273975843, &quot;z&quot;: -0.5949982324760812}, {&quot;x&quot;: 2.374909591789005, &quot;y&quot;: 0.28695648951111746, &quot;z&quot;: -0.5730367082490149}, {&quot;x&quot;: 2.3899095917890048, &quot;y&quot;: 0.2609757273975843, &quot;z&quot;: -0.5730367082490149}, {&quot;x&quot;: 2.344909591789005, &quot;y&quot;: 0.28695648951111746, &quot;z&quot;: -0.5730367082490149}, {&quot;x&quot;: 2.329909591789005, &quot;y&quot;: 0.2609757273975843, &quot;z&quot;: -0.5730367082490149}, {&quot;x&quot;: 2.344909591789005, &quot;y&quot;: 0.23499496528405114, &quot;z&quot;: -0.5730367082490149}, {&quot;x&quot;: 2.374909591789005, &quot;y&quot;: 0.23499496528405114, &quot;z&quot;: -0.5730367082490149}, {&quot;x&quot;: 2.359909591789005, &quot;y&quot;: 0.2609757273975843, &quot;z&quot;: -0.5649982324760812}], &quot;faces&quot;: [[0, 1, 2], [0, 3, 1], [0, 4, 3], [0, 5, 4], [0, 6, 5], [0, 2, 6], [2, 1, 7, 8], [1, 3, 9, 7], [3, 4, 10, 9], [4, 5, 11, 10], [5, 6, 12, 11], [6, 2, 8, 12], [8, 7, 13, 14], [7, 9, 15, 13], [9, 10, 16, 15], [10, 11, 17, 16], [11, 12, 18, 17], [12, 8, 14, 18], [14, 13, 19, 20], [13, 15, 21, 19], [15, 16, 22, 21], [16, 17, 23, 22], [17, 18, 24, 23], [18, 14, 20, 24], [20, 19, 25, 26], [19, 21, 27, 25], [21, 22, 28, 27], [22, 23, 29, 28], [23, 24, 30, 29], [24, 20, 26, 30], [26, 25, 31], [25, 27, 31], [27, 28, 31], [28, 29, 31], [29, 30, 31], [30, 26, 31]], &quot;color&quot;: &quot;#ff0000&quot;, &quot;opacity&quot;: 1.0}, {&quot;vertices&quot;: [{&quot;x&quot;: 1.193277622607444, &quot;y&quot;: -0.7341746100433689, &quot;z&quot;: -0.16435473942054574}, {&quot;x&quot;: 1.2082776226074439, &quot;y&quot;: -0.7081938479298358, &quot;z&quot;: -0.15631626364761206}, {&quot;x&quot;: 1.223277622607444, &quot;y&quot;: -0.7341746100433689, &quot;z&quot;: -0.15631626364761206}, {&quot;x&quot;: 1.178277622607444, &quot;y&quot;: -0.7081938479298358, &quot;z&quot;: -0.15631626364761206}, {&quot;x&quot;: 1.163277622607444, &quot;y&quot;: -0.7341746100433689, &quot;z&quot;: -0.15631626364761206}, {&quot;x&quot;: 1.178277622607444, &quot;y&quot;: -0.7601553721569021, &quot;z&quot;: -0.15631626364761206}, {&quot;x&quot;: 1.2082776226074439, &quot;y&quot;: -0.7601553721569021, &quot;z&quot;: -0.15631626364761206}, {&quot;x&quot;: 1.219258384720977, &quot;y&quot;: -0.6891746100433689, &quot;z&quot;: -0.13435473942054574}, {&quot;x&quot;: 1.2452391468345103, &quot;y&quot;: -0.7341746100433689, &quot;z&quot;: -0.13435473942054574}, {&quot;x&quot;: 1.167296860493911, &quot;y&quot;: -0.6891746100433689, &quot;z&quot;: -0.13435473942054574}, {&quot;x&quot;: 1.1413160983803776, &quot;y&quot;: -0.7341746100433689, &quot;z&quot;: -0.13435473942054574}, {&quot;x&quot;: 1.1672968604939107, &quot;y&quot;: -0.7791746100433689, &quot;z&quot;: -0.13435473942054574}, {&quot;x&quot;: 1.219258384720977, &quot;y&quot;: -0.779174610043369, &quot;z&quot;: -0.13435473942054574}, {&quot;x&quot;: 1.223277622607444, &quot;y&quot;: -0.6822130858163026, &quot;z&quot;: -0.10435473942054574}, {&quot;x&quot;: 1.253277622607444, &quot;y&quot;: -0.7341746100433689, &quot;z&quot;: -0.10435473942054574}, {&quot;x&quot;: 1.163277622607444, &quot;y&quot;: -0.6822130858163026, &quot;z&quot;: -0.10435473942054574}, {&quot;x&quot;: 1.133277622607444, &quot;y&quot;: -0.7341746100433689, &quot;z&quot;: -0.10435473942054574}, {&quot;x&quot;: 1.163277622607444, &quot;y&quot;: -0.7861361342704353, &quot;z&quot;: -0.10435473942054574}, {&quot;x&quot;: 1.223277622607444, &quot;y&quot;: -0.7861361342704353, &quot;z&quot;: -0.10435473942054574}, {&quot;x&quot;: 1.219258384720977, &quot;y&quot;: -0.6891746100433689, &quot;z&quot;: -0.07435473942054575}, {&quot;x&quot;: 1.2452391468345103, &quot;y&quot;: -0.7341746100433689, &quot;z&quot;: -0.07435473942054575}, {&quot;x&quot;: 1.167296860493911, &quot;y&quot;: -0.6891746100433689, &quot;z&quot;: -0.07435473942054575}, {&quot;x&quot;: 1.1413160983803776, &quot;y&quot;: -0.7341746100433689, &quot;z&quot;: -0.07435473942054575}, {&quot;x&quot;: 1.1672968604939107, &quot;y&quot;: -0.779174610043369, &quot;z&quot;: -0.07435473942054575}, {&quot;x&quot;: 1.219258384720977, &quot;y&quot;: -0.779174610043369, &quot;z&quot;: -0.07435473942054575}, {&quot;x&quot;: 1.2082776226074439, &quot;y&quot;: -0.7081938479298358, &quot;z&quot;: -0.05239321519347942}, {&quot;x&quot;: 1.223277622607444, &quot;y&quot;: -0.7341746100433689, &quot;z&quot;: -0.05239321519347942}, {&quot;x&quot;: 1.178277622607444, &quot;y&quot;: -0.7081938479298358, &quot;z&quot;: -0.05239321519347942}, {&quot;x&quot;: 1.163277622607444, &quot;y&quot;: -0.7341746100433689, &quot;z&quot;: -0.05239321519347942}, {&quot;x&quot;: 1.178277622607444, &quot;y&quot;: -0.7601553721569021, &quot;z&quot;: -0.05239321519347942}, {&quot;x&quot;: 1.2082776226074439, &quot;y&quot;: -0.7601553721569021, &quot;z&quot;: -0.05239321519347942}, {&quot;x&quot;: 1.193277622607444, &quot;y&quot;: -0.7341746100433689, &quot;z&quot;: -0.04435473942054574}], &quot;faces&quot;: [[0, 1, 2], [0, 3, 1], [0, 4, 3], [0, 5, 4], [0, 6, 5], [0, 2, 6], [2, 1, 7, 8], [1, 3, 9, 7], [3, 4, 10, 9], [4, 5, 11, 10], [5, 6, 12, 11], [6, 2, 8, 12], [8, 7, 13, 14], [7, 9, 15, 13], [9, 10, 16, 15], [10, 11, 17, 16], [11, 12, 18, 17], [12, 8, 14, 18], [14, 13, 19, 20], [13, 15, 21, 19], [15, 16, 22, 21], [16, 17, 23, 22], [17, 18, 24, 23], [18, 14, 20, 24], [20, 19, 25, 26], [19, 21, 27, 25], [21, 22, 28, 27], [22, 23, 29, 28], [23, 24, 30, 29], [24, 20, 26, 30], [26, 25, 31], [25, 27, 31], [27, 28, 31], [28, 29, 31], [29, 30, 31], [30, 26, 31]], &quot;color&quot;: &quot;#ff0000&quot;, &quot;opacity&quot;: 1.0}, {&quot;vertices&quot;: [{&quot;x&quot;: 1.6526751858499542, &quot;y&quot;: -0.3232540830232298, &quot;z&quot;: -0.7526583589045168}, {&quot;x&quot;: 1.6676751858499541, &quot;y&quot;: -0.2972733209096966, &quot;z&quot;: -0.7446198831315832}, {&quot;x&quot;: 1.6826751858499542, &quot;y&quot;: -0.3232540830232298, &quot;z&quot;: -0.7446198831315832}, {&quot;x&quot;: 1.6376751858499543, &quot;y&quot;: -0.2972733209096966, &quot;z&quot;: -0.7446198831315832}, {&quot;x&quot;: 1.6226751858499542, &quot;y&quot;: -0.3232540830232298, &quot;z&quot;: -0.7446198831315832}, {&quot;x&quot;: 1.6376751858499543, &quot;y&quot;: -0.3492348451367629, &quot;z&quot;: -0.7446198831315832}, {&quot;x&quot;: 1.6676751858499541, &quot;y&quot;: -0.34923484513676295, &quot;z&quot;: -0.7446198831315832}, {&quot;x&quot;: 1.6786559479634873, &quot;y&quot;: -0.2782540830232298, &quot;z&quot;: -0.7226583589045169}, {&quot;x&quot;: 1.7046367100770206, &quot;y&quot;: -0.3232540830232298, &quot;z&quot;: -0.7226583589045169}, {&quot;x&quot;: 1.6266944237364211, &quot;y&quot;: -0.2782540830232298, &quot;z&quot;: -0.7226583589045169}, {&quot;x&quot;: 1.6007136616228879, &quot;y&quot;: -0.3232540830232298, &quot;z&quot;: -0.7226583589045169}, {&quot;x&quot;: 1.626694423736421, &quot;y&quot;: -0.36825408302322976, &quot;z&quot;: -0.7226583589045169}, {&quot;x&quot;: 1.6786559479634873, &quot;y&quot;: -0.36825408302322976, &quot;z&quot;: -0.7226583589045169}, {&quot;x&quot;: 1.6826751858499542, &quot;y&quot;: -0.2712925587961635, &quot;z&quot;: -0.6926583589045169}, {&quot;x&quot;: 1.7126751858499543, &quot;y&quot;: -0.3232540830232298, &quot;z&quot;: -0.6926583589045169}, {&quot;x&quot;: 1.6226751858499542, &quot;y&quot;: -0.27129255879616343, &quot;z&quot;: -0.6926583589045169}, {&quot;x&quot;: 1.5926751858499542, &quot;y&quot;: -0.3232540830232298, &quot;z&quot;: -0.6926583589045169}, {&quot;x&quot;: 1.6226751858499542, &quot;y&quot;: -0.37521560725029607, &quot;z&quot;: -0.6926583589045169}, {&quot;x&quot;: 1.6826751858499542, &quot;y&quot;: -0.37521560725029607, &quot;z&quot;: -0.6926583589045169}, {&quot;x&quot;: 1.6786559479634873, &quot;y&quot;: -0.2782540830232298, &quot;z&quot;: -0.6626583589045169}, {&quot;x&quot;: 1.7046367100770206, &quot;y&quot;: -0.3232540830232298, &quot;z&quot;: -0.6626583589045169}, {&quot;x&quot;: 1.6266944237364211, &quot;y&quot;: -0.2782540830232298, &quot;z&quot;: -0.6626583589045169}, {&quot;x&quot;: 1.6007136616228879, &quot;y&quot;: -0.3232540830232298, &quot;z&quot;: -0.6626583589045169}, {&quot;x&quot;: 1.626694423736421, &quot;y&quot;: -0.36825408302322976, &quot;z&quot;: -0.6626583589045169}, {&quot;x&quot;: 1.6786559479634873, &quot;y&quot;: -0.36825408302322976, &quot;z&quot;: -0.6626583589045169}, {&quot;x&quot;: 1.6676751858499541, &quot;y&quot;: -0.2972733209096966, &quot;z&quot;: -0.6406968346774505}, {&quot;x&quot;: 1.6826751858499542, &quot;y&quot;: -0.3232540830232298, &quot;z&quot;: -0.6406968346774505}, {&quot;x&quot;: 1.6376751858499543, &quot;y&quot;: -0.2972733209096966, &quot;z&quot;: -0.6406968346774505}, {&quot;x&quot;: 1.6226751858499542, &quot;y&quot;: -0.3232540830232298, &quot;z&quot;: -0.6406968346774505}, {&quot;x&quot;: 1.6376751858499543, &quot;y&quot;: -0.3492348451367629, &quot;z&quot;: -0.6406968346774505}, {&quot;x&quot;: 1.6676751858499541, &quot;y&quot;: -0.34923484513676295, &quot;z&quot;: -0.6406968346774505}, {&quot;x&quot;: 1.6526751858499542, &quot;y&quot;: -0.3232540830232298, &quot;z&quot;: -0.6326583589045169}], &quot;faces&quot;: [[0, 1, 2], [0, 3, 1], [0, 4, 3], [0, 5, 4], [0, 6, 5], [0, 2, 6], [2, 1, 7, 8], [1, 3, 9, 7], [3, 4, 10, 9], [4, 5, 11, 10], [5, 6, 12, 11], [6, 2, 8, 12], [8, 7, 13, 14], [7, 9, 15, 13], [9, 10, 16, 15], [10, 11, 17, 16], [11, 12, 18, 17], [12, 8, 14, 18], [14, 13, 19, 20], [13, 15, 21, 19], [15, 16, 22, 21], [16, 17, 23, 22], [17, 18, 24, 23], [18, 14, 20, 24], [20, 19, 25, 26], [19, 21, 27, 25], [21, 22, 28, 27], [22, 23, 29, 28], [23, 24, 30, 29], [24, 20, 26, 30], [26, 25, 31], [25, 27, 31], [27, 28, 31], [28, 29, 31], [29, 30, 31], [30, 26, 31]], &quot;color&quot;: &quot;#ff0000&quot;, &quot;opacity&quot;: 1.0}, {&quot;vertices&quot;: [{&quot;x&quot;: 1.0, &quot;y&quot;: 0.021774185853910052, &quot;z&quot;: -0.34444634611753316}, {&quot;x&quot;: 1.015, &quot;y&quot;: 0.0477549479674432, &quot;z&quot;: -0.3364078703445995}, {&quot;x&quot;: 1.03, &quot;y&quot;: 0.021774185853910052, &quot;z&quot;: -0.3364078703445995}, {&quot;x&quot;: 0.985, &quot;y&quot;: 0.0477549479674432, &quot;z&quot;: -0.3364078703445995}, {&quot;x&quot;: 0.97, &quot;y&quot;: 0.021774185853910055, &quot;z&quot;: -0.3364078703445995}, {&quot;x&quot;: 0.985, &quot;y&quot;: -0.0042065762596230905, &quot;z&quot;: -0.3364078703445995}, {&quot;x&quot;: 1.015, &quot;y&quot;: -0.004206576259623097, &quot;z&quot;: -0.3364078703445995}, {&quot;x&quot;: 1.025980762113533, &quot;y&quot;: 0.06677418585391004, &quot;z&quot;: -0.3144463461175332}, {&quot;x&quot;: 1.0519615242270663, &quot;y&quot;: 0.021774185853910052, &quot;z&quot;: -0.3144463461175332}, {&quot;x&quot;: 0.9740192378864668, &quot;y&quot;: 0.06677418585391005, &quot;z&quot;: -0.3144463461175332}, {&quot;x&quot;: 0.9480384757729337, &quot;y&quot;: 0.02177418585391006, &quot;z&quot;: -0.3144463461175332}, {&quot;x&quot;: 0.9740192378864668, &quot;y&quot;: -0.023225814146089926, &quot;z&quot;: -0.3144463461175332}, {&quot;x&quot;: 1.025980762113533, &quot;y&quot;: -0.02322581414608994, &quot;z&quot;: -0.3144463461175332}, {&quot;x&quot;: 1.03, &quot;y&quot;: 0.07373571008097636, &quot;z&quot;: -0.28444634611753317}, {&quot;x&quot;: 1.06, &quot;y&quot;: 0.021774185853910052, &quot;z&quot;: -0.28444634611753317}, {&quot;x&quot;: 0.97, &quot;y&quot;: 0.07373571008097637, &quot;z&quot;: -0.28444634611753317}, {&quot;x&quot;: 0.94, &quot;y&quot;: 0.02177418585391006, &quot;z&quot;: -0.28444634611753317}, {&quot;x&quot;: 0.97, &quot;y&quot;: -0.030187338373156247, &quot;z&quot;: -0.28444634611753317}, {&quot;x&quot;: 1.03, &quot;y&quot;: -0.03018733837315626, &quot;z&quot;: -0.28444634611753317}, {&quot;x&quot;: 1.025980762113533, &quot;y&quot;: 0.06677418585391005, &quot;z&quot;: -0.2544463461175332}, {&quot;x&quot;: 1.0519615242270663, &quot;y&quot;: 0.021774185853910052, &quot;z&quot;: -0.2544463461175332}, {&quot;x&quot;: 0.9740192378864668, &quot;y&quot;: 0.06677418585391005, &quot;z&quot;: -0.2544463461175332}, {&quot;x&quot;: 0.9480384757729337, &quot;y&quot;: 0.02177418585391006, &quot;z&quot;: -0.2544463461175332}, {&quot;x&quot;: 0.9740192378864668, &quot;y&quot;: -0.023225814146089933, &quot;z&quot;: -0.2544463461175332}, {&quot;x&quot;: 1.025980762113533, &quot;y&quot;: -0.023225814146089947, &quot;z&quot;: -0.2544463461175332}, {&quot;x&quot;: 1.015, &quot;y&quot;: 0.0477549479674432, &quot;z&quot;: -0.23248482189046685}, {&quot;x&quot;: 1.03, &quot;y&quot;: 0.021774185853910052, &quot;z&quot;: -0.23248482189046685}, {&quot;x&quot;: 0.985, &quot;y&quot;: 0.0477549479674432, &quot;z&quot;: -0.23248482189046685}, {&quot;x&quot;: 0.97, &quot;y&quot;: 0.021774185853910055, &quot;z&quot;: -0.23248482189046685}, {&quot;x&quot;: 0.985, &quot;y&quot;: -0.0042065762596230905, &quot;z&quot;: -0.23248482189046685}, {&quot;x&quot;: 1.015, &quot;y&quot;: -0.004206576259623097, &quot;z&quot;: -0.23248482189046685}, {&quot;x&quot;: 1.0, &quot;y&quot;: 0.021774185853910052, &quot;z&quot;: -0.22444634611753317}], &quot;faces&quot;: [[0, 1, 2], [0, 3, 1], [0, 4, 3], [0, 5, 4], [0, 6, 5], [0, 2, 6], [2, 1, 7, 8], [1, 3, 9, 7], [3, 4, 10, 9], [4, 5, 11, 10], [5, 6, 12, 11], [6, 2, 8, 12], [8, 7, 13, 14], [7, 9, 15, 13], [9, 10, 16, 15], [10, 11, 17, 16], [11, 12, 18, 17], [12, 8, 14, 18], [14, 13, 19, 20], [13, 15, 21, 19], [15, 16, 22, 21], [16, 17, 23, 22], [17, 18, 24, 23], [18, 14, 20, 24], [20, 19, 25, 26], [19, 21, 27, 25], [21, 22, 28, 27], [22, 23, 29, 28], [23, 24, 30, 29], [24, 20, 26, 30], [26, 25, 31], [25, 27, 31], [27, 28, 31], [28, 29, 31], [29, 30, 31], [30, 26, 31]], &quot;color&quot;: &quot;#ff0000&quot;, &quot;opacity&quot;: 1.0}, {&quot;vertices&quot;: [{&quot;x&quot;: 1.5427627033518394, &quot;y&quot;: 0.4348519058308451, &quot;z&quot;: -0.8885246731531153}, {&quot;x&quot;: 1.5577627033518393, &quot;y&quot;: 0.46083266794437827, &quot;z&quot;: -0.8804861973801816}, {&quot;x&quot;: 1.5727627033518394, &quot;y&quot;: 0.4348519058308451, &quot;z&quot;: -0.8804861973801816}, {&quot;x&quot;: 1.5277627033518395, &quot;y&quot;: 0.46083266794437827, &quot;z&quot;: -0.8804861973801816}, {&quot;x&quot;: 1.5127627033518394, &quot;y&quot;: 0.4348519058308451, &quot;z&quot;: -0.8804861973801816}, {&quot;x&quot;: 1.5277627033518395, &quot;y&quot;: 0.408871143717312, &quot;z&quot;: -0.8804861973801816}, {&quot;x&quot;: 1.5577627033518393, &quot;y&quot;: 0.4088711437173119, &quot;z&quot;: -0.8804861973801816}, {&quot;x&quot;: 1.5687434654653725, &quot;y&quot;: 0.4798519058308451, &quot;z&quot;: -0.8585246731531153}, {&quot;x&quot;: 1.5947242275789058, &quot;y&quot;: 0.4348519058308451, &quot;z&quot;: -0.8585246731531153}, {&quot;x&quot;: 1.5167819412383063, &quot;y&quot;: 0.4798519058308451, &quot;z&quot;: -0.8585246731531153}, {&quot;x&quot;: 1.490801179124773, &quot;y&quot;: 0.4348519058308451, &quot;z&quot;: -0.8585246731531153}, {&quot;x&quot;: 1.5167819412383061, &quot;y&quot;: 0.3898519058308451, &quot;z&quot;: -0.8585246731531153}, {&quot;x&quot;: 1.5687434654653725, &quot;y&quot;: 0.3898519058308451, &quot;z&quot;: -0.8585246731531153}, {&quot;x&quot;: 1.5727627033518394, &quot;y&quot;: 0.4868134300579114, &quot;z&quot;: -0.8285246731531153}, {&quot;x&quot;: 1.6027627033518395, &quot;y&quot;: 0.4348519058308451, &quot;z&quot;: -0.8285246731531153}, {&quot;x&quot;: 1.5127627033518394, &quot;y&quot;: 0.48681343005791144, &quot;z&quot;: -0.8285246731531153}, {&quot;x&quot;: 1.4827627033518394, &quot;y&quot;: 0.4348519058308451, &quot;z&quot;: -0.8285246731531153}, {&quot;x&quot;: 1.5127627033518394, &quot;y&quot;: 0.3828903816037788, &quot;z&quot;: -0.8285246731531153}, {&quot;x&quot;: 1.5727627033518394, &quot;y&quot;: 0.3828903816037788, &quot;z&quot;: -0.8285246731531153}, {&quot;x&quot;: 1.5687434654653725, &quot;y&quot;: 0.4798519058308451, &quot;z&quot;: -0.7985246731531153}, {&quot;x&quot;: 1.5947242275789058, &quot;y&quot;: 0.4348519058308451, &quot;z&quot;: -0.7985246731531153}, {&quot;x&quot;: 1.5167819412383063, &quot;y&quot;: 0.4798519058308451, &quot;z&quot;: -0.7985246731531153}, {&quot;x&quot;: 1.490801179124773, &quot;y&quot;: 0.4348519058308451, &quot;z&quot;: -0.7985246731531153}, {&quot;x&quot;: 1.5167819412383061, &quot;y&quot;: 0.3898519058308451, &quot;z&quot;: -0.7985246731531153}, {&quot;x&quot;: 1.5687434654653725, &quot;y&quot;: 0.3898519058308451, &quot;z&quot;: -0.7985246731531153}, {&quot;x&quot;: 1.5577627033518393, &quot;y&quot;: 0.46083266794437827, &quot;z&quot;: -0.7765631489260489}, {&quot;x&quot;: 1.5727627033518394, &quot;y&quot;: 0.4348519058308451, &quot;z&quot;: -0.7765631489260489}, {&quot;x&quot;: 1.5277627033518395, &quot;y&quot;: 0.46083266794437827, &quot;z&quot;: -0.7765631489260489}, {&quot;x&quot;: 1.5127627033518394, &quot;y&quot;: 0.4348519058308451, &quot;z&quot;: -0.7765631489260489}, {&quot;x&quot;: 1.5277627033518395, &quot;y&quot;: 0.408871143717312, &quot;z&quot;: -0.7765631489260489}, {&quot;x&quot;: 1.5577627033518393, &quot;y&quot;: 0.4088711437173119, &quot;z&quot;: -0.7765631489260489}, {&quot;x&quot;: 1.5427627033518394, &quot;y&quot;: 0.4348519058308451, &quot;z&quot;: -0.7685246731531152}], &quot;faces&quot;: [[0, 1, 2], [0, 3, 1], [0, 4, 3], [0, 5, 4], [0, 6, 5], [0, 2, 6], [2, 1, 7, 8], [1, 3, 9, 7], [3, 4, 10, 9], [4, 5, 11, 10], [5, 6, 12, 11], [6, 2, 8, 12], [8, 7, 13, 14], [7, 9, 15, 13], [9, 10, 16, 15], [10, 11, 17, 16], [11, 12, 18, 17], [12, 8, 14, 18], [14, 13, 19, 20], [13, 15, 21, 19], [15, 16, 22, 21], [16, 17, 23, 22], [17, 18, 24, 23], [18, 14, 20, 24], [20, 19, 25, 26], [19, 21, 27, 25], [21, 22, 28, 27], [22, 23, 29, 28], [23, 24, 30, 29], [24, 20, 26, 30], [26, 25, 31], [25, 27, 31], [27, 28, 31], [28, 29, 31], [29, 30, 31], [30, 26, 31]], &quot;color&quot;: &quot;#ff0000&quot;, &quot;opacity&quot;: 1.0}, {&quot;vertices&quot;: [{&quot;x&quot;: 2.5908438778960097, &quot;y&quot;: -0.05992472440711927, &quot;z&quot;: 0.30931840518444464}, {&quot;x&quot;: 2.6010705389686875, &quot;y&quot;: -0.08041220285261685, &quot;z&quot;: 0.3039831418591824}, {&quot;x&quot;: 2.0763735137604296, &quot;y&quot;: -0.47822864216410205, &quot;z&quot;: 0.8258612410764511}, {&quot;x&quot;: 2.066146852687752, &quot;y&quot;: -0.45774116371860446, &quot;z&quot;: 0.8311965044017133}, {&quot;x&quot;: 2.618736063632291, &quot;y&quot;: -0.0838706566595867, &quot;z&quot;: 0.3191077820243139}, {&quot;x&quot;: 2.0940390384240333, &quot;y&quot;: -0.4816870959710719, &quot;z&quot;: 0.8409858812415826}, {&quot;x&quot;: 2.61942729723082, &quot;y&quot;: -0.0655206202153179, &quot;z&quot;: 0.33379058703923925}, {&quot;x&quot;: 2.094730272022562, &quot;y&quot;: -0.4633370595268031, &quot;z&quot;: 0.8556686862565079}, {&quot;x&quot;: 2.6021889784252727, &quot;y&quot;: -0.050721220190990735, &quot;z&quot;: 0.32774041942351895}, {&quot;x&quot;: 2.077491953217015, &quot;y&quot;: -0.4485376595024759, &quot;z&quot;: 0.8496185186407876}], &quot;faces&quot;: [[0, 1, 2, 3], [1, 4, 5, 2], [4, 6, 7, 5], [6, 8, 9, 7], [8, 0, 3, 9]], &quot;color&quot;: &quot;#000000&quot;, &quot;opacity&quot;: 1.0}, {&quot;vertices&quot;: [{&quot;x&quot;: 1.958378515919801, &quot;y&quot;: 0.33755727214997, &quot;z&quot;: 0.6605933776651162}, {&quot;x&quot;: 1.9743168988581743, &quot;y&quot;: 0.343313420303095, &quot;z&quot;: 0.676891264406933}, {&quot;x&quot;: 2.1013613598159506, &quot;y&quot;: -0.46343383994259735, &quot;z&quot;: 0.8375791820888105}, {&quot;x&quot;: 2.0854229768775774, &quot;y&quot;: -0.4691899880957223, &quot;z&quot;: 0.8212812953469937}, {&quot;x&quot;: 1.9631617914443933, &quot;y&quot;: 0.3456526792814607, &quot;z&quot;: 0.6974552584382293}, {&quot;x&quot;: 2.0902062524021696, &quot;y&quot;: -0.46109458096423167, &quot;z&quot;: 0.8581431761201067}, {&quot;x&quot;: 1.9403291729761476, &quot;y&quot;: 0.34134227268545403, &quot;z&quot;: 0.6938666189522035}, {&quot;x&quot;: 2.067373633933924, &quot;y&quot;: -0.4654049875602383, &quot;z&quot;: 0.8545545366340809}, {&quot;x&quot;: 1.937372946124394, &quot;y&quot;: 0.33633903592542447, &quot;z&quot;: 0.6710847237451734}, {&quot;x&quot;: 2.0644174070821704, &quot;y&quot;: -0.4704082243202678, &quot;z&quot;: 0.8317726414270508}], &quot;faces&quot;: [[0, 1, 2, 3], [1, 4, 5, 2], [4, 6, 7, 5], [6, 8, 9, 7], [8, 0, 3, 9]], &quot;color&quot;: &quot;#000000&quot;, &quot;opacity&quot;: 1.0}, {&quot;vertices&quot;: [{&quot;x&quot;: 1.2704195526947717, &quot;y&quot;: -0.2670005092809478, &quot;z&quot;: 0.623541303182779}, {&quot;x&quot;: 1.2632017787665992, &quot;y&quot;: -0.2750342951401574, &quot;z&quot;: 0.6444254701230762}, {&quot;x&quot;: 2.0797821187175405, &quot;y&quot;: -0.4550963556178664, &quot;z&quot;: 0.8573768540793492}, {&quot;x&quot;: 2.086999892645713, &quot;y&quot;: -0.4470625697586568, &quot;z&quot;: 0.836492687139052}, {&quot;x&quot;: 1.2587122922328469, &quot;y&quot;: -0.29800709013023496, &quot;z&quot;: 0.6422160345600499}, {&quot;x&quot;: 2.075292632183788, &quot;y&quot;: -0.47806915060794397, &quot;z&quot;: 0.855167418516323}, {&quot;x&quot;: 1.2631554108911254, &quot;y&quot;: -0.3041712723914766, &quot;z&quot;: 0.6199663613458499}, {&quot;x&quot;: 2.0797357508420666, &quot;y&quot;: -0.48423333286918563, &quot;z&quot;: 0.8329177453021229}, {&quot;x&quot;: 1.270390895771743, &quot;y&quot;: -0.28500815155169557, &quot;z&quot;: 0.6084247426239222}, {&quot;x&quot;: 2.0869712357226837, &quot;y&quot;: -0.46507021202940463, &quot;z&quot;: 0.8213761265801953}], &quot;faces&quot;: [[0, 1, 2, 3], [1, 4, 5, 2], [4, 6, 7, 5], [6, 8, 9, 7], [8, 0, 3, 9]], &quot;color&quot;: &quot;#000000&quot;, &quot;opacity&quot;: 1.0}, {&quot;vertices&quot;: [{&quot;x&quot;: 1.984460559429967, &quot;y&quot;: -0.9199775637798284, &quot;z&quot;: 0.11662212236384739}, {&quot;x&quot;: 2.0071019019880296, &quot;y&quot;: -0.9161578284629623, &quot;z&quot;: 0.1115658753586477}, {&quot;x&quot;: 2.0970958123074306, &quot;y&quot;: -0.47766470470154854, &quot;z&quot;: 0.8458082133808427}, {&quot;x&quot;: 2.0744544697493676, &quot;y&quot;: -0.4814844400184146, &quot;z&quot;: 0.8508644603860422}, {&quot;x&quot;: 2.0085445958700854, &quot;y&quot;: -0.8960884109132881, &quot;z&quot;: 0.09940349409182558}, {&quot;x&quot;: 2.0985385061894863, &quot;y&quot;: -0.45759528715187425, &quot;z&quot;: 0.8336458321140204}, {&quot;x&quot;: 1.9867948871664947, &quot;y&quot;: -0.8875045640500419, &quot;z&quot;: 0.09694297608999414}, {&quot;x&quot;: 2.0767887974858956, &quot;y&quot;: -0.44901144028862805, &quot;z&quot;: 0.831185314112189}, {&quot;x&quot;: 1.9719101340602105, &quot;y&quot;: -0.9022688724840058, &quot;z&quot;: 0.1075846736017535}, {&quot;x&quot;: 2.0619040443796117, &quot;y&quot;: -0.463775748722592, &quot;z&quot;: 0.8418270116239484}], &quot;faces&quot;: [[0, 1, 2, 3], [1, 4, 5, 2], [4, 6, 7, 5], [6, 8, 9, 7], [8, 0, 3, 9]], &quot;color&quot;: &quot;#000000&quot;, &quot;opacity&quot;: 1.0}, {&quot;vertices&quot;: [{&quot;x&quot;: 2.4389903324691726, &quot;y&quot;: 0.7017996041777403, &quot;z&quot;: 0.09091734085474482}, {&quot;x&quot;: 2.4531887856175856, &quot;y&quot;: 0.709575607102932, &quot;z&quot;: 0.10796797460249105}, {&quot;x&quot;: 2.625990344546692, &quot;y&quot;: -0.06421954892343924, &quot;z&quot;: 0.3169642272375912}, {&quot;x&quot;: 2.611791891398279, &quot;y&quot;: -0.07199555184863082, &quot;z&quot;: 0.299913593489845}, {&quot;x&quot;: 2.4403877780411616, &quot;y&quot;: 0.7120029373045924, &quot;z&quot;: 0.12753909305853445}, {&quot;x&quot;: 2.613189336970268, &quot;y&quot;: -0.06179221872177884, &quot;z&quot;: 0.33653534569363464}, {&quot;x&quot;: 2.4182778671202736, &quot;y&quot;: 0.7057271069459461, &quot;z&quot;: 0.12258407571447341}, {&quot;x&quot;: 2.59107942604938, &quot;y&quot;: -0.06806804908042514, &quot;z&quot;: 0.33158032834957357}, {&quot;x&quot;: 2.4174141982593564, &quot;y&quot;: 0.6994211002750137, &quot;z&quot;: 0.09995058812495505}, {&quot;x&quot;: 2.5902157571884628, &quot;y&quot;: -0.07437405575135742, &quot;z&quot;: 0.30894684076005524}], &quot;faces&quot;: [[0, 1, 2, 3], [1, 4, 5, 2], [4, 6, 7, 5], [6, 8, 9, 7], [8, 0, 3, 9]], &quot;color&quot;: &quot;#000000&quot;, &quot;opacity&quot;: 1.0}, {&quot;vertices&quot;: [{&quot;x&quot;: 1.718774102233315, &quot;y&quot;: 0.2624942871148454, &quot;z&quot;: 0.07474272805336005}, {&quot;x&quot;: 1.7113761004218462, &quot;y&quot;: 0.2579182409412572, &quot;z&quot;: 0.09658570804956784}, {&quot;x&quot;: 2.606804728465662, &quot;y&quot;: -0.05537730958816161, &quot;z&quot;: 0.3342239656503193}, {&quot;x&quot;: 2.6142027302771305, &quot;y&quot;: -0.05080126341457339, &quot;z&quot;: 0.3123809856541115}, {&quot;x&quot;: 1.7034925072144174, &quot;y&quot;: 0.23577384781944538, &quot;z&quot;: 0.09709680090461481}, {&quot;x&quot;: 2.598921135258233, &quot;y&quot;: -0.07752170270997341, &quot;z&quot;: 0.3347350585053662}, {&quot;x&quot;: 1.7060181804702177, &quot;y&quot;: 0.22666390638351452, &quot;z&quot;: 0.07556969366423325}, {&quot;x&quot;: 2.601446808514033, &quot;y&quot;: -0.08663164414590427, &quot;z&quot;: 0.3132079512649847}, {&quot;x&quot;: 1.7154627255942074, &quot;y&quot;: 0.24317804606240007, &quot;z&quot;: 0.06175411685516652}, {&quot;x&quot;: 2.610891353638023, &quot;y&quot;: -0.07011750446701878, &quot;z&quot;: 0.299392374455918}], &quot;faces&quot;: [[0, 1, 2, 3], [1, 4, 5, 2], [4, 6, 7, 5], [6, 8, 9, 7], [8, 0, 3, 9]], &quot;color&quot;: &quot;#000000&quot;, &quot;opacity&quot;: 1.0}, {&quot;vertices&quot;: [{&quot;x&quot;: 2.4784520830140764, &quot;y&quot;: -0.5015220774469996, &quot;z&quot;: -0.4412690760432949}, {&quot;x&quot;: 2.501605733694921, &quot;y&quot;: -0.5007026813099923, &quot;z&quot;: -0.44527200679714596}, {&quot;x&quot;: 2.61982601106044, &quot;y&quot;: -0.08191870892933507, &quot;z&quot;: 0.3242594100927364}, {&quot;x&quot;: 2.5966723603795954, &quot;y&quot;: -0.0827381050663424, &quot;z&quot;: 0.3282623408465874}, {&quot;x&quot;: 2.5062788230109394, &quot;y&quot;: -0.4807723203406909, &quot;z&quot;: -0.45683614759436497}, {&quot;x&quot;: 2.6244991003764584, &quot;y&quot;: -0.06198834796003368, &quot;z&quot;: 0.31269526929551744}, {&quot;x&quot;: 2.4860133003598586, &quot;y&quot;: -0.46927407599061566, &quot;z&quot;: -0.45998024890388456}, {&quot;x&quot;: 2.6042335777253776, &quot;y&quot;: -0.05049010360995844, &quot;z&quot;: 0.30955116798599785}, {&quot;x&quot;: 2.4688154292456908, &quot;y&quot;: -0.4820981311406191, &quot;z&quot;: -0.4503592695800217}, {&quot;x&quot;: 2.5870357066112097, &quot;y&quot;: -0.06331415875996188, &quot;z&quot;: 0.31917214730986065}], &quot;faces&quot;: [[0, 1, 2, 3], [1, 4, 5, 2], [4, 6, 7, 5], [6, 8, 9, 7], [8, 0, 3, 9]], &quot;color&quot;: &quot;#000000&quot;, &quot;opacity&quot;: 1.0}, {&quot;vertices&quot;: [{&quot;x&quot;: 2.417381507671097, &quot;y&quot;: 0.713310300005501, &quot;z&quot;: 0.10099173638483017}, {&quot;x&quot;: 2.4273332021533625, &quot;y&quot;: 0.6925813940971008, &quot;z&quot;: 0.09608636776744917}, {&quot;x&quot;: 1.9483932749164343, &quot;y&quot;: 0.3277170590049366, &quot;z&quot;: 0.6662728019379405}, {&quot;x&quot;: 1.9384415804341693, &quot;y&quot;: 0.3484459649133368, &quot;z&quot;: 0.6711781705553215}, {&quot;x&quot;: 2.446016973459387, &quot;y&quot;: 0.6899892402271726, &quot;z&quot;: 0.1101214606634302}, {&quot;x&quot;: 1.9670770462224594, &quot;y&quot;: 0.32512490513500836, &quot;z&quot;: 0.6803078948339215}, {&quot;x&quot;: 2.4476124846822755, &quot;y&quot;: 0.7091161069398876, &quot;z&quot;: 0.12370099372578969}, {&quot;x&quot;: 1.9686725574453476, &quot;y&quot;: 0.3442517718477234, &quot;z&quot;: 0.693887427896281}, {&quot;x&quot;: 2.4299147935414274, &quot;y&quot;: 0.7235293145365627, &quot;z&quot;: 0.1180585138136997}, {&quot;x&quot;: 1.9509748663044997, &quot;y&quot;: 0.35866497944439846, &quot;z&quot;: 0.688244947984191}], &quot;faces&quot;: [[0, 1, 2, 3], [1, 4, 5, 2], [4, 6, 7, 5], [6, 8, 9, 7], [8, 0, 3, 9]], &quot;color&quot;: &quot;#000000&quot;, &quot;opacity&quot;: 1.0}, {&quot;vertices&quot;: [{&quot;x&quot;: 1.1267981506014877, &quot;y&quot;: 0.5105476461628613, &quot;z&quot;: 0.43120776590358434}, {&quot;x&quot;: 1.1191755400843144, &quot;y&quot;: 0.5015458151508179, &quot;z&quot;: 0.45154613486066}, {&quot;x&quot;: 1.951566778979984, &quot;y&quot;: 0.351029460959524, &quot;z&quot;: 0.6968987212731477}, {&quot;x&quot;: 1.959189389497157, &quot;y&quot;: 0.36003129197156747, &quot;z&quot;: 0.6765603523160721}, {&quot;x&quot;: 1.1158993316385115, &quot;y&quot;: 0.4784637890354061, &quot;z&quot;: 0.44850098574655384}, {&quot;x&quot;: 1.948290570534181, &quot;y&quot;: 0.3279474348441122, &quot;z&quot;: 0.6938535721590415}, {&quot;x&quot;: 1.1214971339819488, &quot;y&quot;: 0.47320014337891236, &quot;z&quot;: 0.426280611136149}, {&quot;x&quot;: 1.9538883728776184, &quot;y&quot;: 0.32268378918761853, &quot;z&quot;: 0.6716331975486367}, {&quot;x&quot;: 1.1282329745383, &quot;y&quot;: 0.4930290575738753, &quot;z&quot;: 0.41559281349826976}, {&quot;x&quot;: 1.9606242134339695, &quot;y&quot;: 0.34251270338258144, &quot;z&quot;: 0.6609453999107575}], &quot;faces&quot;: [[0, 1, 2, 3], [1, 4, 5, 2], [4, 6, 7, 5], [6, 8, 9, 7], [8, 0, 3, 9]], &quot;color&quot;: &quot;#000000&quot;, &quot;opacity&quot;: 1.0}, {&quot;vertices&quot;: [{&quot;x&quot;: 1.85836980531098, &quot;y&quot;: -0.19558800560377354, &quot;z&quot;: -0.081832675488691}, {&quot;x&quot;: 1.8806209348583656, &quot;y&quot;: -0.19075262498940848, &quot;z&quot;: -0.08768867520519807}, {&quot;x&quot;: 1.970825972224513, &quot;y&quot;: 0.3302316014593002, &quot;z&quot;: 0.6852486916566847}, {&quot;x&quot;: 1.9485748426771274, &quot;y&quot;: 0.32539622084493514, &quot;z&quot;: 0.6911046913731917}, {&quot;x&quot;: 1.8806029160090847, &quot;y&quot;: -0.17125550454234728, &quot;z&quot;: -0.10082824803287793}, {&quot;x&quot;: 1.970807953375232, &quot;y&quot;: 0.34972872190636134, &quot;z&quot;: 0.6721091188290048}, {&quot;x&quot;: 1.8583406502004054, &quot;y&quot;: -0.16404100203767802, &quot;z&quot;: -0.10309295092153148}, {&quot;x&quot;: 1.9485456875665528, &quot;y&quot;: 0.3569432244110306, &quot;z&quot;: 0.6698444159403513}, {&quot;x&quot;: 1.844599832113338, &quot;y&quot;: -0.17907931472493233, &quot;z&quot;: -0.09135304145345968}, {&quot;x&quot;: 1.9348048694794853, &quot;y&quot;: 0.3419049117237763, &quot;z&quot;: 0.6815843254084231}], &quot;faces&quot;: [[0, 1, 2, 3], [1, 4, 5, 2], [4, 6, 7, 5], [6, 8, 9, 7], [8, 0, 3, 9]], &quot;color&quot;: &quot;#000000&quot;, &quot;opacity&quot;: 1.0}, {&quot;vertices&quot;: [{&quot;x&quot;: 1.629771176255432, &quot;y&quot;: 0.9659051275903904, &quot;z&quot;: -0.12597856897027035}, {&quot;x&quot;: 1.6219596107711145, &quot;y&quot;: 0.9601030879461163, &quot;z&quot;: -0.10457524714512992}, {&quot;x&quot;: 2.4327667620037037, &quot;y&quot;: 0.7178335799740158, &quot;z&quot;: 0.12567012819492207}, {&quot;x&quot;: 2.4405783274880215, &quot;y&quot;: 0.7236356196182898, &quot;z&quot;: 0.10426680636978164}, {&quot;x&quot;: 1.615371127077292, &quot;y&quot;: 0.9375401377486479, &quot;z&quot;: -0.105115215202361}, {&quot;x&quot;: 2.426178278309881, &quot;y&quot;: 0.6952706297765473, &quot;z&quot;: 0.125130160137691}, {&quot;x&quot;: 1.6191107857045024, &quot;y&quot;: 0.9293975072844153, &quot;z&quot;: -0.1268522556397095}, {&quot;x&quot;: 2.4299179369370916, &quot;y&quot;: 0.6871279993123147, &quot;z&quot;: 0.10339311970034248}, {&quot;x&quot;: 1.628010505536263, &quot;y&quot;: 0.9469280350971576, &quot;z&quot;: -0.13974651738759067}, {&quot;x&quot;: 2.4388176567688524, &quot;y&quot;: 0.7046585271250572, &quot;z&quot;: 0.09049885795246132}], &quot;faces&quot;: [[0, 1, 2, 3], [1, 4, 5, 2], [4, 6, 7, 5], [6, 8, 9, 7], [8, 0, 3, 9]], &quot;color&quot;: &quot;#000000&quot;, &quot;opacity&quot;: 1.0}, {&quot;vertices&quot;: [{&quot;x&quot;: 2.3539310045638198, &quot;y&quot;: 0.24491965162917728, &quot;z&quot;: -0.6146803390035732}, {&quot;x&quot;: 2.3761404252641816, &quot;y&quot;: 0.2503281527834232, &quot;z&quot;: -0.6201827159371256}, {&quot;x&quot;: 2.4498826257766866, &quot;y&quot;: 0.6950576965470838, &quot;z&quot;: 0.1146073310099953}, {&quot;x&quot;: 2.427673205076325, &quot;y&quot;: 0.6896491953928379, &quot;z&quot;: 0.1201097079435477}, {&quot;x&quot;: 2.375919385767589, &quot;y&quot;: 0.2704512401566892, &quot;z&quot;: -0.6323399730541274}, {&quot;x&quot;: 2.449661586280094, &quot;y&quot;: 0.7151807839203499, &quot;z&quot;: 0.10245007389299353}, {&quot;x&quot;: 2.3535733551454765, &quot;y&quot;: 0.2774794909577055, &quot;z&quot;: -0.6343511942288537}, {&quot;x&quot;: 2.4273155556579815, &quot;y&quot;: 0.7222090347213661, &quot;z&quot;: 0.10043885271826725}, {&quot;x&quot;: 2.339983788203958, &quot;y&quot;: 0.26170010146092626, &quot;z&quot;: -0.6234369401567262}, {&quot;x&quot;: 2.413725988716463, &quot;y&quot;: 0.7064296452245868, &quot;z&quot;: 0.1113531067903947}], &quot;faces&quot;: [[0, 1, 2, 3], [1, 4, 5, 2], [4, 6, 7, 5], [6, 8, 9, 7], [8, 0, 3, 9]], &quot;color&quot;: &quot;#000000&quot;, &quot;opacity&quot;: 1.0}, {&quot;vertices&quot;: [{&quot;x&quot;: 1.6950786726477753, &quot;y&quot;: 0.24621234280066873, &quot;z&quot;: 0.06912025949926037}, {&quot;x&quot;: 1.7123858126430567, &quot;y&quot;: 0.2303511507329694, &quot;z&quot;: 0.06782724137281126}, {&quot;x&quot;: 1.266537075527673, &quot;y&quot;: -0.30069877863022565, &quot;z&quot;: 0.6143922142345581}, {&quot;x&quot;: 1.2492299355323917, &quot;y&quot;: -0.28483758656252633, &quot;z&quot;: 0.6156852323610073}, {&quot;x&quot;: 1.7278119732715216, &quot;y&quot;: 0.2350183934139659, &quot;z&quot;: 0.08494555958814787}, {&quot;x&quot;: 1.281963236156138, &quot;y&quot;: -0.2960315359492291, &quot;z&quot;: 0.6315105324498947}, {&quot;x&quot;: 1.7200387248605469, &quot;y&quot;: 0.25376410009226524, &quot;z&quot;: 0.09681828020191141}, {&quot;x&quot;: 1.2741899877451632, &quot;y&quot;: -0.2772858292709298, &quot;z&quot;: 0.6433832530636583}, {&quot;x&quot;: 1.6998084325111036, &quot;y&quot;: 0.2606823412815936, &quot;z&quot;: 0.08703770686481227}, {&quot;x&quot;: 1.25395969539572, &quot;y&quot;: -0.2703675880816015, &quot;z&quot;: 0.6336026797265591}], &quot;faces&quot;: [[0, 1, 2, 3], [1, 4, 5, 2], [4, 6, 7, 5], [6, 8, 9, 7], [8, 0, 3, 9]], &quot;color&quot;: &quot;#000000&quot;, &quot;opacity&quot;: 1.0}, {&quot;vertices&quot;: [{&quot;x&quot;: 1.1267207038467957, &quot;y&quot;: 0.4874187610296459, &quot;z&quot;: 0.41551735764890635}, {&quot;x&quot;: 1.141932272501884, &quot;y&quot;: 0.49432494034299257, &quot;z&quot;: 0.4320612166559059}, {&quot;x&quot;: 1.2847876324043885, &quot;y&quot;: -0.2828766136162844, &quot;z&quot;: 0.625150336793998}, {&quot;x&quot;: 1.2695760637493003, &quot;y&quot;: -0.28978279292963116, &quot;z&quot;: 0.6086064777869984}, {&quot;x&quot;: 1.1300412125001478, &quot;y&quot;: 0.4971299281088776, &quot;z&quot;: 0.45214905228268243}, {&quot;x&quot;: 1.2728965724026524, &quot;y&quot;: -0.2800716258503994, &quot;z&quot;: 0.6452381724207744}, {&quot;x&quot;: 1.1074805646017223, &quot;y&quot;: 0.4919573265728755, &quot;z&quot;: 0.4480201584534517}, {&quot;x&quot;: 1.250335924504227, &quot;y&quot;: -0.28524422738640154, &quot;z&quot;: 0.6411092785915438}, {&quot;x&quot;: 1.1054283773940126, &quot;y&quot;: 0.48595549524748116, &quot;z&quot;: 0.425380526104271}, {&quot;x&quot;: 1.2482837372965172, &quot;y&quot;: -0.2912460587117958, &quot;z&quot;: 0.618469646242363}], &quot;faces&quot;: [[0, 1, 2, 3], [1, 4, 5, 2], [4, 6, 7, 5], [6, 8, 9, 7], [8, 0, 3, 9]], &quot;color&quot;: &quot;#000000&quot;, &quot;opacity&quot;: 1.0}, {&quot;vertices&quot;: [{&quot;x&quot;: 1.1874933307211193, &quot;y&quot;: -0.750243213830893, &quot;z&quot;: -0.0939459959952631}, {&quot;x&quot;: 1.2096290874331292, &quot;y&quot;: -0.7446412701802338, &quot;z&quot;: -0.09955071781008873}, {&quot;x&quot;: 1.2815274508971024, &quot;y&quot;: -0.29631092383576735, &quot;z&quot;: 0.6325188039775925}, {&quot;x&quot;: 1.2593916941850924, &quot;y&quot;: -0.30191286748642654, &quot;z&quot;: 0.6381235257924182}, {&quot;x&quot;: 1.2091676755218905, &quot;y&quot;: -0.724574757969121, &quot;z&quot;: -0.11179443420787694}, {&quot;x&quot;: 1.2810660389858637, &quot;y&quot;: -0.2762444116246545, &quot;z&quot;: 0.6202750875798043}, {&quot;x&quot;: 1.186746750565921, &quot;y&quot;: -0.7177749150376476, &quot;z&quot;: -0.11375674527549884}, {&quot;x&quot;: 1.2586451140298942, &quot;y&quot;: -0.2694445686931812, &quot;z&quot;: 0.6183127765121824}, {&quot;x&quot;: 1.1733512687951597, &quot;y&quot;: -0.7336388931989493, &quot;z&quot;: -0.1027258038140011}, {&quot;x&quot;: 1.2452496322591329, &quot;y&quot;: -0.28530854685448276, &quot;z&quot;: 0.6293437179736802}], &quot;faces&quot;: [[0, 1, 2, 3], [1, 4, 5, 2], [4, 6, 7, 5], [6, 8, 9, 7], [8, 0, 3, 9]], &quot;color&quot;: &quot;#000000&quot;, &quot;opacity&quot;: 1.0}, {&quot;vertices&quot;: [{&quot;x&quot;: 1.6259916105265155, &quot;y&quot;: 0.9428943654763073, &quot;z&quot;: -0.13953983814632198}, {&quot;x&quot;: 1.6424626980191424, &quot;y&quot;: 0.9493977907840934, &quot;z&quot;: -0.12407390330305049}, {&quot;x&quot;: 1.7306427801370223, &quot;y&quot;: 0.24662867731504046, &quot;z&quot;: 0.07752946707135047}, {&quot;x&quot;: 1.7141716926443955, &quot;y&quot;: 0.24012525200725435, &quot;z&quot;: 0.062063532228078984}, {&quot;x&quot;: 1.6318222975997942, &quot;y&quot;: 0.953934662356933, &quot;z&quot;: -0.10360477826685183}, {&quot;x&quot;: 1.7200023797176742, &quot;y&quot;: 0.25116554888788006, &quot;z&quot;: 0.09799859210754915}, {&quot;x&quot;: 1.6087750809941013, &quot;y&quot;: 0.950235177883755, &quot;z&quot;: -0.10642009811778111}, {&quot;x&quot;: 1.6969551631119812, &quot;y&quot;: 0.247466064414702, &quot;z&quot;: 0.09518327225661985}, {&quot;x&quot;: 1.6051715182050506, &quot;y&quot;: 0.9434118991656388, &quot;z&quot;: -0.12862918651105637}, {&quot;x&quot;: 1.6933516003229305, &quot;y&quot;: 0.2406427856965859, &quot;z&quot;: 0.0729741838633446}], &quot;faces&quot;: [[0, 1, 2, 3], [1, 4, 5, 2], [4, 6, 7, 5], [6, 8, 9, 7], [8, 0, 3, 9]], &quot;color&quot;: &quot;#000000&quot;, &quot;opacity&quot;: 1.0}, {&quot;vertices&quot;: [{&quot;x&quot;: 1.6490095065733101, &quot;y&quot;: -0.33896629627250796, &quot;z&quot;: -0.6808393424373992}, {&quot;x&quot;: 1.670205711071091, &quot;y&quot;: -0.3315956920992006, &quot;z&quot;: -0.6878522957032293}, {&quot;x&quot;: 1.7285552484079376, &quot;y&quot;: 0.23686405658832196, &quot;z&quot;: 0.08595587270667612}, {&quot;x&quot;: 1.7073590439101567, &quot;y&quot;: 0.2294934524150146, &quot;z&quot;: 0.09296882597250618}, {&quot;x&quot;: 1.6671753255538981, &quot;y&quot;: -0.3126972677037665, &quot;z&quot;: -0.7015070649611586}, {&quot;x&quot;: 1.7255248628907447, &quot;y&quot;: 0.2557624809837561, &quot;z&quot;: 0.07230110344874685}, {&quot;x&quot;: 1.6441062398074766, &quot;y&quot;: -0.3083880032668753, &quot;z&quot;: -0.702933223205266}, {&quot;x&quot;: 1.7024557771443232, &quot;y&quot;: 0.2600717454206472, &quot;z&quot;: 0.07087494520463944}, {&quot;x&quot;: 1.632879146243995, &quot;y&quot;: -0.32462315577379963, &quot;z&quot;: -0.6901598682155309}, {&quot;x&quot;: 1.6912286835808417, &quot;y&quot;: 0.24383659291372295, &quot;z&quot;: 0.08364830019437446}], &quot;faces&quot;: [[0, 1, 2, 3], [1, 4, 5, 2], [4, 6, 7, 5], [6, 8, 9, 7], [8, 0, 3, 9]], &quot;color&quot;: &quot;#000000&quot;, &quot;opacity&quot;: 1.0}, {&quot;vertices&quot;: [{&quot;x&quot;: 1.606575745668341, &quot;y&quot;: 0.9531330094211892, &quot;z&quot;: -0.13088024311901691}, {&quot;x&quot;: 1.6198779796781952, &quot;y&quot;: 0.9340961209695431, &quot;z&quot;: -0.1345454652032425}, {&quot;x&quot;: 1.119353964778187, &quot;y&quot;: 0.47747863209657204, &quot;z&quot;: 0.4205337578948132}, {&quot;x&quot;: 1.1060517307683326, &quot;y&quot;: 0.49651552054821824, &quot;z&quot;: 0.42419897997903877}, {&quot;x&quot;: 1.6372800388969204, &quot;y&quot;: 0.9342390663820308, &quot;z&quot;: -0.11873615446377384}, {&quot;x&quot;: 1.1367560239969121, &quot;y&quot;: 0.47762157750905976, &quot;z&quot;: 0.43634306863428185}, {&quot;x&quot;: 1.6347328689584764, &quot;y&quot;: 0.9533642999571301, &quot;z&quot;: -0.10530024100384794}, {&quot;x&quot;: 1.134208854058468, &quot;y&quot;: 0.4967468110841592, &quot;z&quot;: 0.44977898209420775}, {&quot;x&quot;: 1.6157565721426712, &quot;y&quot;: 0.9650413989368346, &quot;z&quot;: -0.11280570055518013}, {&quot;x&quot;: 1.1152325572426627, &quot;y&quot;: 0.5084239100638636, &quot;z&quot;: 0.44227352254287555}], &quot;faces&quot;: [[0, 1, 2, 3], [1, 4, 5, 2], [4, 6, 7, 5], [6, 8, 9, 7], [8, 0, 3, 9]], &quot;color&quot;: &quot;#000000&quot;, &quot;opacity&quot;: 1.0}, {&quot;vertices&quot;: [{&quot;x&quot;: 0.9910772551885104, &quot;y&quot;: 0.007520190108172176, &quot;z&quot;: -0.2736200711205862}, {&quot;x&quot;: 1.0140533428481793, &quot;y&quot;: 0.008883424334522994, &quot;z&quot;: -0.27841875769082236}, {&quot;x&quot;: 1.1363739690170918, &quot;y&quot;: 0.4784665287409874, &quot;z&quot;: 0.4406532506557542}, {&quot;x&quot;: 1.113397881357423, &quot;y&quot;: 0.47710329451463657, &quot;z&quot;: 0.4454519372259904}, {&quot;x&quot;: 1.0176081883472197, &quot;y&quot;: 0.028061252839797657, &quot;z&quot;: -0.2915473665965773}, {&quot;x&quot;: 1.139928814516132, &quot;y&quot;: 0.49764435724626205, &quot;z&quot;: 0.4275246417499992}, {&quot;x&quot;: 0.9968291160307123, &quot;y&quot;: 0.03855056846012317, &quot;z&quot;: -0.2948626065551023}, {&quot;x&quot;: 1.1191497421996248, &quot;y&quot;: 0.5081336728665875, &quot;z&quot;: 0.4242094017914742}, {&quot;x&quot;: 0.9804320975853784, &quot;y&quot;: 0.025855493526934836, &quot;z&quot;: -0.28378292862457755}, {&quot;x&quot;: 1.102752723754291, &quot;y&quot;: 0.4954385979333992, &quot;z&quot;: 0.43528907972199904}], &quot;faces&quot;: [[0, 1, 2, 3], [1, 4, 5, 2], [4, 6, 7, 5], [6, 8, 9, 7], [8, 0, 3, 9]], &quot;color&quot;: &quot;#000000&quot;, &quot;opacity&quot;: 1.0}, {&quot;vertices&quot;: [{&quot;x&quot;: 1.5372584783194694, &quot;y&quot;: 0.41958373120336245, &quot;z&quot;: -0.8168376568385153}, {&quot;x&quot;: 1.5592659465499081, &quot;y&quot;: 0.4248989513136783, &quot;z&quot;: -0.8231784913076663}, {&quot;x&quot;: 1.6393478842669895, &quot;y&quot;: 0.9380218246161787, &quot;z&quot;: -0.11510737902356334}, {&quot;x&quot;: 1.6173404160365508, &quot;y&quot;: 0.9327066045058628, &quot;z&quot;: -0.10876654455441238}, {&quot;x&quot;: 1.5584664936052213, &quot;y&quot;: 0.4439688162782368, &quot;z&quot;: -0.8369075673771902}, {&quot;x&quot;: 1.6385484313223027, &quot;y&quot;: 0.9570916895807372, &quot;z&quot;: -0.12883645509308725}, {&quot;x&quot;: 1.53596493628256, &quot;y&quot;: 0.4504394208768891, &quot;z&quot;: -0.8390517685531378}, {&quot;x&quot;: 1.6160468739996414, &quot;y&quot;: 0.9635622941793894, &quot;z&quot;: -0.13098065626903488}, {&quot;x&quot;: 1.5228576620020382, &quot;y&quot;: 0.4353686094820589, &quot;z&quot;: -0.826647881689067}, {&quot;x&quot;: 1.6029395997191196, &quot;y&quot;: 0.9484914827845593, &quot;z&quot;: -0.1185767694049641}], &quot;faces&quot;: [[0, 1, 2, 3], [1, 4, 5, 2], [4, 6, 7, 5], [6, 8, 9, 7], [8, 0, 3, 9]], &quot;color&quot;: &quot;#000000&quot;, &quot;opacity&quot;: 1.0}, {&quot;vertices&quot;: [{&quot;x&quot;: 2.4719620839534384, &quot;y&quot;: -0.48055755549123796, &quot;z&quot;: -0.46050855431002935}, {&quot;x&quot;: 2.483825642462018, &quot;y&quot;: -0.5003966436440845, &quot;z&quot;: -0.4648042457883743}, {&quot;x&quot;: 1.9873549842998783, &quot;y&quot;: -0.9179222343363264, &quot;z&quot;: 0.0923629322965817}, {&quot;x&quot;: 1.9754914257912985, &quot;y&quot;: -0.8980831461834798, &quot;z&quot;: 0.09665862377492658}, {&quot;x&quot;: 2.50178012136657, &quot;y&quot;: -0.5015477006170839, &quot;z&quot;: -0.4496682569005954}, {&quot;x&quot;: 2.00530946320443, &quot;y&quot;: -0.9190732913093257, &quot;z&quot;: 0.1074989211843606}, {&quot;x&quot;: 2.5010130410712956, &quot;y&quot;: -0.48242000479653835, &quot;z&quot;: -0.4360180098362624}, {&quot;x&quot;: 2.0045423829091558, &quot;y&quot;: -0.8999455954887802, &quot;z&quot;: 0.12114916824869355}, {&quot;x&quot;: 2.4825844804721644, &quot;y&quot;: -0.46944738167997263, &quot;z&quot;: -0.4427176820834501}, {&quot;x&quot;: 1.9861138223100245, &quot;y&quot;: -0.8869729723722145, &quot;z&quot;: 0.1144494960015059}], &quot;faces&quot;: [[0, 1, 2, 3], [1, 4, 5, 2], [4, 6, 7, 5], [6, 8, 9, 7], [8, 0, 3, 9]], &quot;color&quot;: &quot;#000000&quot;, &quot;opacity&quot;: 1.0}, {&quot;vertices&quot;: [{&quot;x&quot;: 1.8688077621037082, &quot;y&quot;: -0.18462141566370915, &quot;z&quot;: -0.11197091343231425}, {&quot;x&quot;: 1.8841383096440212, &quot;y&quot;: -0.17743667550305575, &quot;z&quot;: -0.0956571086817927}, {&quot;x&quot;: 2.011393897648544, &quot;y&quot;: -0.9016928330614531, &quot;z&quot;: 0.10372583783977252}, {&quot;x&quot;: 1.996063350108231, &quot;y&quot;: -0.9088775732221065, &quot;z&quot;: 0.08741203308925098}, {&quot;x&quot;: 1.8723388163850636, &quot;y&quot;: -0.17399238510736903, &quot;z&quot;: -0.07561477281488249}, {&quot;x&quot;: 1.9995944043895864, &quot;y&quot;: -0.8982485426657664, &quot;z&quot;: 0.12376817370668271}, {&quot;x&quot;: 1.8497157809606894, &quot;y&quot;: -0.17904843673636328, &quot;z&quot;: -0.07954173278571247}, {&quot;x&quot;: 1.9769713689652122, &quot;y&quot;: -0.9033045942947606, &quot;z&quot;: 0.11984121373585276}, {&quot;x&quot;: 1.847533469398691, &quot;y&quot;: -0.18561753888764254, &quot;z&quot;: -0.10201106338705584}, {&quot;x&quot;: 1.9747890574032136, &quot;y&quot;: -0.9098736964460399, &quot;z&quot;: 0.09737188313450935}], &quot;faces&quot;: [[0, 1, 2, 3], [1, 4, 5, 2], [4, 6, 7, 5], [6, 8, 9, 7], [8, 0, 3, 9]], &quot;color&quot;: &quot;#000000&quot;, &quot;opacity&quot;: 1.0}, {&quot;vertices&quot;: [{&quot;x&quot;: 1.198375452886719, &quot;y&quot;: -0.7152613900802685, &quot;z&quot;: -0.10839234230729483}, {&quot;x&quot;: 1.191131714966677, &quot;y&quot;: -0.7234817789503482, &quot;z&quot;: -0.08758994167009776}, {&quot;x&quot;: 1.9896165080621904, &quot;y&quot;: -0.8937066168450044, &quot;z&quot;: 0.12318862605166161}, {&quot;x&quot;: 1.9968602459822324, &quot;y&quot;: -0.8854862279749248, &quot;z&quot;: 0.10238622541446454}, {&quot;x&quot;: 1.1868535484694567, &quot;y&quot;: -0.7464792969550209, &quot;z&quot;: -0.08995592170950198}, {&quot;x&quot;: 1.9853383415649701, &quot;y&quot;: -0.9167041348496772, &quot;z&quot;: 0.1208226460122574}, {&quot;x&quot;: 1.1914532340846857, &quot;y&quot;: -0.7524721558687166, &quot;z&quot;: -0.11222057842775468}, {&quot;x&quot;: 1.9899380271801992, &quot;y&quot;: -0.922696993763373, &quot;z&quot;: 0.09855798929400471}, {&quot;x&quot;: 1.1985741626296815, &quot;y&quot;: -0.7331784283624907, &quot;z&quot;: -0.1236149129880793}, {&quot;x&quot;: 1.9970589557251948, &quot;y&quot;: -0.903403266257147, &quot;z&quot;: 0.08716365473368007}], &quot;faces&quot;: [[0, 1, 2, 3], [1, 4, 5, 2], [4, 6, 7, 5], [6, 8, 9, 7], [8, 0, 3, 9]], &quot;color&quot;: &quot;#000000&quot;, &quot;opacity&quot;: 1.0}, {&quot;vertices&quot;: [{&quot;x&quot;: 2.363989392167122, &quot;y&quot;: 0.25719927612895677, &quot;z&quot;: -0.6442100425076841}, {&quot;x&quot;: 2.379525659994588, &quot;y&quot;: 0.2636888605119414, &quot;z&quot;: -0.6277997993336965}, {&quot;x&quot;: 2.5078491420706803, &quot;y&quot;: -0.4841607241314265, &quot;z&quot;: -0.45354491664135754}, {&quot;x&quot;: 2.4923128742432143, &quot;y&quot;: -0.4906503085144112, &quot;z&quot;: -0.46995515981534525}, {&quot;x&quot;: 2.3679531882875744, &quot;y&quot;: 0.26642898714688745, &quot;z&quot;: -0.6075178859842398}, {&quot;x&quot;: 2.4962766703636667, &quot;y&quot;: -0.4814205974964804, &quot;z&quot;: -0.433263003291901}, {&quot;x&quot;: 2.345264739611327, &quot;y&quot;: 0.26163289415777835, &quot;z&quot;: -0.6113932173513832}, {&quot;x&quot;: 2.4735882216874194, &quot;y&quot;: -0.4862166904855896, &quot;z&quot;: -0.4371383346590443}, {&quot;x&quot;: 2.342814978884413, &quot;y&quot;: 0.25592861904235775, &quot;z&quot;: -0.634070217203403}, {&quot;x&quot;: 2.471138460960505, &quot;y&quot;: -0.4919209656010102, &quot;z&quot;: -0.459815334511064}], &quot;faces&quot;: [[0, 1, 2, 3], [1, 4, 5, 2], [4, 6, 7, 5], [6, 8, 9, 7], [8, 0, 3, 9]], &quot;color&quot;: &quot;#000000&quot;, &quot;opacity&quot;: 1.0}, {&quot;vertices&quot;: [{&quot;x&quot;: 1.6574778435317405, &quot;y&quot;: -0.3041945442130927, &quot;z&quot;: -0.6963554468851387}, {&quot;x&quot;: 1.6498550398281642, &quot;y&quot;: -0.31279676274215074, &quot;z&quot;: -0.6758449348346044}, {&quot;x&quot;: 2.4854129278433073, &quot;y&quot;: -0.47641653696470454, &quot;z&quot;: -0.4339299257138299}, {&quot;x&quot;: 2.4930357315468834, &quot;y&quot;: -0.4678143184356465, &quot;z&quot;: -0.4544404377643642}, {&quot;x&quot;: 1.6461295820734638, &quot;y&quot;: -0.3358506424684164, &quot;z&quot;: -0.6785700033814236}, {&quot;x&quot;: 2.4816874700886067, &quot;y&quot;: -0.4994704166909702, &quot;z&quot;: -0.4366549942606491}, {&quot;x&quot;: 1.6514499262609839, &quot;y&quot;: -0.34149650518274266, &quot;z&quot;: -0.7007647004155655}, {&quot;x&quot;: 2.4870078142761267, &quot;y&quot;: -0.5051162794052965, &quot;z&quot;: -0.458849691294791}, {&quot;x&quot;: 1.658463537555419, &quot;y&quot;: -0.3219319605097464, &quot;z&quot;: -0.7117567090058525}, {&quot;x&quot;: 2.494021425570562, &quot;y&quot;: -0.4855517347323002, &quot;z&quot;: -0.46984169988507796}], &quot;faces&quot;: [[0, 1, 2, 3], [1, 4, 5, 2], [4, 6, 7, 5], [6, 8, 9, 7], [8, 0, 3, 9]], &quot;color&quot;: &quot;#000000&quot;, &quot;opacity&quot;: 1.0}, {&quot;vertices&quot;: [{&quot;x&quot;: 2.3437616704706015, &quot;y&quot;: 0.2665972141807795, &quot;z&quot;: -0.635373372159045}, {&quot;x&quot;: 2.356693262235253, &quot;y&quot;: 0.24735527655275658, &quot;z&quot;: -0.6392859384845802}, {&quot;x&quot;: 1.8612904981446827, &quot;y&quot;: -0.19376374122445578, &quot;z&quot;: -0.1072468242288504}, {&quot;x&quot;: 1.8483589063800312, &quot;y&quot;: -0.1745218035964329, &quot;z&quot;: -0.10333425790331524}, {&quot;x&quot;: 2.374069712124169, &quot;y&quot;: 0.2469363390501883, &quot;z&quot;: -0.6234533807276359}, {&quot;x&quot;: 1.878666948033599, &quot;y&quot;: -0.19418267872702405, &quot;z&quot;: -0.09141426647190615}, {&quot;x&quot;: 2.371877356994677, &quot;y&quot;: 0.265919359062462, &quot;z&quot;: -0.6097557555794634}, {&quot;x&quot;: 1.8764745929041065, &quot;y&quot;: -0.17519965871475038, &quot;z&quot;: -0.07771664132373364}, {&quot;x&quot;: 2.3531459571203244, &quot;y&quot;: 0.2780704481417348, &quot;z&quot;: -0.6171227154296817}, {&quot;x&quot;: 1.857743193029754, &quot;y&quot;: -0.1630485696354775, &quot;z&quot;: -0.08508360117395197}], &quot;faces&quot;: [[0, 1, 2, 3], [1, 4, 5, 2], [4, 6, 7, 5], [6, 8, 9, 7], [8, 0, 3, 9]], &quot;color&quot;: &quot;#000000&quot;, &quot;opacity&quot;: 1.0}, {&quot;vertices&quot;: [{&quot;x&quot;: 1.005363594454157, &quot;y&quot;: 0.04052144449776962, &quot;z&quot;: -0.28889293445822406}, {&quot;x&quot;: 0.9988383638267972, &quot;y&quot;: 0.03266848882919604, &quot;z&quot;: -0.26771419849435635}, {&quot;x&quot;: 1.863345191525232, &quot;y&quot;: -0.16924898740434216, &quot;z&quot;: -0.07622697059717463}, {&quot;x&quot;: 1.869870422152592, &quot;y&quot;: -0.16139603173576855, &quot;z&quot;: -0.09740570656104235}, {&quot;x&quot;: 0.9939184749082421, &quot;y&quot;: 0.009759976732516357, &quot;z&quot;: -0.26965872184093825}, {&quot;x&quot;: 1.8584253026066768, &quot;y&quot;: -0.19215749950102184, &quot;z&quot;: -0.07817149394375655}, {&quot;x&quot;: 0.9974030469630611, &quot;y&quot;: 0.0034546932936538044, &quot;z&quot;: -0.29203923932491127}, {&quot;x&quot;: 1.8619098746614957, &quot;y&quot;: -0.1984627829398844, &quot;z&quot;: -0.10055201142772958}, {&quot;x&quot;: 1.0044765198477423, &quot;y&quot;: 0.022466325916414592, &quot;z&quot;: -0.30392663646923596}, {&quot;x&quot;: 1.868983347546177, &quot;y&quot;: -0.1794511503171236, &quot;z&quot;: -0.11243940857205428}], &quot;faces&quot;: [[0, 1, 2, 3], [1, 4, 5, 2], [4, 6, 7, 5], [6, 8, 9, 7], [8, 0, 3, 9]], &quot;color&quot;: &quot;#000000&quot;, &quot;opacity&quot;: 1.0}, {&quot;vertices&quot;: [{&quot;x&quot;: 1.5477977138725247, &quot;y&quot;: 0.4537805337188098, &quot;z&quot;: -0.8325688931441092}, {&quot;x&quot;: 1.5408353730271243, &quot;y&quot;: 0.44548975309373817, &quot;z&quot;: -0.8116984554132074}, {&quot;x&quot;: 2.3579822614642896, &quot;y&quot;: 0.2716135746604774, &quot;z&quot;: -0.6081720147361733}, {&quot;x&quot;: 2.3649446023096905, &quot;y&quot;: 0.27990435528554897, &quot;z&quot;: -0.629042452467075}, {&quot;x&quot;: 1.5365365371829318, &quot;y&quot;: 0.42249782911847844, &quot;z&quot;: -0.814081278696752}, {&quot;x&quot;: 2.353683425620097, &quot;y&quot;: 0.2486216506852176, &quot;z&quot;: -0.6105548380197179}, {&quot;x&quot;: 1.540842051364565, &quot;y&quot;: 0.41657881926008583, &quot;z&quot;: -0.8364243822060689}, {&quot;x&quot;: 2.3579889398017304, &quot;y&quot;: 0.24270264082682502, &quot;z&quot;: -0.6328979415290348}, {&quot;x&quot;: 1.5478018413120513, &quot;y&quot;: 0.4359125939631133, &quot;z&quot;: -0.8478503563054391}, {&quot;x&quot;: 2.364948729749217, &quot;y&quot;: 0.26203641552985246, &quot;z&quot;: -0.6443239156284051}], &quot;faces&quot;: [[0, 1, 2, 3], [1, 4, 5, 2], [4, 6, 7, 5], [6, 8, 9, 7], [8, 0, 3, 9]], &quot;color&quot;: &quot;#000000&quot;, &quot;opacity&quot;: 1.0}, {&quot;vertices&quot;: [{&quot;x&quot;: 1.6358752534007586, &quot;y&quot;: -0.3182812352074957, &quot;z&quot;: -0.7023037232990859}, {&quot;x&quot;: 1.648642249951778, &quot;y&quot;: -0.3376950737668533, &quot;z&quot;: -0.7058944162624986}, {&quot;x&quot;: 1.1892446867092679, &quot;y&quot;: -0.7486156007869924, &quot;z&quot;: -0.11759079677852745}, {&quot;x&quot;: 1.1764776901582485, &quot;y&quot;: -0.7292017622276349, &quot;z&quot;: -0.11400010381511472}, {&quot;x&quot;: 1.666982626839627, &quot;y&quot;: -0.33715195394974584, &quot;z&quot;: -0.6911933278342237}, {&quot;x&quot;: 1.207585063597117, &quot;y&quot;: -0.748072480969885, &quot;z&quot;: -0.10288970835025259}, {&quot;x&quot;: 1.6655506065717816, &quot;y&quot;: -0.31740244888345215, &quot;z&quot;: -0.6785168625505194}, {&quot;x&quot;: 1.2061530433292715, &quot;y&quot;: -0.7283229759035913, &quot;z&quot;: -0.09021324306654822}, {&quot;x&quot;: 1.646325192485825, &quot;y&quot;: -0.3057397033086019, &quot;z&quot;: -0.6853834645762569}, {&quot;x&quot;: 1.186927629243315, &quot;y&quot;: -0.716660230328741, &quot;z&quot;: -0.09707984509228572}], &quot;faces&quot;: [[0, 1, 2, 3], [1, 4, 5, 2], [4, 6, 7, 5], [6, 8, 9, 7], [8, 0, 3, 9]], &quot;color&quot;: &quot;#000000&quot;, &quot;opacity&quot;: 1.0}, {&quot;vertices&quot;: [{&quot;x&quot;: 1.0058791931546422, &quot;y&quot;: 0.01877944426850675, &quot;z&quot;: -0.3033266694910103}, {&quot;x&quot;: 1.0194083051698908, &quot;y&quot;: 0.02644020477053921, &quot;z&quot;: -0.2856897116720044}, {&quot;x&quot;: 1.2126859277773347, &quot;y&quot;: -0.7295085911267396, &quot;z&quot;: -0.10559810497501693}, {&quot;x&quot;: 1.199156815762086, &quot;y&quot;: -0.7371693516287721, &quot;z&quot;: -0.12323506279402285}, {&quot;x&quot;: 1.0061157991043808, &quot;y&quot;: 0.027652685721939907, &quot;z&quot;: -0.2663344649171601}, {&quot;x&quot;: 1.1993934217118247, &quot;y&quot;: -0.7282961101753389, &quot;z&quot;: -0.08624285822017268}, {&quot;x&quot;: 0.9843714665449826, &quot;y&quot;: 0.020741279658584855, &quot;z&quot;: -0.2720092223810312}, {&quot;x&quot;: 1.1776490891524265, &quot;y&quot;: -0.735207516238694, &quot;z&quot;: -0.09191761568404375}, {&quot;x&quot;: 0.9842252360261037, &quot;y&quot;: 0.01525731484997872, &quot;z&quot;: -0.29487166212645993}, {&quot;x&quot;: 1.1775028586335476, &quot;y&quot;: -0.7406914810473001, &quot;z&quot;: -0.11478005542947248}], &quot;faces&quot;: [[0, 1, 2, 3], [1, 4, 5, 2], [4, 6, 7, 5], [6, 8, 9, 7], [8, 0, 3, 9]], &quot;color&quot;: &quot;#000000&quot;, &quot;opacity&quot;: 1.0}, {&quot;vertices&quot;: [{&quot;x&quot;: 1.5460986330224384, &quot;y&quot;: 0.43184279709089346, &quot;z&quot;: -0.8480135632657912}, {&quot;x&quot;: 1.5623547112057452, &quot;y&quot;: 0.4370946977434035, &quot;z&quot;: -0.8318598062373344}, {&quot;x&quot;: 1.67226719370386, &quot;y&quot;: -0.32101129111067145, &quot;z&quot;: -0.695993491988736}, {&quot;x&quot;: 1.6560111155205532, &quot;y&quot;: -0.3262631917631816, &quot;z&quot;: -0.712147249017193}, {&quot;x&quot;: 1.551535300442809, &quot;y&quot;: 0.43924713620245137, &quot;z&quot;: -0.8110970086434909}, {&quot;x&quot;: 1.6614477829409238, &quot;y&quot;: -0.31885885265162356, &quot;z&quot;: -0.6752306943948925}, {&quot;x&quot;: 1.5285924586697612, &quot;y&quot;: 0.4353255156763254, &quot;z&quot;: -0.8144186510574181}, {&quot;x&quot;: 1.638504941167876, &quot;y&quot;: -0.32278047317774966, &quot;z&quot;: -0.6785523368088197}, {&quot;x&quot;: 1.525232413418443, &quot;y&quot;: 0.43074938244115235, &quot;z&quot;: -0.8372343365615418}, {&quot;x&quot;: 1.6351448959165578, &quot;y&quot;: -0.3273566064129227, &quot;z&quot;: -0.7013680223129434}], &quot;faces&quot;: [[0, 1, 2, 3], [1, 4, 5, 2], [4, 6, 7, 5], [6, 8, 9, 7], [8, 0, 3, 9]], &quot;color&quot;: &quot;#000000&quot;, &quot;opacity&quot;: 1.0}, {&quot;vertices&quot;: [{&quot;x&quot;: 1.5271137448412446, &quot;y&quot;: 0.4429420305545039, &quot;z&quot;: -0.8379935685210727}, {&quot;x&quot;: 1.5373924915641979, &quot;y&quot;: 0.4224688478923348, &quot;z&quot;: -0.843283423149215}, {&quot;x&quot;: 0.9946297882123585, &quot;y&quot;: 0.009391127915399802, &quot;z&quot;: -0.2992050961136329}, {&quot;x&quot;: 0.9843510414894051, &quot;y&quot;: 0.02986431057756886, &quot;z&quot;: -0.2939152414854906}, {&quot;x&quot;: 1.5550926884508864, &quot;y&quot;: 0.4191086304165277, &quot;z&quot;: -0.8281771869142099}, {&quot;x&quot;: 1.012329985099047, &quot;y&quot;: 0.006030910439592703, &quot;z&quot;: -0.28409885987862776}, {&quot;x&quot;: 1.5557532650114718, &quot;y&quot;: 0.43750508446905656, &quot;z&quot;: -0.8135511648507492}, {&quot;x&quot;: 1.0129905616596324, &quot;y&quot;: 0.024427364492121597, &quot;z&quot;: -0.26947283781516707}, {&quot;x&quot;: 1.5384613268913965, &quot;y&quot;: 0.4522349358218023, &quot;z&quot;: -0.8196180223303297}, {&quot;x&quot;: 0.995698623539557, &quot;y&quot;: 0.039157215844867296, &quot;z&quot;: -0.27553969529474753}], &quot;faces&quot;: [[0, 1, 2, 3], [1, 4, 5, 2], [4, 6, 7, 5], [6, 8, 9, 7], [8, 0, 3, 9]], &quot;color&quot;: &quot;#000000&quot;, &quot;opacity&quot;: 1.0}];\n",
       "    for ( var i=0 ; i &lt; surfaces.length ; i++ ) addSurface( surfaces[i] );\n",
       "\n",
       "    function addSurface( json ) {\n",
       "\n",
       "        var useFaceColors = &#x27;faceColors&#x27; in json ? true : false;\n",
       "\n",
       "        var geometry = new THREE.Geometry();\n",
       "        for ( var i=0 ; i &lt; json.vertices.length ; i++ ) {\n",
       "            var v = json.vertices[i];\n",
       "            geometry.vertices.push( new THREE.Vector3( a[0]*v.x, a[1]*v.y, a[2]*v.z ) );\n",
       "        }\n",
       "        for ( var i=0 ; i &lt; json.faces.length ; i++ ) {\n",
       "            var f = json.faces[i];\n",
       "            for ( var j=0 ; j &lt; f.length - 2 ; j++ ) {\n",
       "                var face = new THREE.Face3( f[0], f[j+1], f[j+2] );\n",
       "                if ( useFaceColors ) face.color.set( json.faceColors[i] );\n",
       "                geometry.faces.push( face );\n",
       "            }\n",
       "        }\n",
       "        geometry.computeVertexNormals();\n",
       "\n",
       "        var side = json.singleSide ? THREE.FrontSide : THREE.DoubleSide;\n",
       "        var transparent = json.opacity &lt; 1 ? true : false;\n",
       "        var depthWrite = &#x27;depthWrite&#x27; in json ? json.depthWrite : !transparent;\n",
       "        var flatShading = json.useFlatShading ? json.useFlatShading : false;\n",
       "\n",
       "        var material = new THREE.MeshPhongMaterial( { side: side,\n",
       "                                     color: useFaceColors ? &#x27;white&#x27; : json.color,\n",
       "                                     vertexColors: useFaceColors ? THREE.FaceColors : THREE.NoColors,\n",
       "                                     transparent: transparent, opacity: json.opacity,\n",
       "                                     shininess: 20, flatShading: flatShading,\n",
       "                                     depthWrite: depthWrite } );\n",
       "\n",
       "        var c = new THREE.Vector3();\n",
       "        geometry.computeBoundingBox();\n",
       "        geometry.boundingBox.getCenter( c );\n",
       "        geometry.translate( -c.x, -c.y, -c.z );\n",
       "\n",
       "        var mesh = new THREE.Mesh( geometry, material );\n",
       "        mesh.position.set( c.x, c.y, c.z );\n",
       "        if ( transparent &amp;&amp; json.renderOrder ) mesh.renderOrder = json.renderOrder;\n",
       "        mesh.userData = json;\n",
       "        scene.add( mesh );\n",
       "\n",
       "        if ( json.showMeshGrid ) addSurfaceMeshGrid( json );\n",
       "\n",
       "    }\n",
       "\n",
       "    function addSurfaceMeshGrid( json ) {\n",
       "\n",
       "        var geometry = new THREE.Geometry();\n",
       "\n",
       "        for ( var i=0 ; i &lt; json.faces.length ; i++ ) {\n",
       "            var f = json.faces[i];\n",
       "            for ( var j=0 ; j &lt; f.length ; j++ ) {\n",
       "                var k = j === f.length-1 ? 0 : j+1;\n",
       "                var v1 = json.vertices[f[j]];\n",
       "                var v2 = json.vertices[f[k]];\n",
       "                // vertices in opposite directions on neighboring faces\n",
       "                var nudge = f[j] &lt; f[k] ? .0005*zRange : -.0005*zRange;\n",
       "                geometry.vertices.push( new THREE.Vector3( a[0]*v1.x, a[1]*v1.y, a[2]*(v1.z+nudge) ) );\n",
       "                geometry.vertices.push( new THREE.Vector3( a[0]*v2.x, a[1]*v2.y, a[2]*(v2.z+nudge) ) );\n",
       "            }\n",
       "        }\n",
       "\n",
       "        var c = new THREE.Vector3();\n",
       "        geometry.computeBoundingBox();\n",
       "        geometry.boundingBox.getCenter( c );\n",
       "        geometry.translate( -c.x, -c.y, -c.z );\n",
       "\n",
       "        var gridColor = options.theme === &#x27;dark&#x27; ? &#x27;white&#x27; : &#x27;black&#x27;;\n",
       "        var linewidth = json.linewidth || 1;\n",
       "        var materialOptions = { color: gridColor, linewidth: linewidth };\n",
       "\n",
       "        var mesh;\n",
       "        if ( linewidth &gt; 1 &amp;&amp; window.createFatLineSegments ) {\n",
       "            mesh = createFatLineSegments( geometry, materialOptions );\n",
       "        } else {\n",
       "            var material = new THREE.LineBasicMaterial( materialOptions );\n",
       "            mesh = new THREE.LineSegments( geometry, material );\n",
       "        }\n",
       "\n",
       "        mesh.position.set( c.x, c.y, c.z );\n",
       "        mesh.userData = json;\n",
       "        scene.add( mesh );\n",
       "\n",
       "    }\n",
       "\n",
       "    function render() {\n",
       "\n",
       "        if ( window.updateAnimation ) animate = updateAnimation();\n",
       "        if ( animate ) requestAnimationFrame( render );\n",
       "\n",
       "        renderer.render( scene, camera );\n",
       "\n",
       "    }\n",
       "\n",
       "    render();\n",
       "    controls.update();\n",
       "    if ( !animate ) render();\n",
       "\n",
       "\n",
       "    // menu functions\n",
       "\n",
       "    function toggleMenu() {\n",
       "\n",
       "        var m = document.getElementById( &#x27;menu-content&#x27; );\n",
       "        if ( m.style.display === &#x27;block&#x27; ) m.style.display = &#x27;none&#x27;\n",
       "        else m.style.display = &#x27;block&#x27;;\n",
       "\n",
       "    }\n",
       "\n",
       "\n",
       "    function saveAsPNG() {\n",
       "\n",
       "        var a = document.body.appendChild( document.createElement( &#x27;a&#x27; ) );\n",
       "        a.href = renderer.domElement.toDataURL( &#x27;image/png&#x27; );\n",
       "        a.download = &#x27;screenshot&#x27;;\n",
       "        a.click();\n",
       "\n",
       "    }\n",
       "\n",
       "    function saveAsHTML() {\n",
       "\n",
       "        toggleMenu(); // otherwise visible in output\n",
       "        event.stopPropagation();\n",
       "\n",
       "        var blob = new Blob( [ &#x27;&lt;!DOCTYPE html&gt;\\n&#x27; + document.documentElement.outerHTML ] );\n",
       "        var a = document.body.appendChild( document.createElement( &#x27;a&#x27; ) );\n",
       "        a.href = window.URL.createObjectURL( blob );\n",
       "        a.download = suggestFilename();\n",
       "        a.click();\n",
       "\n",
       "        function suggestFilename() {\n",
       "            if ( !document.title ) {\n",
       "                return &#x27;graphic.html&#x27;;\n",
       "            } else if ( /\\.html?$/i.test( document.title ) ) {\n",
       "                return document.title; // already ends in .htm or .html\n",
       "            } else {\n",
       "                return document.title + &#x27;.html&#x27;;\n",
       "            }\n",
       "        }\n",
       "\n",
       "    }\n",
       "\n",
       "    function getViewpoint() {\n",
       "\n",
       "        function roundTo( x, n ) { return +x.toFixed(n); }\n",
       "\n",
       "        var v = camera.quaternion.inverse();\n",
       "        var r = Math.sqrt( v.x*v.x + v.y*v.y + v.z*v.z );\n",
       "        var axis = [ roundTo( v.x / r, 4 ), roundTo( v.y / r, 4 ), roundTo( v.z / r, 4 ) ];\n",
       "        var angle = roundTo( 2 * Math.atan2( r, v.w ) * 180 / Math.PI, 2 );\n",
       "\n",
       "        var textArea = document.createElement( &#x27;textarea&#x27; );\n",
       "        textArea.textContent = JSON.stringify( axis ) + &#x27;,&#x27; + angle;\n",
       "        textArea.style.csstext = &#x27;position: absolute; top: -100%&#x27;;\n",
       "        document.body.append( textArea );\n",
       "        textArea.select();\n",
       "        document.execCommand( &#x27;copy&#x27; );\n",
       "\n",
       "        var m = document.getElementById( &#x27;menu-message&#x27; );\n",
       "        m.innerHTML = &#x27;Viewpoint copied to clipboard&#x27;;\n",
       "        m.style.display = &#x27;block&#x27;;\n",
       "        setTimeout( function() { m.style.display = &#x27;none&#x27;; }, 2000 );\n",
       "\n",
       "    }\n",
       "\n",
       "    function getCamera() {\n",
       "\n",
       "        function roundTo( x, n ) { return +x.toFixed(n); }\n",
       "\n",
       "        var pos = camera.position;\n",
       "        var pos_r = [ roundTo( pos.x, 4 ), roundTo( pos.y, 4 ), roundTo( pos.z, 4 ) ];\n",
       "   //     var up = camera.up; // up is always (0,0,1)\n",
       "        var textArea = document.createElement(&#x27;textarea&#x27;);\n",
       "        var cam_position = JSON.stringify(pos_r);\n",
       "        textArea.textContent = &#x27;,camera_position=&#x27; + cam_position;\n",
       "        textArea.style.csstext = &#x27;position: absolute; top: -100%&#x27;;\n",
       "        document.body.append( textArea );\n",
       "        textArea.select();\n",
       "        document.execCommand( &#x27;copy&#x27; );\n",
       "\n",
       "        var m = document.getElementById( &#x27;menu-message&#x27; );\n",
       "        m.innerHTML = &#x27;Camera position &#x27;+ cam_position+&#x27; copied to clipboard&#x27;;\n",
       "        m.style.display = &#x27;block&#x27;;\n",
       "        setTimeout( function() { m.style.display = &#x27;none&#x27;; }, 2000 );\n",
       "\n",
       "    }\n",
       "\n",
       "&lt;/script&gt;\n",
       "\n",
       "&lt;div id=&quot;menu-container&quot; onclick=&quot;toggleMenu()&quot;&gt;&amp;#x24d8;\n",
       "&lt;div id=&quot;menu-message&quot;&gt;&lt;/div&gt;\n",
       "&lt;div id=&quot;menu-content&quot;&gt;\n",
       "&lt;div onclick=&quot;saveAsPNG()&quot;&gt;Save as PNG&lt;/div&gt;\n",
       "&lt;div onclick=&quot;saveAsHTML()&quot;&gt;Save as HTML&lt;/div&gt;\n",
       "&lt;div onclick=&quot;getCamera()&quot;&gt;Get camera&lt;/div&gt;\n",
       "&lt;div onclick=&quot;getViewpoint()&quot;&gt;Get viewpoint&lt;/div&gt;\n",
       "&lt;div&gt;Close Menu&lt;/div&gt;\n",
       "&lt;/div&gt;&lt;/div&gt;\n",
       "\n",
       "\n",
       "&lt;/body&gt;\n",
       "&lt;/html&gt;\n",
       "\"\n",
       "        width=\"100%\"\n",
       "        height=\"400\"\n",
       "        style=\"border: 0;\">\n",
       "</iframe>\n"
      ],
      "text/plain": [
       "Graphics3d Object"
      ]
     },
     "metadata": {},
     "output_type": "display_data"
    }
   ],
   "source": [
    "H = graphs.CubeGraph(4)\n",
    "\n",
    "H.show3d()"
   ]
  },
  {
   "cell_type": "code",
   "execution_count": 28,
   "id": "08c09d91",
   "metadata": {
    "vscode": {
     "languageId": "sage"
    }
   },
   "outputs": [],
   "source": [
    "def hiperkocke_do_n(n):\n",
    "    for i in range(1, n + 1):\n",
    "        G = graphs.CubeGraph(i)\n",
    "        kappa_2crti = kappa_2_crti(G)\n",
    "        print(f\"- velikost: {i} : kappa = {kappa_2crti}\")\n",
    "        for k in range(kappa_2crti):\n",
    "            wmdim, _ = CLP_weak_k_dim(G, k)\n",
    "            print(f\"  k = {k}, wmdim = {wmdim}\")"
   ]
  },
  {
   "cell_type": "code",
   "execution_count": 32,
   "id": "8a3b8775",
   "metadata": {
    "vscode": {
     "languageId": "sage"
    }
   },
   "outputs": [
    {
     "name": "stdout",
     "output_type": "stream",
     "text": [
      "- velikost: 1 : kappa = 2\n",
      "  k = 0, wmdim = 0.0\n",
      "  k = 1, wmdim = 1.0\n",
      "- velikost: 2 : kappa = 4\n",
      "  k = 0, wmdim = 0.0\n",
      "  k = 1, wmdim = 2.0\n",
      "  k = 2, wmdim = 2.0\n",
      "  k = 3, wmdim = 4.0\n",
      "- velikost: 3 : kappa = 8\n",
      "  k = 0, wmdim = 0.0\n",
      "  k = 1, wmdim = 3.0\n",
      "  k = 2, wmdim = 3.0\n",
      "  k = 3, wmdim = 4.0\n",
      "  k = 4, wmdim = 4.0\n",
      "  k = 5, wmdim = 7.0\n",
      "  k = 6, wmdim = 7.0\n",
      "  k = 7, wmdim = 8.0\n",
      "- velikost: 4 : kappa = 16\n",
      "  k = 0, wmdim = 0.0\n",
      "  k = 1, wmdim = 4.0\n",
      "  k = 2, wmdim = 4.0\n",
      "  k = 3, wmdim = 4.0\n",
      "  k = 4, wmdim = 4.0\n",
      "  k = 5, wmdim = 7.0\n",
      "  k = 6, wmdim = 7.0\n",
      "  k = 7, wmdim = 8.0\n",
      "  k = 8, wmdim = 8.0\n",
      "  k = 9, wmdim = 11.0\n",
      "  k = 10, wmdim = 11.0\n",
      "  k = 11, wmdim = 12.0\n",
      "  k = 12, wmdim = 12.0\n",
      "  k = 13, wmdim = 15.0\n",
      "  k = 14, wmdim = 15.0\n",
      "  k = 15, wmdim = 16.0\n"
     ]
    }
   ],
   "source": [
    "# tole pa nevem, če bo šlo tko. Če prou razumem, ma hiperkocka(n) 2^n vozlišč, kar zelo hitro rata zelo veliko\n",
    "\n",
    "hiperkocke_do_n(4)\n",
    "\n",
    "# kappa_2_crti(graphs.CubeGraph(5)) - po 14min sem obupala."
   ]
  },
  {
   "cell_type": "markdown",
   "id": "419b74a0",
   "metadata": {},
   "source": [
    "Za prvih nekaj grafov zgleda, kot, da bo formula $\\kappa''(G) = n$, kjer je $n$ dimenzija hiperkocke. Na podlagi rezultatov na $wmdim_k(G)$ v odvisnosti od $k$ ne znam še sklepati."
   ]
  }
 ],
 "metadata": {
  "kernelspec": {
   "display_name": "SageMath 10.4",
   "language": "sage",
   "name": "sagemath"
  },
  "language_info": {
   "codemirror_mode": {
    "name": "ipython",
    "version": 3
   },
   "file_extension": ".py",
   "mimetype": "text/x-python",
   "name": "python",
   "nbconvert_exporter": "python",
   "pygments_lexer": "ipython3",
   "version": "3.10.16"
  }
 },
 "nbformat": 4,
 "nbformat_minor": 5
}

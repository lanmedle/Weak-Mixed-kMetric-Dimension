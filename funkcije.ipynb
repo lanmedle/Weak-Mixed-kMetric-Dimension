{
 "cells": [
  {
   "cell_type": "markdown",
   "metadata": {},
   "source": [
    "# Weak Mixed k-Metric Dimensions\n",
    "Za začetek napišimo CLP program, ki bo vrnil $wmdim_k(G)$ in pripadajoč \"resolving set\" $S$. Pred tem pa definirajmo še razdaljo med vozlišči in povezavami."
   ]
  },
  {
   "cell_type": "code",
   "execution_count": 6,
   "metadata": {
    "vscode": {
     "languageId": "sage"
    }
   },
   "outputs": [],
   "source": [
    "from sage.numerical.mip import MixedIntegerLinearProgram\n",
    "\n",
    "def razdalja(moznost, vozlisce, G):\n",
    "    c, a = moznost\n",
    "    if c == 'e':\n",
    "        U, V = a\n",
    "        return min(G.distance(U, vozlisce), G.distance(V, vozlisce))\n",
    "    else:\n",
    "        return G.distance(a, vozlisce)"
   ]
  },
  {
   "cell_type": "code",
   "execution_count": 7,
   "metadata": {
    "vscode": {
     "languageId": "sage"
    }
   },
   "outputs": [],
   "source": [
    "def CLP_weak_k_dim(G, k):\n",
    "    p = MixedIntegerLinearProgram(maximization=False)\n",
    "    x = p.new_variable(binary=True)\n",
    "\n",
    "    V = G.vertices()\n",
    "    E = G.edges(labels=False)\n",
    "\n",
    "    moznosti = [('v', v) for v in V] + [('e', e) for e in E]\n",
    "\n",
    "    p.set_objective(sum(x[v] for v in V))\n",
    "    \n",
    "    for a, b in Combinations(moznosti, 2):\n",
    "        p.add_constraint(\n",
    "            sum(abs(razdalja(a, v, G) - razdalja(b, v, G)) * x[v] for v in V) >= k\n",
    "            )\n",
    "\n",
    "    wmdim_k = p.solve()\n",
    "    mnozica_S = [v for v in V if p.get_values(x[v]) > 0.5]\n",
    "\n",
    "    return (wmdim_k, mnozica_S)"
   ]
  },
  {
   "cell_type": "markdown",
   "metadata": {},
   "source": [
    "Sedaj definirajmo še funkcijo $\\kappa''(G)$, ki je po definiciji največja vrednost $k$ za katero je $wmdim_k(G)$ še definirana."
   ]
  },
  {
   "cell_type": "code",
   "execution_count": 8,
   "metadata": {
    "vscode": {
     "languageId": "sage"
    }
   },
   "outputs": [],
   "source": [
    "def kappa_2_crti(G):\n",
    "    k = 1\n",
    "    while True:\n",
    "        try:\n",
    "            CLP_weak_k_dim(G, k)\n",
    "            k += 1\n",
    "        except:\n",
    "            return k - 1"
   ]
  }
 ],
 "metadata": {
  "kernelspec": {
   "display_name": "SageMath 10.4",
   "language": "sage",
   "name": "sagemath"
  },
  "language_info": {
   "codemirror_mode": {
    "name": "ipython",
    "version": 3
   },
   "file_extension": ".py",
   "mimetype": "text/x-python",
   "name": "python",
   "nbconvert_exporter": "python",
   "pygments_lexer": "ipython3",
   "version": "3.10.16"
  }
 },
 "nbformat": 4,
 "nbformat_minor": 2
}

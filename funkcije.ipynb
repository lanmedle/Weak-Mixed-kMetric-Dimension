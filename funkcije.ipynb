{
 "cells": [
  {
   "cell_type": "markdown",
   "metadata": {},
   "source": [
    "# Weak Mixed k-Metric Dimensions\n",
    "Za začetek napišimo CLP program, ki bo vrnil $wmdim_k(G)$ in pripadajoč \"resolving set\" $S$."
   ]
  },
  {
   "cell_type": "code",
   "execution_count": 3,
   "metadata": {
    "vscode": {
     "languageId": "sage"
    }
   },
   "outputs": [],
   "source": [
    "from sage.numerical.mip import MixedIntegerLinearProgram\n",
    "\n",
    "def CLP_weak_k_dim(G, k):\n",
    "    p = MixedIntegerLinearProgram(maximization=False)\n",
    "    x = p.new_variable(binary=True)\n",
    "\n",
    "    V = G.vertices()\n",
    "    n = len(V)\n",
    "\n",
    "    p.set_objective(sum(x[i] for i in range(n)))\n",
    "\n",
    "    for a in range(n):\n",
    "        for b in range(a + 1, n):\n",
    "            p.add_constraint(\n",
    "                sum(abs(G.distance(V[a], V[i]) - G.distance(V[b], V[i])) * x[i] for i in range(n)) >= k\n",
    "            )\n",
    "            \n",
    "    wmdim_k = p.solve()\n",
    "    mnozica_S = [V[i] for i in range(n) if p.get_values(x[i]) > 0.5]\n",
    "\n",
    "    return (wmdim_k, mnozica_S)"
   ]
  },
  {
   "cell_type": "markdown",
   "metadata": {},
   "source": [
    "Sedaj definirajmo še funkcijo $\\kappa''(G)$, ki je po definiciji največja vrednost $k$ za katero je $wmdim_k(G)$ še definirana."
   ]
  },
  {
   "cell_type": "code",
   "execution_count": 4,
   "metadata": {
    "vscode": {
     "languageId": "sage"
    }
   },
   "outputs": [],
   "source": [
    "def kappa_2_crti(G):\n",
    "    k = 1\n",
    "    while True:\n",
    "        try:\n",
    "            CLP_weak_k_dim(G, k)\n",
    "            k += 1\n",
    "        except:\n",
    "            return k - 1"
   ]
  }
 ],
 "metadata": {
  "language_info": {
   "name": "python"
  }
 },
 "nbformat": 4,
 "nbformat_minor": 2
}

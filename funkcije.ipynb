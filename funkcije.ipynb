{
 "cells": [
  {
   "cell_type": "markdown",
   "metadata": {},
   "source": [
    "# Weak Mixed k-Metric Dimensions\n",
    "Za začetek napišimo CLP program, ki bo vrnil $wmdim_k(G)$ in pripadajoč \"resolving set\" $S$. Pred tem pa definirajmo še razdaljo med vozlišči in povezavami."
   ]
  },
  {
   "cell_type": "code",
   "execution_count": 1,
   "metadata": {
    "vscode": {
     "languageId": "sage"
    }
   },
   "outputs": [],
   "source": [
    "from sage.numerical.mip import MixedIntegerLinearProgram\n",
    "\n",
    "def razdalja(moznost, vozlisce, G):\n",
    "    c, a = moznost\n",
    "    if c == 'e':\n",
    "        U, V = a\n",
    "        return min(G.distance(U, vozlisce), G.distance(V, vozlisce))\n",
    "    else:\n",
    "        return G.distance(a, vozlisce)"
   ]
  },
  {
   "cell_type": "code",
   "execution_count": 2,
   "metadata": {
    "vscode": {
     "languageId": "sage"
    }
   },
   "outputs": [],
   "source": [
    "def CLP_weak_k_dim(G, k):\n",
    "    p = MixedIntegerLinearProgram(maximization=False)\n",
    "    x = p.new_variable(binary=True)\n",
    "\n",
    "    V = G.vertices()\n",
    "    E = G.edges(labels=False)\n",
    "\n",
    "    moznosti = [('v', v) for v in V] + [('e', e) for e in E]\n",
    "\n",
    "    p.set_objective(sum(x[v] for v in V))\n",
    "    \n",
    "    for a, b in Combinations(moznosti, 2):\n",
    "        p.add_constraint(\n",
    "            sum(abs(razdalja(a, v, G) - razdalja(b, v, G)) * x[v] for v in V) >= k\n",
    "            )\n",
    "\n",
    "    wmdim_k = p.solve()\n",
    "    mnozica_S = [v for v in V if p.get_values(x[v]) > 0.5]\n",
    "\n",
    "    return (wmdim_k, mnozica_S)"
   ]
  },
  {
   "cell_type": "markdown",
   "metadata": {},
   "source": [
    "Sedaj definirajmo še funkcijo $\\kappa''(G)$, ki je po definiciji največja vrednost $k$ za katero je $wmdim_k(G)$ še definirana."
   ]
  },
  {
   "cell_type": "code",
   "execution_count": 3,
   "metadata": {
    "vscode": {
     "languageId": "sage"
    }
   },
   "outputs": [],
   "source": [
    "def kappa_2_crti(G):\n",
    "    k = 1\n",
    "    while True:\n",
    "        try:\n",
    "            CLP_weak_k_dim(G, k)\n",
    "            k += 1\n",
    "        except:\n",
    "            return k - 1"
   ]
  },
  {
   "cell_type": "markdown",
   "metadata": {},
   "source": [
    "## Cikli"
   ]
  },
  {
   "cell_type": "code",
   "execution_count": 4,
   "metadata": {
    "vscode": {
     "languageId": "sage"
    }
   },
   "outputs": [],
   "source": [
    "def cikli_do_n(n):\n",
    "    for i in range(3, n + 1):\n",
    "        G = graphs.CycleGraph(i) \n",
    "        kappa_2crti = kappa_2_crti(G)\n",
    "        print(f\"- velikost: {i} : kappa = {kappa_2crti}\")\n",
    "        for k in range(1, kappa_2crti + 1):\n",
    "            wmdim, _ = CLP_weak_k_dim(G, k)\n",
    "            print(f\"  k = {k}, wmdim = {wmdim}\")"
   ]
  },
  {
   "cell_type": "code",
   "execution_count": 5,
   "metadata": {
    "vscode": {
     "languageId": "sage"
    }
   },
   "outputs": [
    {
     "name": "stdout",
     "output_type": "stream",
     "text": [
      "- velikost: 3 : kappa = 1\n",
      "  k = 1, wmdim = 3.0\n",
      "- velikost: 4 : kappa = 2\n",
      "  k = 1, wmdim = 3.0\n",
      "  k = 2, wmdim = 4.0\n",
      "- velikost: 5 : kappa = 2\n",
      "  k = 1, wmdim = 3.0\n",
      "  k = 2, wmdim = 5.0\n",
      "- velikost: 6 : kappa = 3\n",
      "  k = 1, wmdim = 3.0\n",
      "  k = 2, wmdim = 4.0\n",
      "  k = 3, wmdim = 6.0\n",
      "- velikost: 7 : kappa = 3\n",
      "  k = 1, wmdim = 3.0\n",
      "  k = 2, wmdim = 5.0\n",
      "  k = 3, wmdim = 7.0\n",
      "- velikost: 8 : kappa = 4\n",
      "  k = 1, wmdim = 3.0\n",
      "  k = 2, wmdim = 4.0\n",
      "  k = 3, wmdim = 6.0\n",
      "  k = 4, wmdim = 8.0\n",
      "- velikost: 9 : kappa = 4\n",
      "  k = 1, wmdim = 3.0\n",
      "  k = 2, wmdim = 5.0\n",
      "  k = 3, wmdim = 7.0\n",
      "  k = 4, wmdim = 9.0\n",
      "- velikost: 10 : kappa = 5\n",
      "  k = 1, wmdim = 3.0\n",
      "  k = 2, wmdim = 4.0\n",
      "  k = 3, wmdim = 6.0\n",
      "  k = 4, wmdim = 8.0\n",
      "  k = 5, wmdim = 10.0\n"
     ]
    }
   ],
   "source": [
    "cikli_do_n(10)"
   ]
  },
  {
   "cell_type": "markdown",
   "metadata": {},
   "source": [
    "Glede na dani vzorec sklepam, da je $$\\kappa''(G)= \\Big\\lfloor \\frac{n}{2} \\Big\\rfloor.$$ \n",
    "\n",
    "Za $wmdim_k(G)$ pa lahko opazimo naslednjo formulo: $$wmdim_1(G) = 3,$$\n",
    "$$wmdim_k(G) = \\begin{cases}\n",
    "2k, &\\text{če} \\ n \\ \\text{sod}\\\\\n",
    "2k + 1, &\\text{če} \\ n \\ \\text{lih}\n",
    "\\end{cases}$$"
   ]
  },
  {
   "cell_type": "markdown",
   "metadata": {},
   "source": [
    "## Hiperkocke"
   ]
  },
  {
   "cell_type": "code",
   "execution_count": 6,
   "metadata": {
    "vscode": {
     "languageId": "sage"
    }
   },
   "outputs": [],
   "source": [
    "def hiperkocke_do_n(n):\n",
    "    for i in range(1, n + 1):\n",
    "        G = graphs.CubeGraph(i)\n",
    "        kappa_2crti = kappa_2_crti(G)\n",
    "        print(f\"- velikost: {i} : kappa = {kappa_2crti}\")\n",
    "        for k in range(kappa_2crti + 1):\n",
    "            wmdim, _ = CLP_weak_k_dim(G, k)\n",
    "            print(f\"  k = {k}, wmdim = {wmdim}\")"
   ]
  },
  {
   "cell_type": "code",
   "execution_count": 7,
   "metadata": {
    "vscode": {
     "languageId": "sage"
    }
   },
   "outputs": [
    {
     "name": "stdout",
     "output_type": "stream",
     "text": [
      "- velikost: 1 : kappa = 1\n",
      "  k = 0, wmdim = 0.0\n",
      "  k = 1, wmdim = 2.0\n",
      "- velikost: 2 : kappa = 2\n",
      "  k = 0, wmdim = 0.0\n",
      "  k = 1, wmdim = 3.0\n",
      "  k = 2, wmdim = 4.0\n",
      "- velikost: 3 : kappa = 4\n",
      "  k = 0, wmdim = 0.0\n",
      "  k = 1, wmdim = 3.0\n",
      "  k = 2, wmdim = 4.0\n",
      "  k = 3, wmdim = 7.0\n",
      "  k = 4, wmdim = 8.0\n",
      "- velikost: 4 : kappa = 8\n",
      "  k = 0, wmdim = 0.0\n",
      "  k = 1, wmdim = 4.0\n",
      "  k = 2, wmdim = 5.0\n",
      "  k = 3, wmdim = 7.0\n",
      "  k = 4, wmdim = 8.0\n",
      "  k = 5, wmdim = 11.0\n",
      "  k = 6, wmdim = 14.0\n",
      "  k = 7, wmdim = 15.0\n",
      "  k = 8, wmdim = 16.0\n"
     ]
    }
   ],
   "source": [
    "hiperkocke_do_n(4)"
   ]
  },
  {
   "cell_type": "markdown",
   "metadata": {},
   "source": [
    "Na podlagi rezultatov za prvih nekaj $n$ lahko sklepamo, da je $\\kappa''(G) = 2^{n-1}$. Za $wmdim_k(G)$ zaenkrat težko sklepam."
   ]
  }
 ],
 "metadata": {
  "kernelspec": {
   "display_name": "SageMath 10.4",
   "language": "sage",
   "name": "sagemath"
  },
  "language_info": {
   "codemirror_mode": {
    "name": "ipython",
    "version": 3
   },
   "file_extension": ".py",
   "mimetype": "text/x-python",
   "name": "python",
   "nbconvert_exporter": "python",
   "pygments_lexer": "ipython3",
   "version": "3.10.16"
  }
 },
 "nbformat": 4,
 "nbformat_minor": 2
}
